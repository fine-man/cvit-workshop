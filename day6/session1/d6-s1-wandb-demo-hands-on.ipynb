{
  "metadata": {
    "colab": {
      "provenance": [],
      "include_colab_link": true
    },
    "kernelspec": {
      "name": "python3",
      "display_name": "Python 3",
      "language": "python"
    },
    "language_info": {
      "name": "python",
      "version": "3.10.10",
      "mimetype": "text/x-python",
      "codemirror_mode": {
        "name": "ipython",
        "version": 3
      },
      "pygments_lexer": "ipython3",
      "nbconvert_exporter": "python",
      "file_extension": ".py"
    },
    "accelerator": "GPU",
    "gpuClass": "standard"
  },
  "nbformat_minor": 0,
  "nbformat": 4,
  "cells": [
    {
      "cell_type": "markdown",
      "metadata": {
        "id": "view-in-github",
        "colab_type": "text"
      },
      "source": [
        "<a href=\"https://colab.research.google.com/github/fine-man/cvit-workshop/blob/main/day6/session1/d6-s1-wandb-demo-hands-on.ipynb\" target=\"_parent\"><img src=\"https://colab.research.google.com/assets/colab-badge.svg\" alt=\"Open In Colab\"/></a>"
      ]
    },
    {
      "cell_type": "markdown",
      "source": [
        "# Using wandb to track experiments.\n",
        "\n",
        "Demo task: multi-class image classification using CIFAR10 dataset."
      ],
      "metadata": {
        "id": "h6hjehhHW4tC"
      }
    },
    {
      "cell_type": "code",
      "source": [
        "from sklearn.metrics import average_precision_score\n",
        "from torch.utils.data import DataLoader\n",
        "from torchvision import datasets, models\n",
        "from torchvision import transforms as T\n",
        "from tqdm import tqdm\n",
        "\n",
        "import torch\n",
        "import torch.nn as nn\n",
        "import torch.optim as optim\n",
        "\n",
        "\n",
        "device = torch.device(\"cuda\" if torch.cuda.is_available() else \"cpu\")\n"
      ],
      "metadata": {
        "id": "OUnLA0ASMK4Z",
        "trusted": true
      },
      "execution_count": null,
      "outputs": []
    },
    {
      "cell_type": "markdown",
      "source": [
        "# The next cell includes-\n",
        "- Collecting the CIFAR10 dataset and defining data loaders.\n",
        "- Methods to load model, criterion, optimizer and schedulers.\n",
        "- Definition of AverageMeter"
      ],
      "metadata": {
        "id": "s8hEreACXETi"
      }
    },
    {
      "cell_type": "code",
      "source": [
        "# Downloading CIFAR10 dataset\n",
        "inp_transforms = T.Compose([T.ToTensor(),\n",
        "                            T.Normalize(mean=[0.485, 0.456, 0.406],\n",
        "                                        std=[0.229, 0.224, 0.225])])\n",
        "tgt_transforms = T.Lambda(lambda y: torch.zeros(10, dtype=torch.long).scatter_(0, torch.tensor(y), value=1))\n",
        "cifar10 = datasets.CIFAR10(root = \"/.\",\n",
        "                           transform = inp_transforms,\n",
        "                           target_transform = tgt_transforms,\n",
        "                           download = True)\n",
        "\n",
        "# Defining dataset split (80-20)\n",
        "train_dataset, val_dataset = torch.utils.data.random_split(cifar10,\n",
        "                                                           [int(len(cifar10)*0.80), int(len(cifar10)*0.20)])\n",
        "\n",
        "# Defining the dataloaders\n",
        "train_dataloader = DataLoader(train_dataset,\n",
        "                              batch_size=200,\n",
        "                              shuffle=True)\n",
        "val_dataloader = DataLoader(val_dataset,\n",
        "                            batch_size=200,\n",
        "                            shuffle=False)\n",
        "\n",
        "\n",
        "# Method to get model based on config param model_type\n",
        "def get_model(model_type):\n",
        "    model = None\n",
        "    if model_type == \"pretrained\": # Loading pretrained ResNet18 and with updated to final fc layer. \n",
        "        model = models.resnet18(pretrained=True)\n",
        "        model.fc = nn.Linear(512, 10)\n",
        "        model = model.to(device)\n",
        "    elif model_type == \"scratch\": # Loading a blank ResNet18 which generated 10 outputs.\n",
        "        model = models.resnet18(num_classes=10)\n",
        "        model = model.to(device)\n",
        "    else:\n",
        "        raise NotImplemented\n",
        "    return model\n",
        "\n",
        "\n",
        "# Method to get criterion, optimizer and scheduler based on config params.\n",
        "def get_criterion_optimizer_scheduler(config, model):\n",
        "    optim_dct = {\n",
        "        \"adam\": optim.Adam,\n",
        "        \"SGD\": optim.SGD,\n",
        "        \"RMSprop\": optim.RMSprop\n",
        "    }\n",
        "    optimizer = optim_dct[config[\"optimizer\"]](model.parameters(), lr=config[\"lr\"])\n",
        "    scheduler = torch.optim.lr_scheduler.ReduceLROnPlateau(optimizer,\n",
        "                                                           factor=0.1,\n",
        "                                                           patience=config[\"scheduler_patience\"],\n",
        "                                                           threshold=config[\"scheduler_thresh\"])\n",
        "    criterion = nn.CrossEntropyLoss()\n",
        "    return criterion, optimizer, scheduler\n",
        "\n",
        "\n",
        "\n",
        "# Remainder of this cell includes definition of AverageMeter (can be ignored)\n",
        "\"\"\"\n",
        "Code taken from Pytorch ImageNet examples\n",
        "https://github.com/pytorch/examples/blob/main/imagenet/main.py#L375\n",
        "\"\"\"\n",
        "class Summary():\n",
        "    NONE = 0\n",
        "    AVERAGE = 1\n",
        "    SUM = 2\n",
        "    COUNT = 3\n",
        "\n",
        "class AverageMeter(object):\n",
        "    \"\"\"Computes and stores the average and current value\"\"\"\n",
        "    def __init__(self, name, fmt=':f', summary_type=Summary.AVERAGE):\n",
        "        self.name = name\n",
        "        self.fmt = fmt\n",
        "        self.summary_type = summary_type\n",
        "        self.val_history = list()\n",
        "        self.reset()\n",
        "\n",
        "    def reset(self):\n",
        "        self.val = 0\n",
        "        self.avg = 0\n",
        "        self.sum = 0\n",
        "        self.count = 0\n",
        "        self.val_history = list()\n",
        "\n",
        "    def update(self, val, n=1):\n",
        "        self.val = val\n",
        "        self.sum += val * n\n",
        "        self.count += n\n",
        "        self.avg = self.sum / self.count\n",
        "        self.val_history.append(val)\n",
        "\n",
        "    def __str__(self):\n",
        "        fmtstr = '{name} {val' + self.fmt + '} ({avg' + self.fmt + '})'\n",
        "        return fmtstr.format(**self.__dict__)\n",
        "    \n",
        "    def summary(self):\n",
        "        fmtstr = ''\n",
        "        if self.summary_type is Summary.NONE:\n",
        "            fmtstr = ''\n",
        "        elif self.summary_type is Summary.AVERAGE:\n",
        "            fmtstr = '{name} {avg:.3f}'\n",
        "        elif self.summary_type is Summary.SUM:\n",
        "            fmtstr = '{name} {sum:.3f}'\n",
        "        elif self.summary_type is Summary.COUNT:\n",
        "            fmtstr = '{name} {count:.3f}'\n",
        "        else:\n",
        "            raise ValueError('invalid summary type %r' % self.summary_type)        \n",
        "        return fmtstr.format(**self.__dict__)\n"
      ],
      "metadata": {
        "id": "N0IyFq2jMUTZ",
        "execution": {
          "iopub.status.busy": "2023-05-27T07:36:31.616476Z",
          "iopub.execute_input": "2023-05-27T07:36:31.617064Z",
          "iopub.status.idle": "2023-05-27T07:36:41.820204Z",
          "shell.execute_reply.started": "2023-05-27T07:36:31.617029Z",
          "shell.execute_reply": "2023-05-27T07:36:41.819243Z"
        },
        "trusted": true,
        "outputId": "43d6ad2f-42ec-4d68-b776-1506c779cf19"
      },
      "execution_count": null,
      "outputs": [
        {
          "name": "stdout",
          "text": "Downloading https://www.cs.toronto.edu/~kriz/cifar-10-python.tar.gz to /./cifar-10-python.tar.gz\n",
          "output_type": "stream"
        },
        {
          "name": "stderr",
          "text": "100%|██████████| 170498071/170498071 [00:05<00:00, 29091127.41it/s]\n",
          "output_type": "stream"
        },
        {
          "name": "stdout",
          "text": "Extracting /./cifar-10-python.tar.gz to /.\n",
          "output_type": "stream"
        }
      ]
    },
    {
      "cell_type": "markdown",
      "source": [
        "# Following cell includes-\n",
        "- Defining the train and eval loops.\n",
        "- Method to trigger training loops based on config parameters."
      ],
      "metadata": {
        "id": "UIEngQlXXfi6"
      }
    },
    {
      "cell_type": "code",
      "source": [
        "# The train function without wandb logging\n",
        "\n",
        "def train(model, criterion, optimizer, scheduler, epochs, train_dataloader, val_dataloader, device):\n",
        "    for epoch in range(epochs):\n",
        "        model.train()\n",
        "        loss_meter = AverageMeter(\"train_loss\", \":.5f\")\n",
        "        epoch_outs, epoch_tgt = list(), list()\n",
        "        for data, tgt_vec in tqdm(train_dataloader):\n",
        "            data, tgt_vec = data.to(device), tgt_vec.to(device)\n",
        "            targets = torch.argmax(tgt_vec, axis=1)\n",
        "            optimizer.zero_grad()\n",
        "            out = model(data)\n",
        "            loss = criterion(out, targets)\n",
        "            loss_meter.update(loss.item(), data.shape[0])\n",
        "            loss.backward()\n",
        "            optimizer.step()\n",
        "            epoch_outs.append(out)\n",
        "            epoch_tgt.append(tgt_vec)\n",
        "        predictions = torch.vstack([torch.softmax(out, axis=1) for out in epoch_outs]).detach().cpu().numpy()\n",
        "        targets = torch.cat([tgt for tgt in epoch_tgt], dim=0).detach().cpu().numpy()\n",
        "        ap_score = average_precision_score(targets, predictions)\n",
        "        eval_loss_meter, eval_ap_score = evaluate(model, criterion, val_dataloader, device)\n",
        "        data_to_log = {\n",
        "            \"epoch\": epoch+1,\n",
        "            \"train_loss\": loss_meter.avg,\n",
        "            \"eval_loss\": eval_loss_meter.avg,\n",
        "            \"train_ap_score\": ap_score,\n",
        "            \"eval_ap_score\": eval_ap_score,\n",
        "            \"lr\": optimizer.state_dict()[\"param_groups\"][0][\"lr\"],\n",
        "        }\n",
        "        scheduler.step(eval_loss_meter.avg)\n",
        "        wandb.log(data_to_log)\n",
        "        print(data_to_log)\n",
        "\n",
        "\n",
        "@torch.no_grad()\n",
        "def evaluate(model, criterion, val_dataloader, device):\n",
        "    model.eval()\n",
        "    loss_meter = AverageMeter(\"eval_loss\", \":.5f\")\n",
        "    epoch_outs, epoch_tgt = list(), list()\n",
        "    for data, tgt_vec in val_dataloader:\n",
        "        data, tgt_vec = data.to(device), tgt_vec.to(device)\n",
        "        targets = torch.argmax(tgt_vec, axis=1)\n",
        "        out = model(data)\n",
        "        loss = criterion(out, targets)\n",
        "        loss_meter.update(loss.item(), data.shape[0])\n",
        "        epoch_outs.append(out)\n",
        "        epoch_tgt.append(tgt_vec)\n",
        "    predictions = torch.vstack([torch.softmax(out, axis=1) for out in epoch_outs]).detach().cpu().numpy()\n",
        "    targets = torch.cat([tgt for tgt in epoch_tgt], dim=0).detach().cpu().numpy()\n",
        "    ap_score = average_precision_score(targets, predictions)\n",
        "    return loss_meter, ap_score\n",
        "\n",
        "\n",
        "def trigger_training(config):\n",
        "    model = get_model(config[\"model_type\"])\n",
        "    criterion, optimizer, scheduler = get_criterion_optimizer_scheduler(config, model)\n",
        "    epochs = config[\"num_epochs\"]\n",
        "\n",
        "    train(model, criterion, optimizer, scheduler, epochs, train_dataloader, val_dataloader, device)\n"
      ],
      "metadata": {
        "id": "jfchRAmxMcoF",
        "execution": {
          "iopub.status.busy": "2023-05-27T08:20:38.821306Z",
          "iopub.execute_input": "2023-05-27T08:20:38.821836Z",
          "iopub.status.idle": "2023-05-27T08:20:38.843924Z",
          "shell.execute_reply.started": "2023-05-27T08:20:38.821801Z",
          "shell.execute_reply": "2023-05-27T08:20:38.842949Z"
        },
        "trusted": true
      },
      "execution_count": null,
      "outputs": []
    },
    {
      "cell_type": "markdown",
      "source": [
        "# Complete the config file, edit the cells in this notebook to log data to wandb and trigger training loops!"
      ],
      "metadata": {
        "id": "Jtb0ll98YTB0"
      }
    },
    {
      "cell_type": "code",
      "source": [
        "# Fill the Config file below and log the experiment at wandb\n",
        "config = {\n",
        "    \"lr\": 0.001, \n",
        "    \"model_type\": \"scratch\", # pretrained/scratch\n",
        "    \"optimizer\": \"adam\", # adam/SGD/RMSprop\n",
        "    \"criterion\": \"ce\",\n",
        "    \"scheduler_patience\": 3,\n",
        "    \"scheduler_thresh\": 0.001,\n",
        "    \"num_epochs\": 20, # CHANGE\n",
        "    \"gpu_id\": 0,\n",
        "    \"wandb_run_name\": \"E1.le-3.scratch.adam.ce.sp3.ste-3.epoch20\" ### FILL YOUR NAME HERE\n",
        "}\n"
      ],
      "metadata": {
        "id": "2XWOBnxhMkdl",
        "execution": {
          "iopub.status.busy": "2023-05-27T07:39:31.914568Z",
          "iopub.execute_input": "2023-05-27T07:39:31.914942Z",
          "iopub.status.idle": "2023-05-27T07:39:31.920647Z",
          "shell.execute_reply.started": "2023-05-27T07:39:31.914910Z",
          "shell.execute_reply": "2023-05-27T07:39:31.919272Z"
        },
        "trusted": true
      },
      "execution_count": null,
      "outputs": []
    },
    {
      "cell_type": "code",
      "source": [
        "trigger_training(config)"
      ],
      "metadata": {
        "id": "BLGywkQ4NDMG",
        "execution": {
          "iopub.status.busy": "2023-05-27T08:24:20.123131Z",
          "iopub.execute_input": "2023-05-27T08:24:20.124094Z",
          "iopub.status.idle": "2023-05-27T08:31:28.131104Z",
          "shell.execute_reply.started": "2023-05-27T08:24:20.124055Z",
          "shell.execute_reply": "2023-05-27T08:31:28.130196Z"
        },
        "trusted": true,
        "outputId": "dc740e38-2086-4140-f82e-b752313b7eef"
      },
      "execution_count": null,
      "outputs": [
        {
          "name": "stderr",
          "text": "100%|██████████| 200/200 [00:18<00:00, 11.03it/s]\n",
          "output_type": "stream"
        },
        {
          "name": "stdout",
          "text": "{'epoch': 1, 'train_loss': 1.423871293067932, 'eval_loss': 1.2828774237632752, 'train_ap_score': 0.5148937157897504, 'eval_ap_score': 0.6182428086121007, 'lr': 0.001}\n",
          "output_type": "stream"
        },
        {
          "name": "stderr",
          "text": "100%|██████████| 200/200 [00:18<00:00, 11.04it/s]\n",
          "output_type": "stream"
        },
        {
          "name": "stdout",
          "text": "{'epoch': 2, 'train_loss': 1.0189158609509468, 'eval_loss': 1.0337530875205994, 'train_ap_score': 0.6998442689744173, 'eval_ap_score': 0.7181850587863515, 'lr': 0.001}\n",
          "output_type": "stream"
        },
        {
          "name": "stderr",
          "text": "100%|██████████| 200/200 [00:18<00:00, 11.10it/s]\n",
          "output_type": "stream"
        },
        {
          "name": "stdout",
          "text": "{'epoch': 3, 'train_loss': 0.8363883644342422, 'eval_loss': 1.0417992651462555, 'train_ap_score': 0.7792015440049436, 'eval_ap_score': 0.7405367967206903, 'lr': 0.001}\n",
          "output_type": "stream"
        },
        {
          "name": "stderr",
          "text": "100%|██████████| 200/200 [00:18<00:00, 11.03it/s]\n",
          "output_type": "stream"
        },
        {
          "name": "stdout",
          "text": "{'epoch': 4, 'train_loss': 0.692751242518425, 'eval_loss': 0.9256065618991852, 'train_ap_score': 0.83594445502889, 'eval_ap_score': 0.7826098283999776, 'lr': 0.001}\n",
          "output_type": "stream"
        },
        {
          "name": "stderr",
          "text": "100%|██████████| 200/200 [00:18<00:00, 11.06it/s]\n",
          "output_type": "stream"
        },
        {
          "name": "stdout",
          "text": "{'epoch': 5, 'train_loss': 0.5730751357972622, 'eval_loss': 0.8649693858623505, 'train_ap_score': 0.878162475986251, 'eval_ap_score': 0.8000446553908704, 'lr': 0.001}\n",
          "output_type": "stream"
        },
        {
          "name": "stderr",
          "text": "100%|██████████| 200/200 [00:18<00:00, 11.10it/s]\n",
          "output_type": "stream"
        },
        {
          "name": "stdout",
          "text": "{'epoch': 6, 'train_loss': 0.4666451033949852, 'eval_loss': 0.8519611263275146, 'train_ap_score': 0.9124405393774644, 'eval_ap_score': 0.8038398514982026, 'lr': 0.001}\n",
          "output_type": "stream"
        },
        {
          "name": "stderr",
          "text": "100%|██████████| 200/200 [00:18<00:00, 11.06it/s]\n",
          "output_type": "stream"
        },
        {
          "name": "stdout",
          "text": "{'epoch': 7, 'train_loss': 0.38688539020717144, 'eval_loss': 0.9234069871902466, 'train_ap_score': 0.9358794648533839, 'eval_ap_score': 0.7985209233172259, 'lr': 0.001}\n",
          "output_type": "stream"
        },
        {
          "name": "stderr",
          "text": "100%|██████████| 200/200 [00:18<00:00, 11.07it/s]\n",
          "output_type": "stream"
        },
        {
          "name": "stdout",
          "text": "{'epoch': 8, 'train_loss': 0.31949270695447923, 'eval_loss': 0.9787970387935638, 'train_ap_score': 0.953318085420651, 'eval_ap_score': 0.7978765332454653, 'lr': 0.001}\n",
          "output_type": "stream"
        },
        {
          "name": "stderr",
          "text": "100%|██████████| 200/200 [00:18<00:00, 11.10it/s]\n",
          "output_type": "stream"
        },
        {
          "name": "stdout",
          "text": "{'epoch': 9, 'train_loss': 0.24982962630689143, 'eval_loss': 1.1339956891536713, 'train_ap_score': 0.9699088172027389, 'eval_ap_score': 0.7914448849993883, 'lr': 0.001}\n",
          "output_type": "stream"
        },
        {
          "name": "stderr",
          "text": "100%|██████████| 200/200 [00:18<00:00, 10.97it/s]\n",
          "output_type": "stream"
        },
        {
          "name": "stdout",
          "text": "{'epoch': 10, 'train_loss': 0.20071758143603802, 'eval_loss': 1.1245513236522675, 'train_ap_score': 0.979422381175171, 'eval_ap_score': 0.7954434333433877, 'lr': 0.001}\n",
          "output_type": "stream"
        },
        {
          "name": "stderr",
          "text": "100%|██████████| 200/200 [00:18<00:00, 11.05it/s]\n",
          "output_type": "stream"
        },
        {
          "name": "stdout",
          "text": "{'epoch': 11, 'train_loss': 0.06938938573002815, 'eval_loss': 0.9245582234859466, 'train_ap_score': 0.9977740707069485, 'eval_ap_score': 0.8345743731244474, 'lr': 0.0001}\n",
          "output_type": "stream"
        },
        {
          "name": "stderr",
          "text": "100%|██████████| 200/200 [00:18<00:00, 11.08it/s]\n",
          "output_type": "stream"
        },
        {
          "name": "stdout",
          "text": "{'epoch': 12, 'train_loss': 0.026805714732035996, 'eval_loss': 0.9844521975517273, 'train_ap_score': 0.9998354841567352, 'eval_ap_score': 0.8343507824332134, 'lr': 0.0001}\n",
          "output_type": "stream"
        },
        {
          "name": "stderr",
          "text": "100%|██████████| 200/200 [00:18<00:00, 11.08it/s]\n",
          "output_type": "stream"
        },
        {
          "name": "stdout",
          "text": "{'epoch': 13, 'train_loss': 0.015414848402142524, 'eval_loss': 1.0230116641521454, 'train_ap_score': 0.99993779462426, 'eval_ap_score': 0.835265170704993, 'lr': 0.0001}\n",
          "output_type": "stream"
        },
        {
          "name": "stderr",
          "text": "100%|██████████| 200/200 [00:18<00:00, 11.04it/s]\n",
          "output_type": "stream"
        },
        {
          "name": "stdout",
          "text": "{'epoch': 14, 'train_loss': 0.00968857279396616, 'eval_loss': 1.0705962181091309, 'train_ap_score': 0.9999788748521274, 'eval_ap_score': 0.8346142462825166, 'lr': 0.0001}\n",
          "output_type": "stream"
        },
        {
          "name": "stderr",
          "text": "100%|██████████| 200/200 [00:18<00:00, 11.09it/s]\n",
          "output_type": "stream"
        },
        {
          "name": "stdout",
          "text": "{'epoch': 15, 'train_loss': 0.007004941253690049, 'eval_loss': 1.0795198106765747, 'train_ap_score': 0.9999830784066033, 'eval_ap_score': 0.834384797817267, 'lr': 1e-05}\n",
          "output_type": "stream"
        },
        {
          "name": "stderr",
          "text": "100%|██████████| 200/200 [00:18<00:00, 11.11it/s]\n",
          "output_type": "stream"
        },
        {
          "name": "stdout",
          "text": "{'epoch': 16, 'train_loss': 0.0066312692186329516, 'eval_loss': 1.0783877623081208, 'train_ap_score': 0.9999878969056128, 'eval_ap_score': 0.8346170914555542, 'lr': 1e-05}\n",
          "output_type": "stream"
        },
        {
          "name": "stderr",
          "text": "100%|██████████| 200/200 [00:18<00:00, 11.06it/s]\n",
          "output_type": "stream"
        },
        {
          "name": "stdout",
          "text": "{'epoch': 17, 'train_loss': 0.00649251559516415, 'eval_loss': 1.0894981694221497, 'train_ap_score': 0.9999876915366418, 'eval_ap_score': 0.8345014023984485, 'lr': 1e-05}\n",
          "output_type": "stream"
        },
        {
          "name": "stderr",
          "text": "100%|██████████| 200/200 [00:18<00:00, 11.09it/s]\n",
          "output_type": "stream"
        },
        {
          "name": "stdout",
          "text": "{'epoch': 18, 'train_loss': 0.006280314652249217, 'eval_loss': 1.0920600616931915, 'train_ap_score': 0.9999834928110873, 'eval_ap_score': 0.8342009985411281, 'lr': 1e-05}\n",
          "output_type": "stream"
        },
        {
          "name": "stderr",
          "text": "100%|██████████| 200/200 [00:18<00:00, 11.00it/s]\n",
          "output_type": "stream"
        },
        {
          "name": "stdout",
          "text": "{'epoch': 19, 'train_loss': 0.005880813945550472, 'eval_loss': 1.0939810061454773, 'train_ap_score': 0.9999918202908841, 'eval_ap_score': 0.8341298065402467, 'lr': 1.0000000000000002e-06}\n",
          "output_type": "stream"
        },
        {
          "name": "stderr",
          "text": "100%|██████████| 200/200 [00:18<00:00, 10.87it/s]\n",
          "output_type": "stream"
        },
        {
          "name": "stdout",
          "text": "{'epoch': 20, 'train_loss': 0.005865726522170007, 'eval_loss': 1.0924844241142273, 'train_ap_score': 0.9999917212461277, 'eval_ap_score': 0.8343630855725441, 'lr': 1.0000000000000002e-06}\n",
          "output_type": "stream"
        }
      ]
    },
    {
      "cell_type": "markdown",
      "source": [
        "# WandB Steps"
      ],
      "metadata": {
        "id": "4br2c7d1N8ya"
      }
    },
    {
      "cell_type": "code",
      "source": [
        "# installing wandb\n",
        "!pip install wandb"
      ],
      "metadata": {
        "execution": {
          "iopub.status.busy": "2023-05-27T07:41:13.093466Z",
          "iopub.execute_input": "2023-05-27T07:41:13.093841Z",
          "iopub.status.idle": "2023-05-27T07:41:24.939612Z",
          "shell.execute_reply.started": "2023-05-27T07:41:13.093803Z",
          "shell.execute_reply": "2023-05-27T07:41:24.938357Z"
        },
        "trusted": true,
        "id": "NQS9OztlL9jL",
        "outputId": "cc645dba-cfb8-43fc-cca5-6e5039098033"
      },
      "execution_count": null,
      "outputs": [
        {
          "name": "stdout",
          "text": "Requirement already satisfied: wandb in /opt/conda/lib/python3.10/site-packages (0.15.3)\nRequirement already satisfied: Click!=8.0.0,>=7.0 in /opt/conda/lib/python3.10/site-packages (from wandb) (8.1.3)\nRequirement already satisfied: GitPython!=3.1.29,>=1.0.0 in /opt/conda/lib/python3.10/site-packages (from wandb) (3.1.31)\nRequirement already satisfied: requests<3,>=2.0.0 in /opt/conda/lib/python3.10/site-packages (from wandb) (2.28.2)\nRequirement already satisfied: psutil>=5.0.0 in /opt/conda/lib/python3.10/site-packages (from wandb) (5.9.3)\nRequirement already satisfied: sentry-sdk>=1.0.0 in /opt/conda/lib/python3.10/site-packages (from wandb) (1.24.0)\nRequirement already satisfied: docker-pycreds>=0.4.0 in /opt/conda/lib/python3.10/site-packages (from wandb) (0.4.0)\nRequirement already satisfied: PyYAML in /opt/conda/lib/python3.10/site-packages (from wandb) (5.4.1)\nRequirement already satisfied: pathtools in /opt/conda/lib/python3.10/site-packages (from wandb) (0.1.2)\nRequirement already satisfied: setproctitle in /opt/conda/lib/python3.10/site-packages (from wandb) (1.3.2)\nRequirement already satisfied: setuptools in /opt/conda/lib/python3.10/site-packages (from wandb) (59.8.0)\nRequirement already satisfied: appdirs>=1.4.3 in /opt/conda/lib/python3.10/site-packages (from wandb) (1.4.4)\nRequirement already satisfied: protobuf!=4.21.0,<5,>=3.19.0 in /opt/conda/lib/python3.10/site-packages (from wandb) (3.20.3)\nRequirement already satisfied: six>=1.4.0 in /opt/conda/lib/python3.10/site-packages (from docker-pycreds>=0.4.0->wandb) (1.16.0)\nRequirement already satisfied: gitdb<5,>=4.0.1 in /opt/conda/lib/python3.10/site-packages (from GitPython!=3.1.29,>=1.0.0->wandb) (4.0.10)\nRequirement already satisfied: charset-normalizer<4,>=2 in /opt/conda/lib/python3.10/site-packages (from requests<3,>=2.0.0->wandb) (2.1.1)\nRequirement already satisfied: idna<4,>=2.5 in /opt/conda/lib/python3.10/site-packages (from requests<3,>=2.0.0->wandb) (3.4)\nRequirement already satisfied: urllib3<1.27,>=1.21.1 in /opt/conda/lib/python3.10/site-packages (from requests<3,>=2.0.0->wandb) (1.26.15)\nRequirement already satisfied: certifi>=2017.4.17 in /opt/conda/lib/python3.10/site-packages (from requests<3,>=2.0.0->wandb) (2023.5.7)\nRequirement already satisfied: smmap<6,>=3.0.1 in /opt/conda/lib/python3.10/site-packages (from gitdb<5,>=4.0.1->GitPython!=3.1.29,>=1.0.0->wandb) (5.0.0)\n\u001b[33mWARNING: Running pip as the 'root' user can result in broken permissions and conflicting behaviour with the system package manager. It is recommended to use a virtual environment instead: https://pip.pypa.io/warnings/venv\u001b[0m\u001b[33m\n\u001b[0m",
          "output_type": "stream"
        }
      ]
    },
    {
      "cell_type": "code",
      "source": [
        "### Step 1: Import WandB in your code\n",
        "\n",
        "import wandb\n",
        "\n",
        "### Step 1 ends"
      ],
      "metadata": {
        "id": "gg1VnOOBOAGe",
        "execution": {
          "iopub.status.busy": "2023-05-27T07:45:05.390365Z",
          "iopub.execute_input": "2023-05-27T07:45:05.391278Z",
          "iopub.status.idle": "2023-05-27T07:45:05.889060Z",
          "shell.execute_reply.started": "2023-05-27T07:45:05.391242Z",
          "shell.execute_reply": "2023-05-27T07:45:05.888157Z"
        },
        "trusted": true
      },
      "execution_count": null,
      "outputs": []
    },
    {
      "cell_type": "code",
      "source": [
        "### Step 2:\n",
        "# Initiate wandb in your script. The moment we trigger wandb.init(), an active\n",
        "# socket connection is established between your machine and wandb server.\n",
        "# We specify the entity (wandb username) and project (which wandb project to use for logging)\n",
        "\n",
        "wandb.init(entity = \"vanshg\",   # wandb username. (NOT REQUIRED ARG. ANYMORE, it fetches from initial login)\n",
        "           project = \"wandb_demo\", # wandb project name. New project will be created if given project is missing.\n",
        "           config = config         # Config dict\n",
        "          )\n",
        "wandb.run.name = config[\"wandb_run_name\"]\n",
        "\n",
        "### Step 2 ends."
      ],
      "metadata": {
        "id": "2oIAE7tpOBH_",
        "execution": {
          "iopub.status.busy": "2023-05-27T08:17:23.482197Z",
          "iopub.execute_input": "2023-05-27T08:17:23.482555Z",
          "iopub.status.idle": "2023-05-27T08:17:54.641921Z",
          "shell.execute_reply.started": "2023-05-27T08:17:23.482526Z",
          "shell.execute_reply": "2023-05-27T08:17:54.641110Z"
        },
        "trusted": true,
        "outputId": "36285f86-8440-42d5-f713-e8daab9c0dbe"
      },
      "execution_count": null,
      "outputs": [
        {
          "output_type": "display_data",
          "data": {
            "text/plain": "<IPython.core.display.HTML object>",
            "text/html": "Tracking run with wandb version 0.15.3"
          },
          "metadata": {}
        },
        {
          "output_type": "display_data",
          "data": {
            "text/plain": "<IPython.core.display.HTML object>",
            "text/html": "Run data is saved locally in <code>/kaggle/working/wandb/run-20230527_081723-vuphdm4o</code>"
          },
          "metadata": {}
        },
        {
          "output_type": "display_data",
          "data": {
            "text/plain": "<IPython.core.display.HTML object>",
            "text/html": "Syncing run <strong><a href='https://wandb.ai/vanshg/wandb_demo/runs/vuphdm4o' target=\"_blank\">worthy-sun-3</a></strong> to <a href='https://wandb.ai/vanshg/wandb_demo' target=\"_blank\">Weights & Biases</a> (<a href='https://wandb.me/run' target=\"_blank\">docs</a>)<br/>"
          },
          "metadata": {}
        },
        {
          "output_type": "display_data",
          "data": {
            "text/plain": "<IPython.core.display.HTML object>",
            "text/html": " View project at <a href='https://wandb.ai/vanshg/wandb_demo' target=\"_blank\">https://wandb.ai/vanshg/wandb_demo</a>"
          },
          "metadata": {}
        },
        {
          "output_type": "display_data",
          "data": {
            "text/plain": "<IPython.core.display.HTML object>",
            "text/html": " View run at <a href='https://wandb.ai/vanshg/wandb_demo/runs/vuphdm4o' target=\"_blank\">https://wandb.ai/vanshg/wandb_demo/runs/vuphdm4o</a>"
          },
          "metadata": {}
        }
      ]
    },
    {
      "cell_type": "code",
      "source": [
        "### Step 3: Trigger wandb log\n",
        "# This step is responsible for sending the logs to wandb\n",
        "\n",
        "wandb.log(data_to_log)\n",
        "\n",
        "### Step 3 ends."
      ],
      "metadata": {
        "id": "P_c8_juPOC6o",
        "execution": {
          "iopub.status.busy": "2023-05-27T08:19:26.744130Z",
          "iopub.execute_input": "2023-05-27T08:19:26.744796Z",
          "iopub.status.idle": "2023-05-27T08:19:26.787054Z",
          "shell.execute_reply.started": "2023-05-27T08:19:26.744761Z",
          "shell.execute_reply": "2023-05-27T08:19:26.785530Z"
        },
        "trusted": true,
        "outputId": "86e7ccc6-e109-435e-d0c1-45bd0f7670c4"
      },
      "execution_count": null,
      "outputs": [
        {
          "traceback": [
            "\u001b[0;31m---------------------------------------------------------------------------\u001b[0m",
            "\u001b[0;31mNameError\u001b[0m                                 Traceback (most recent call last)",
            "Cell \u001b[0;32mIn[19], line 4\u001b[0m\n\u001b[1;32m      1\u001b[0m \u001b[38;5;66;03m### Step 3: Trigger wandb log\u001b[39;00m\n\u001b[1;32m      2\u001b[0m \u001b[38;5;66;03m# This step is responsible for sending the logs to wandb\u001b[39;00m\n\u001b[0;32m----> 4\u001b[0m wandb\u001b[38;5;241m.\u001b[39mlog(\u001b[43mdata_to_log\u001b[49m)\n\u001b[1;32m      6\u001b[0m \u001b[38;5;66;03m### Step 3 ends.\u001b[39;00m\n",
            "\u001b[0;31mNameError\u001b[0m: name 'data_to_log' is not defined"
          ],
          "ename": "NameError",
          "evalue": "name 'data_to_log' is not defined",
          "output_type": "error"
        }
      ]
    },
    {
      "cell_type": "code",
      "source": [
        "### Step 4 (Optional)\n",
        "# This closes the active socket connection to wandb server. Optional since wandb destructor does the same.\n",
        "\n",
        "wandb.finish()\n",
        "\n",
        "### Step 4 ends.\n"
      ],
      "metadata": {
        "id": "JnQzf5xHOEKR",
        "execution": {
          "iopub.status.busy": "2023-05-27T08:16:29.315553Z",
          "iopub.execute_input": "2023-05-27T08:16:29.315922Z",
          "iopub.status.idle": "2023-05-27T08:16:34.046098Z",
          "shell.execute_reply.started": "2023-05-27T08:16:29.315891Z",
          "shell.execute_reply": "2023-05-27T08:16:34.045262Z"
        },
        "trusted": true,
        "outputId": "64278214-60ee-4f4c-80c8-e1db4d8fea29",
        "colab": {
          "referenced_widgets": [
            "7e2cfef6eb0f489f8876b02e7b26f4ce"
          ]
        }
      },
      "execution_count": null,
      "outputs": [
        {
          "output_type": "display_data",
          "data": {
            "text/plain": "<IPython.core.display.HTML object>",
            "text/html": "Waiting for W&B process to finish... <strong style=\"color:green\">(success).</strong>"
          },
          "metadata": {}
        },
        {
          "output_type": "display_data",
          "data": {
            "text/plain": "VBox(children=(Label(value='0.001 MB of 0.001 MB uploaded (0.000 MB deduped)\\r'), FloatProgress(value=1.0, max…",
            "application/vnd.jupyter.widget-view+json": {
              "version_major": 2,
              "version_minor": 0,
              "model_id": "7e2cfef6eb0f489f8876b02e7b26f4ce"
            }
          },
          "metadata": {}
        },
        {
          "output_type": "display_data",
          "data": {
            "text/plain": "<IPython.core.display.HTML object>",
            "text/html": " View run <strong style=\"color:#cdcd00\">jolly-wildflower-2</strong> at: <a href='https://wandb.ai/vanshg/wandb_demo/runs/js5i29hq' target=\"_blank\">https://wandb.ai/vanshg/wandb_demo/runs/js5i29hq</a><br/>Synced 5 W&B file(s), 0 media file(s), 0 artifact file(s) and 0 other file(s)"
          },
          "metadata": {}
        },
        {
          "output_type": "display_data",
          "data": {
            "text/plain": "<IPython.core.display.HTML object>",
            "text/html": "Find logs at: <code>./wandb/run-20230527_075054-js5i29hq/logs</code>"
          },
          "metadata": {}
        }
      ]
    },
    {
      "cell_type": "markdown",
      "source": [
        "# WandB sweeps related steps"
      ],
      "metadata": {
        "id": "UiUK11qqZQZS"
      }
    },
    {
      "cell_type": "code",
      "source": [
        "### Step 1:\n",
        "# Create a WandB sweep config file.\n",
        "# This config file will be used at the WandB website to initialize a sweep server\n",
        "program: \"demo.py\"\n",
        "method: \"grid\"\n",
        "metric:\n",
        "  name: \"eval_ap_score\"\n",
        "  goal: \"maximize\"\n",
        "parameters:\n",
        "    criterion:\n",
        "      value: \"ce\"\n",
        "    gpu_id:\n",
        "      value: 0\n",
        "    lr:\n",
        "      values: [0.1, 0.001, 0.0001]\n",
        "    model_type:\n",
        "      values: [\"scratch\", \"pretrained\"]\n",
        "    num_epochs:\n",
        "      value: 25\n",
        "    optimizer:\n",
        "      values: [\"adam\", \"SGD\", \"RMSprop\"]\n",
        "    scheduler_patience:\n",
        "      value: 3\n",
        "    scheduler_thresh:\n",
        "      value: 0.01\n",
        "\n",
        "        \n",
        "### A sample sweep config file if bayes method is used-\n",
        "# program: wandb_demo.py\n",
        "# method: bayes\n",
        "# metric:\n",
        "#   name: \"eval_ap_score\"\n",
        "#   goal: maximize\n",
        "# parameters:\n",
        "#   lr:\n",
        "#     distribution: uniform\n",
        "#     min: 0.00001\n",
        "#     max: 0.1\n",
        "#   criterion:\n",
        "#     distribution: categorical\n",
        "#     value:\n",
        "#       - ce\n",
        "#   optimizer:\n",
        "#     distribution: categorical\n",
        "#     values:\n",
        "#       - adam\n",
        "#       - SGD\n",
        "#       - RMSprop\n",
        "#   model_type:\n",
        "#     distribution: categorical\n",
        "#     values:\n",
        "#       - pretrained\n",
        "#       - scratch\n",
        "#   num_epochs:\n",
        "#     value:\n",
        "#       - 30\n",
        "#   scheduler_thresh:\n",
        "#     distribution: uniform\n",
        "#     min: 0.001\n",
        "#     max: 0.01\n",
        "#   scheduler_patience:\n",
        "#     distribution: int_uniform\n",
        "#     min: 2\n",
        "#     max: 10\n"
      ],
      "metadata": {
        "id": "tMbRxfDwZT8r",
        "execution": {
          "iopub.status.busy": "2023-05-27T08:35:28.788187Z",
          "iopub.execute_input": "2023-05-27T08:35:28.788569Z",
          "iopub.status.idle": "2023-05-27T08:35:28.799394Z",
          "shell.execute_reply.started": "2023-05-27T08:35:28.788536Z",
          "shell.execute_reply": "2023-05-27T08:35:28.798061Z"
        },
        "trusted": true,
        "outputId": "0d19dc0f-6001-4b66-bf4a-1355c7c4c861"
      },
      "execution_count": null,
      "outputs": [
        {
          "traceback": [
            "\u001b[0;36m  Cell \u001b[0;32mIn[22], line 6\u001b[0;36m\u001b[0m\n\u001b[0;31m    metric:\u001b[0m\n\u001b[0m           ^\u001b[0m\n\u001b[0;31mSyntaxError\u001b[0m\u001b[0;31m:\u001b[0m invalid syntax\n"
          ],
          "ename": "SyntaxError",
          "evalue": "invalid syntax (3096734612.py, line 6)",
          "output_type": "error"
        }
      ]
    },
    {
      "cell_type": "code",
      "source": [
        "sweep_configuration_grid = {\n",
        "    'program': 'demo.py',\n",
        "    'method': \"grid\",\n",
        "    'metric': {\n",
        "        'name': \"eval_ap_score\",\n",
        "        'goal': \"maximize\"\n",
        "    },\n",
        "    'parameters': {\n",
        "        'criterion': {'value': \"ce\"},\n",
        "        'gpu_id': {'value': 0},\n",
        "        'lr': {'values': [0.1, 0.001, 0.0001]},\n",
        "        'model_type': {'values': [\"scratch\", \"pretrained\"]},\n",
        "        'num_epochs': {'value': 25},\n",
        "        'optimizer': {'values': [\"adam\", \"SGD\", \"RMSprop\"]},\n",
        "        'scheduler_patience': {'value': 3},\n",
        "        'scheduler_thresh': {'value': 0.01}\n",
        "    }\n",
        "}\n",
        "\n",
        "sweep_grid_id = wandb.sweep(\n",
        "    sweep=sweep_configuration_grid,\n",
        "    project='wandb_demo'\n",
        ")\n",
        "\n",
        "print(f'Sweep grid id: {sweep_grid_id}')"
      ],
      "metadata": {
        "execution": {
          "iopub.status.busy": "2023-05-27T08:46:14.621401Z",
          "iopub.execute_input": "2023-05-27T08:46:14.621755Z",
          "iopub.status.idle": "2023-05-27T08:46:17.709259Z",
          "shell.execute_reply.started": "2023-05-27T08:46:14.621724Z",
          "shell.execute_reply": "2023-05-27T08:46:17.708275Z"
        },
        "trusted": true,
        "id": "eIsHHHE-L9jV",
        "outputId": "0d083596-b0d0-495a-8d68-441a51517169"
      },
      "execution_count": null,
      "outputs": [
        {
          "name": "stdout",
          "text": "Create sweep with ID: xmxmiut3\nSweep URL: https://wandb.ai/vanshg/wandb_demo/sweeps/xmxmiut3\nSweep grid id: xmxmiut3\n",
          "output_type": "stream"
        }
      ]
    },
    {
      "cell_type": "code",
      "source": [
        "### Step 2\n",
        "# After using the above config on wandb website, you will get a sweep id in return.\n",
        "# E.g. sweep id- dhruv_sri/wandb_demo/hbyp0tl8\n",
        "#\n",
        "# Add the following agent line in your code-\n",
        "# Use the generated sweep id in the below code\n",
        "\n",
        "wandb.agent(sweep_id=\"xmxmiut3\", function=sweep_agent_manager, count=100)\n"
      ],
      "metadata": {
        "id": "8yEkgDnGZT2X",
        "execution": {
          "iopub.status.busy": "2023-05-27T08:47:37.297512Z",
          "iopub.execute_input": "2023-05-27T08:47:37.297868Z"
        },
        "trusted": true,
        "outputId": "a619cb23-4f59-40d7-f2a8-6bc0316b29c6",
        "colab": {
          "referenced_widgets": [
            "531d9c508555423685f84636395a8c6f",
            "05f941b920b245778fa1e4e347d16468",
            "20f6e4e22378440c9c60258b0589847b",
            "95f71736f1854f08b0487acee8722c98",
            "dd859347a9d14c4094c88943bf1da3d2",
            "cb39a886e61f4b3f8e8472b8624bdf09",
            "e11835f73b23404184d9afaf19ba209d",
            "2d2cbbbef0fc4488a14a3fc6cd133ef7"
          ]
        }
      },
      "execution_count": null,
      "outputs": [
        {
          "name": "stderr",
          "text": "\u001b[34m\u001b[1mwandb\u001b[0m: \u001b[33mWARNING\u001b[0m Calling wandb.login() after wandb.init() has no effect.\n\u001b[34m\u001b[1mwandb\u001b[0m: Agent Starting Run: lqbja0b9 with config:\n\u001b[34m\u001b[1mwandb\u001b[0m: \tcriterion: ce\n\u001b[34m\u001b[1mwandb\u001b[0m: \tgpu_id: 0\n\u001b[34m\u001b[1mwandb\u001b[0m: \tlr: 0.1\n\u001b[34m\u001b[1mwandb\u001b[0m: \tmodel_type: scratch\n\u001b[34m\u001b[1mwandb\u001b[0m: \tnum_epochs: 25\n\u001b[34m\u001b[1mwandb\u001b[0m: \toptimizer: adam\n\u001b[34m\u001b[1mwandb\u001b[0m: \tscheduler_patience: 3\n\u001b[34m\u001b[1mwandb\u001b[0m: \tscheduler_thresh: 0.01\n",
          "output_type": "stream"
        },
        {
          "name": "stdout",
          "text": "<IPython.core.display.HTML object>\n<IPython.core.display.HTML object>\n<IPython.core.display.HTML object>\n<IPython.core.display.HTML object>\n",
          "output_type": "stream"
        },
        {
          "output_type": "display_data",
          "data": {
            "text/plain": "<IPython.core.display.HTML object>",
            "text/html": "Tracking run with wandb version 0.15.3"
          },
          "metadata": {}
        },
        {
          "output_type": "display_data",
          "data": {
            "text/plain": "<IPython.core.display.HTML object>",
            "text/html": "Run data is saved locally in <code>/kaggle/working/wandb/run-20230527_084747-lqbja0b9</code>"
          },
          "metadata": {}
        },
        {
          "output_type": "display_data",
          "data": {
            "text/plain": "<IPython.core.display.HTML object>",
            "text/html": "Syncing run <strong><a href='https://wandb.ai/vanshg/wandb_demo/runs/lqbja0b9' target=\"_blank\">astral-sweep-1</a></strong> to <a href='https://wandb.ai/vanshg/wandb_demo' target=\"_blank\">Weights & Biases</a> (<a href='https://wandb.me/run' target=\"_blank\">docs</a>)<br/>Sweep page: <a href='https://wandb.ai/vanshg/wandb_demo/sweeps/xmxmiut3' target=\"_blank\">https://wandb.ai/vanshg/wandb_demo/sweeps/xmxmiut3</a>"
          },
          "metadata": {}
        },
        {
          "output_type": "display_data",
          "data": {
            "text/plain": "<IPython.core.display.HTML object>",
            "text/html": " View project at <a href='https://wandb.ai/vanshg/wandb_demo' target=\"_blank\">https://wandb.ai/vanshg/wandb_demo</a>"
          },
          "metadata": {}
        },
        {
          "output_type": "display_data",
          "data": {
            "text/plain": "<IPython.core.display.HTML object>",
            "text/html": " View sweep at <a href='https://wandb.ai/vanshg/wandb_demo/sweeps/xmxmiut3' target=\"_blank\">https://wandb.ai/vanshg/wandb_demo/sweeps/xmxmiut3</a>"
          },
          "metadata": {}
        },
        {
          "output_type": "display_data",
          "data": {
            "text/plain": "<IPython.core.display.HTML object>",
            "text/html": " View run at <a href='https://wandb.ai/vanshg/wandb_demo/runs/lqbja0b9' target=\"_blank\">https://wandb.ai/vanshg/wandb_demo/runs/lqbja0b9</a>"
          },
          "metadata": {}
        },
        {
          "name": "stderr",
          "text": "100%|██████████| 200/200 [00:19<00:00, 10.24it/s]\n",
          "output_type": "stream"
        },
        {
          "name": "stdout",
          "text": "{'epoch': 1, 'train_loss': 2.832748358249664, 'eval_loss': 2.304744629859924, 'train_ap_score': 0.10221365123961627, 'eval_ap_score': 0.10350224513945994, 'lr': 0.1}\n",
          "output_type": "stream"
        },
        {
          "name": "stderr",
          "text": "100%|██████████| 200/200 [00:18<00:00, 11.06it/s]\n",
          "output_type": "stream"
        },
        {
          "name": "stdout",
          "text": "{'epoch': 2, 'train_loss': 2.303964123725891, 'eval_loss': 2.304908571243286, 'train_ap_score': 0.10224664453981316, 'eval_ap_score': 0.10422148738398776, 'lr': 0.1}\n",
          "output_type": "stream"
        },
        {
          "name": "stderr",
          "text": "100%|██████████| 200/200 [00:17<00:00, 11.14it/s]\n",
          "output_type": "stream"
        },
        {
          "name": "stdout",
          "text": "{'epoch': 3, 'train_loss': 2.2988643109798432, 'eval_loss': 2.289126434326172, 'train_ap_score': 0.10859359326190063, 'eval_ap_score': 0.13200173681923322, 'lr': 0.1}\n",
          "output_type": "stream"
        },
        {
          "name": "stderr",
          "text": "100%|██████████| 200/200 [00:17<00:00, 11.11it/s]\n",
          "output_type": "stream"
        },
        {
          "name": "stdout",
          "text": "{'epoch': 4, 'train_loss': 2.056571233868599, 'eval_loss': 2.0806220102310182, 'train_ap_score': 0.17354347125883351, 'eval_ap_score': 0.1811640493862567, 'lr': 0.1}\n",
          "output_type": "stream"
        },
        {
          "name": "stderr",
          "text": "100%|██████████| 200/200 [00:18<00:00, 11.07it/s]\n",
          "output_type": "stream"
        },
        {
          "name": "stdout",
          "text": "{'epoch': 5, 'train_loss': 1.9114764368534087, 'eval_loss': 1.906885371208191, 'train_ap_score': 0.19586752483268616, 'eval_ap_score': 0.20538441361393636, 'lr': 0.1}\n",
          "output_type": "stream"
        },
        {
          "name": "stderr",
          "text": "100%|██████████| 200/200 [00:17<00:00, 11.11it/s]\n",
          "output_type": "stream"
        },
        {
          "name": "stdout",
          "text": "{'epoch': 6, 'train_loss': 1.857339116334915, 'eval_loss': 1.8322782945632934, 'train_ap_score': 0.22114078337027449, 'eval_ap_score': 0.23944217878755075, 'lr': 0.1}\n",
          "output_type": "stream"
        },
        {
          "name": "stderr",
          "text": "100%|██████████| 200/200 [00:18<00:00, 11.10it/s]\n",
          "output_type": "stream"
        },
        {
          "name": "stdout",
          "text": "{'epoch': 7, 'train_loss': 1.8223137748241425, 'eval_loss': 1.9295164275169372, 'train_ap_score': 0.24246912127950004, 'eval_ap_score': 0.25265418700933157, 'lr': 0.1}\n",
          "output_type": "stream"
        },
        {
          "name": "stderr",
          "text": "100%|██████████| 200/200 [00:18<00:00, 11.00it/s]\n",
          "output_type": "stream"
        },
        {
          "name": "stdout",
          "text": "{'epoch': 8, 'train_loss': 1.7908390748500824, 'eval_loss': 1.823598165512085, 'train_ap_score': 0.2592231459395441, 'eval_ap_score': 0.28824090651096823, 'lr': 0.1}\n",
          "output_type": "stream"
        },
        {
          "name": "stderr",
          "text": "100%|██████████| 200/200 [00:18<00:00, 11.10it/s]\n",
          "output_type": "stream"
        },
        {
          "name": "stdout",
          "text": "{'epoch': 9, 'train_loss': 1.7523390066623687, 'eval_loss': 1.812623414993286, 'train_ap_score': 0.27832585768633045, 'eval_ap_score': 0.303375561543106, 'lr': 0.1}\n",
          "output_type": "stream"
        },
        {
          "name": "stderr",
          "text": "100%|██████████| 200/200 [00:18<00:00, 11.09it/s]\n",
          "output_type": "stream"
        },
        {
          "name": "stdout",
          "text": "{'epoch': 10, 'train_loss': 1.7222303634881972, 'eval_loss': 1.775673019886017, 'train_ap_score': 0.2915275285356115, 'eval_ap_score': 0.31129847417244055, 'lr': 0.1}\n",
          "output_type": "stream"
        },
        {
          "name": "stderr",
          "text": "100%|██████████| 200/200 [00:18<00:00, 11.05it/s]\n",
          "output_type": "stream"
        },
        {
          "name": "stdout",
          "text": "{'epoch': 11, 'train_loss': 1.7701544970273972, 'eval_loss': 2.2989519810676575, 'train_ap_score': 0.286726054079862, 'eval_ap_score': 0.27370344895877863, 'lr': 0.1}\n",
          "output_type": "stream"
        },
        {
          "name": "stderr",
          "text": "100%|██████████| 200/200 [00:18<00:00, 11.04it/s]\n",
          "output_type": "stream"
        },
        {
          "name": "stdout",
          "text": "{'epoch': 12, 'train_loss': 1.75467469394207, 'eval_loss': 1.7553371381759644, 'train_ap_score': 0.2838946276504271, 'eval_ap_score': 0.30111249949077185, 'lr': 0.1}\n",
          "output_type": "stream"
        },
        {
          "name": "stderr",
          "text": "100%|██████████| 200/200 [00:18<00:00, 11.08it/s]\n",
          "output_type": "stream"
        },
        {
          "name": "stdout",
          "text": "{'epoch': 13, 'train_loss': 1.7234272521734237, 'eval_loss': 1.7348791003227233, 'train_ap_score': 0.2951728565201023, 'eval_ap_score': 0.30836956082753325, 'lr': 0.1}\n",
          "output_type": "stream"
        },
        {
          "name": "stderr",
          "text": "100%|██████████| 200/200 [00:18<00:00, 11.03it/s]\n",
          "output_type": "stream"
        },
        {
          "name": "stdout",
          "text": "{'epoch': 14, 'train_loss': 1.6627878522872925, 'eval_loss': 1.7599736547470093, 'train_ap_score': 0.31827159126430415, 'eval_ap_score': 0.3343794653172612, 'lr': 0.1}\n",
          "output_type": "stream"
        },
        {
          "name": "stderr",
          "text": "100%|██████████| 200/200 [00:18<00:00, 11.03it/s]\n",
          "output_type": "stream"
        },
        {
          "name": "stdout",
          "text": "{'epoch': 15, 'train_loss': 1.6441261047124862, 'eval_loss': 1.7453055238723756, 'train_ap_score': 0.3249742631417837, 'eval_ap_score': 0.3497929427829964, 'lr': 0.1}\n",
          "output_type": "stream"
        },
        {
          "name": "stderr",
          "text": "100%|██████████| 200/200 [00:18<00:00, 11.07it/s]\n",
          "output_type": "stream"
        },
        {
          "name": "stdout",
          "text": "{'epoch': 16, 'train_loss': 1.6109223175048828, 'eval_loss': 1.6797387981414795, 'train_ap_score': 0.3434387074953008, 'eval_ap_score': 0.3698495097888904, 'lr': 0.1}\n",
          "output_type": "stream"
        },
        {
          "name": "stderr",
          "text": "100%|██████████| 200/200 [00:18<00:00, 11.01it/s]\n",
          "output_type": "stream"
        },
        {
          "name": "stdout",
          "text": "{'epoch': 17, 'train_loss': 1.5816827207803725, 'eval_loss': 1.6955112409591675, 'train_ap_score': 0.3554253329916451, 'eval_ap_score': 0.3636899083105994, 'lr': 0.1}\n",
          "output_type": "stream"
        },
        {
          "name": "stderr",
          "text": "100%|██████████| 200/200 [00:18<00:00, 11.00it/s]\n",
          "output_type": "stream"
        },
        {
          "name": "stdout",
          "text": "{'epoch': 18, 'train_loss': 1.5548419857025146, 'eval_loss': 1.6914558339118957, 'train_ap_score': 0.3700457138922397, 'eval_ap_score': 0.39032261837997206, 'lr': 0.1}\n",
          "output_type": "stream"
        },
        {
          "name": "stderr",
          "text": "100%|██████████| 200/200 [00:18<00:00, 11.08it/s]\n",
          "output_type": "stream"
        },
        {
          "name": "stdout",
          "text": "{'epoch': 19, 'train_loss': 1.5543543434143066, 'eval_loss': 1.9283538699150085, 'train_ap_score': 0.374479029124503, 'eval_ap_score': 0.35053080317590524, 'lr': 0.1}\n",
          "output_type": "stream"
        },
        {
          "name": "stderr",
          "text": "100%|██████████| 200/200 [00:18<00:00, 11.03it/s]\n",
          "output_type": "stream"
        },
        {
          "name": "stdout",
          "text": "{'epoch': 20, 'train_loss': 1.5982032811641693, 'eval_loss': 1.620251100063324, 'train_ap_score': 0.35775619291165295, 'eval_ap_score': 0.4055675211128314, 'lr': 0.1}\n",
          "output_type": "stream"
        },
        {
          "name": "stderr",
          "text": "100%|██████████| 200/200 [00:18<00:00, 11.03it/s]\n",
          "output_type": "stream"
        },
        {
          "name": "stdout",
          "text": "{'epoch': 21, 'train_loss': 1.5077636182308196, 'eval_loss': 1.6826171779632568, 'train_ap_score': 0.39561255326184475, 'eval_ap_score': 0.4033178222260318, 'lr': 0.1}\n",
          "output_type": "stream"
        },
        {
          "name": "stderr",
          "text": "100%|██████████| 200/200 [00:18<00:00, 11.10it/s]\n",
          "output_type": "stream"
        },
        {
          "name": "stdout",
          "text": "{'epoch': 22, 'train_loss': 1.4865851211547851, 'eval_loss': 1.6364241600036622, 'train_ap_score': 0.4052266114537799, 'eval_ap_score': 0.4136528666295761, 'lr': 0.1}\n",
          "output_type": "stream"
        },
        {
          "name": "stderr",
          "text": "100%|██████████| 200/200 [00:18<00:00, 11.04it/s]\n",
          "output_type": "stream"
        },
        {
          "name": "stdout",
          "text": "{'epoch': 23, 'train_loss': 1.459561105966568, 'eval_loss': 1.6573061013221742, 'train_ap_score': 0.41783418131345157, 'eval_ap_score': 0.419393637837536, 'lr': 0.1}\n",
          "output_type": "stream"
        },
        {
          "name": "stderr",
          "text": "100%|██████████| 200/200 [00:18<00:00, 11.07it/s]\n",
          "output_type": "stream"
        },
        {
          "name": "stdout",
          "text": "{'epoch': 24, 'train_loss': 1.4512287724018096, 'eval_loss': 1.6842192029953003, 'train_ap_score': 0.42461522078951724, 'eval_ap_score': 0.4095833751066603, 'lr': 0.1}\n",
          "output_type": "stream"
        },
        {
          "name": "stderr",
          "text": "100%|██████████| 200/200 [00:18<00:00, 11.11it/s]\n",
          "output_type": "stream"
        },
        {
          "name": "stdout",
          "text": "{'epoch': 25, 'train_loss': 1.3047878605127334, 'eval_loss': 1.5548339796066284, 'train_ap_score': 0.5016213712519261, 'eval_ap_score': 0.4930742018078583, 'lr': 0.010000000000000002}\n",
          "output_type": "stream"
        },
        {
          "output_type": "display_data",
          "data": {
            "text/plain": "<IPython.core.display.HTML object>",
            "text/html": "Waiting for W&B process to finish... <strong style=\"color:green\">(success).</strong>"
          },
          "metadata": {}
        },
        {
          "output_type": "display_data",
          "data": {
            "text/plain": "<IPython.core.display.HTML object>",
            "text/html": "<style>\n    table.wandb td:nth-child(1) { padding: 0 10px; text-align: left ; width: auto;} td:nth-child(2) {text-align: left ; width: 100%}\n    .wandb-row { display: flex; flex-direction: row; flex-wrap: wrap; justify-content: flex-start; width: 100% }\n    .wandb-col { display: flex; flex-direction: column; flex-basis: 100%; flex: 1; padding: 10px; }\n    </style>\n<div class=\"wandb-row\"><div class=\"wandb-col\"><h3>Run history:</h3><br/><table class=\"wandb\"><tr><td>epoch</td><td>▁▁▂▂▂▂▃▃▃▄▄▄▅▅▅▅▆▆▆▇▇▇▇██</td></tr><tr><td>eval_ap_score</td><td>▁▁▂▂▃▃▄▄▅▅▄▅▅▅▅▆▆▆▅▆▆▇▇▆█</td></tr><tr><td>eval_loss</td><td>███▆▄▄▄▄▃▃█▃▃▃▃▂▂▂▄▂▂▂▂▂▁</td></tr><tr><td>lr</td><td>████████████████████████▁</td></tr><tr><td>train_ap_score</td><td>▁▁▁▂▃▃▃▄▄▄▄▄▄▅▅▅▅▆▆▅▆▆▇▇█</td></tr><tr><td>train_loss</td><td>█▆▆▄▄▄▃▃▃▃▃▃▃▃▃▂▂▂▂▂▂▂▂▂▁</td></tr></table><br/></div><div class=\"wandb-col\"><h3>Run summary:</h3><br/><table class=\"wandb\"><tr><td>epoch</td><td>25</td></tr><tr><td>eval_ap_score</td><td>0.49307</td></tr><tr><td>eval_loss</td><td>1.55483</td></tr><tr><td>lr</td><td>0.01</td></tr><tr><td>train_ap_score</td><td>0.50162</td></tr><tr><td>train_loss</td><td>1.30479</td></tr></table><br/></div></div>"
          },
          "metadata": {}
        },
        {
          "output_type": "display_data",
          "data": {
            "text/plain": "<IPython.core.display.HTML object>",
            "text/html": " View run <strong style=\"color:#cdcd00\">astral-sweep-1</strong> at: <a href='https://wandb.ai/vanshg/wandb_demo/runs/lqbja0b9' target=\"_blank\">https://wandb.ai/vanshg/wandb_demo/runs/lqbja0b9</a><br/>Synced 6 W&B file(s), 0 media file(s), 0 artifact file(s) and 0 other file(s)"
          },
          "metadata": {}
        },
        {
          "output_type": "display_data",
          "data": {
            "text/plain": "<IPython.core.display.HTML object>",
            "text/html": "Find logs at: <code>./wandb/run-20230527_084747-lqbja0b9/logs</code>"
          },
          "metadata": {}
        },
        {
          "name": "stderr",
          "text": "\u001b[34m\u001b[1mwandb\u001b[0m: Agent Starting Run: lunk4eo6 with config:\n\u001b[34m\u001b[1mwandb\u001b[0m: \tcriterion: ce\n\u001b[34m\u001b[1mwandb\u001b[0m: \tgpu_id: 0\n\u001b[34m\u001b[1mwandb\u001b[0m: \tlr: 0.1\n\u001b[34m\u001b[1mwandb\u001b[0m: \tmodel_type: scratch\n\u001b[34m\u001b[1mwandb\u001b[0m: \tnum_epochs: 25\n\u001b[34m\u001b[1mwandb\u001b[0m: \toptimizer: SGD\n\u001b[34m\u001b[1mwandb\u001b[0m: \tscheduler_patience: 3\n\u001b[34m\u001b[1mwandb\u001b[0m: \tscheduler_thresh: 0.01\n",
          "output_type": "stream"
        },
        {
          "output_type": "display_data",
          "data": {
            "text/plain": "<IPython.core.display.HTML object>",
            "text/html": "Tracking run with wandb version 0.15.3"
          },
          "metadata": {}
        },
        {
          "output_type": "display_data",
          "data": {
            "text/plain": "<IPython.core.display.HTML object>",
            "text/html": "Run data is saved locally in <code>/kaggle/working/wandb/run-20230527_085727-lunk4eo6</code>"
          },
          "metadata": {}
        },
        {
          "output_type": "display_data",
          "data": {
            "text/plain": "<IPython.core.display.HTML object>",
            "text/html": "Syncing run <strong><a href='https://wandb.ai/vanshg/wandb_demo/runs/lunk4eo6' target=\"_blank\">solar-sweep-2</a></strong> to <a href='https://wandb.ai/vanshg/wandb_demo' target=\"_blank\">Weights & Biases</a> (<a href='https://wandb.me/run' target=\"_blank\">docs</a>)<br/>Sweep page: <a href='https://wandb.ai/vanshg/wandb_demo/sweeps/xmxmiut3' target=\"_blank\">https://wandb.ai/vanshg/wandb_demo/sweeps/xmxmiut3</a>"
          },
          "metadata": {}
        },
        {
          "output_type": "display_data",
          "data": {
            "text/plain": "<IPython.core.display.HTML object>",
            "text/html": " View project at <a href='https://wandb.ai/vanshg/wandb_demo' target=\"_blank\">https://wandb.ai/vanshg/wandb_demo</a>"
          },
          "metadata": {}
        },
        {
          "output_type": "display_data",
          "data": {
            "text/plain": "<IPython.core.display.HTML object>",
            "text/html": " View sweep at <a href='https://wandb.ai/vanshg/wandb_demo/sweeps/xmxmiut3' target=\"_blank\">https://wandb.ai/vanshg/wandb_demo/sweeps/xmxmiut3</a>"
          },
          "metadata": {}
        },
        {
          "output_type": "display_data",
          "data": {
            "text/plain": "<IPython.core.display.HTML object>",
            "text/html": " View run at <a href='https://wandb.ai/vanshg/wandb_demo/runs/lunk4eo6' target=\"_blank\">https://wandb.ai/vanshg/wandb_demo/runs/lunk4eo6</a>"
          },
          "metadata": {}
        },
        {
          "name": "stderr",
          "text": "100%|██████████| 200/200 [00:18<00:00, 10.83it/s]\n",
          "output_type": "stream"
        },
        {
          "name": "stdout",
          "text": "{'epoch': 1, 'train_loss': 1.7584976667165757, 'eval_loss': 1.4334734106063842, 'train_ap_score': 0.3933148176044473, 'eval_ap_score': 0.5268045334458086, 'lr': 0.1}\n",
          "output_type": "stream"
        },
        {
          "name": "stderr",
          "text": "100%|██████████| 200/200 [00:18<00:00, 10.88it/s]\n",
          "output_type": "stream"
        },
        {
          "name": "stdout",
          "text": "{'epoch': 2, 'train_loss': 1.2338648849725724, 'eval_loss': 1.2134128427505493, 'train_ap_score': 0.5981846442343983, 'eval_ap_score': 0.6329108429642053, 'lr': 0.1}\n",
          "output_type": "stream"
        },
        {
          "name": "stderr",
          "text": "100%|██████████| 200/200 [00:17<00:00, 11.18it/s]\n",
          "output_type": "stream"
        },
        {
          "name": "stdout",
          "text": "{'epoch': 3, 'train_loss': 1.0009773004055023, 'eval_loss': 1.111380833387375, 'train_ap_score': 0.7074035494095015, 'eval_ap_score': 0.6906032685651023, 'lr': 0.1}\n",
          "output_type": "stream"
        },
        {
          "name": "stderr",
          "text": "100%|██████████| 200/200 [00:17<00:00, 11.29it/s]\n",
          "output_type": "stream"
        },
        {
          "name": "stdout",
          "text": "{'epoch': 4, 'train_loss': 0.842453601360321, 'eval_loss': 1.0804560101032257, 'train_ap_score': 0.7740803934802077, 'eval_ap_score': 0.7185419661112036, 'lr': 0.1}\n",
          "output_type": "stream"
        },
        {
          "name": "stderr",
          "text": "100%|██████████| 200/200 [00:17<00:00, 11.22it/s]\n",
          "output_type": "stream"
        },
        {
          "name": "stdout",
          "text": "{'epoch': 5, 'train_loss': 0.7009861117601395, 'eval_loss': 1.0636798346042633, 'train_ap_score': 0.8306555027438419, 'eval_ap_score': 0.7228585609154086, 'lr': 0.1}\n",
          "output_type": "stream"
        },
        {
          "name": "stderr",
          "text": "100%|██████████| 200/200 [00:18<00:00, 11.11it/s]\n",
          "output_type": "stream"
        },
        {
          "name": "stdout",
          "text": "{'epoch': 6, 'train_loss': 0.5720582045614719, 'eval_loss': 1.223393542766571, 'train_ap_score': 0.8779818371033613, 'eval_ap_score': 0.706848678413046, 'lr': 0.1}\n",
          "output_type": "stream"
        },
        {
          "name": "stderr",
          "text": "100%|██████████| 200/200 [00:17<00:00, 11.30it/s]\n",
          "output_type": "stream"
        },
        {
          "name": "stdout",
          "text": "{'epoch': 7, 'train_loss': 0.4626097749173641, 'eval_loss': 1.0852375650405883, 'train_ap_score': 0.9137744892856337, 'eval_ap_score': 0.7382739926824801, 'lr': 0.1}\n",
          "output_type": "stream"
        },
        {
          "name": "stderr",
          "text": "100%|██████████| 200/200 [00:17<00:00, 11.22it/s]\n",
          "output_type": "stream"
        },
        {
          "name": "stdout",
          "text": "{'epoch': 8, 'train_loss': 0.3756371620297432, 'eval_loss': 1.1772041749954223, 'train_ap_score': 0.9386603331220744, 'eval_ap_score': 0.7382093356625942, 'lr': 0.1}\n",
          "output_type": "stream"
        },
        {
          "name": "stderr",
          "text": "100%|██████████| 200/200 [00:17<00:00, 11.24it/s]\n",
          "output_type": "stream"
        },
        {
          "name": "stdout",
          "text": "{'epoch': 9, 'train_loss': 0.29104177340865134, 'eval_loss': 1.1882288146018982, 'train_ap_score': 0.9604961947202444, 'eval_ap_score': 0.7511115281562916, 'lr': 0.1}\n",
          "output_type": "stream"
        },
        {
          "name": "stderr",
          "text": "100%|██████████| 200/200 [00:17<00:00, 11.32it/s]\n",
          "output_type": "stream"
        },
        {
          "name": "stdout",
          "text": "{'epoch': 10, 'train_loss': 0.09795217532664538, 'eval_loss': 1.1664111816883087, 'train_ap_score': 0.9956885567842235, 'eval_ap_score': 0.7772348684361757, 'lr': 0.010000000000000002}\n",
          "output_type": "stream"
        },
        {
          "name": "stderr",
          "text": "100%|██████████| 200/200 [00:17<00:00, 11.27it/s]\n",
          "output_type": "stream"
        },
        {
          "name": "stdout",
          "text": "{'epoch': 11, 'train_loss': 0.04246657873503864, 'eval_loss': 1.240219485759735, 'train_ap_score': 0.9994122278341415, 'eval_ap_score': 0.7776977572687944, 'lr': 0.010000000000000002}\n",
          "output_type": "stream"
        },
        {
          "name": "stderr",
          "text": "100%|██████████| 200/200 [00:17<00:00, 11.26it/s]\n",
          "output_type": "stream"
        },
        {
          "name": "stdout",
          "text": "{'epoch': 12, 'train_loss': 0.024475610363297165, 'eval_loss': 1.2912779068946838, 'train_ap_score': 0.9998582913740044, 'eval_ap_score': 0.7785982763567184, 'lr': 0.010000000000000002}\n",
          "output_type": "stream"
        },
        {
          "name": "stderr",
          "text": "100%|██████████| 200/200 [00:17<00:00, 11.31it/s]\n",
          "output_type": "stream"
        },
        {
          "name": "stdout",
          "text": "{'epoch': 13, 'train_loss': 0.01765377708012238, 'eval_loss': 1.3504981780052185, 'train_ap_score': 0.9999229239151308, 'eval_ap_score': 0.7787973611343724, 'lr': 0.010000000000000002}\n",
          "output_type": "stream"
        },
        {
          "name": "stderr",
          "text": "100%|██████████| 200/200 [00:17<00:00, 11.26it/s]\n",
          "output_type": "stream"
        },
        {
          "name": "stdout",
          "text": "{'epoch': 14, 'train_loss': 0.013064505823422223, 'eval_loss': 1.349721577167511, 'train_ap_score': 0.9999689554382684, 'eval_ap_score': 0.7793583600232542, 'lr': 0.0010000000000000002}\n",
          "output_type": "stream"
        },
        {
          "name": "stderr",
          "text": "100%|██████████| 200/200 [00:17<00:00, 11.19it/s]\n",
          "output_type": "stream"
        },
        {
          "name": "stdout",
          "text": "{'epoch': 15, 'train_loss': 0.013183124775532634, 'eval_loss': 1.3663033318519593, 'train_ap_score': 0.9999586352215412, 'eval_ap_score': 0.7786638965743522, 'lr': 0.0010000000000000002}\n",
          "output_type": "stream"
        },
        {
          "name": "stderr",
          "text": "100%|██████████| 200/200 [00:17<00:00, 11.30it/s]\n",
          "output_type": "stream"
        },
        {
          "name": "stdout",
          "text": "{'epoch': 16, 'train_loss': 0.011697884718887507, 'eval_loss': 1.3686435103416443, 'train_ap_score': 0.9999711173035468, 'eval_ap_score': 0.7784295951602918, 'lr': 0.0010000000000000002}\n",
          "output_type": "stream"
        },
        {
          "name": "stderr",
          "text": "100%|██████████| 200/200 [00:17<00:00, 11.23it/s]\n",
          "output_type": "stream"
        },
        {
          "name": "stdout",
          "text": "{'epoch': 17, 'train_loss': 0.01183682088041678, 'eval_loss': 1.380466103553772, 'train_ap_score': 0.9999752398532044, 'eval_ap_score': 0.7780286074780531, 'lr': 0.0010000000000000002}\n",
          "output_type": "stream"
        },
        {
          "name": "stderr",
          "text": "100%|██████████| 200/200 [00:17<00:00, 11.23it/s]\n",
          "output_type": "stream"
        },
        {
          "name": "stdout",
          "text": "{'epoch': 18, 'train_loss': 0.011558562964200974, 'eval_loss': 1.3703847217559815, 'train_ap_score': 0.9999681903755846, 'eval_ap_score': 0.7789053913467565, 'lr': 0.00010000000000000003}\n",
          "output_type": "stream"
        },
        {
          "name": "stderr",
          "text": "100%|██████████| 200/200 [00:17<00:00, 11.29it/s]\n",
          "output_type": "stream"
        },
        {
          "name": "stdout",
          "text": "{'epoch': 19, 'train_loss': 0.011416428062366321, 'eval_loss': 1.3739107990264892, 'train_ap_score': 0.9999799425746799, 'eval_ap_score': 0.7786997775362628, 'lr': 0.00010000000000000003}\n",
          "output_type": "stream"
        },
        {
          "name": "stderr",
          "text": "100%|██████████| 200/200 [00:17<00:00, 11.24it/s]\n",
          "output_type": "stream"
        },
        {
          "name": "stdout",
          "text": "{'epoch': 20, 'train_loss': 0.011366142390761525, 'eval_loss': 1.3695065069198609, 'train_ap_score': 0.9999744758731633, 'eval_ap_score': 0.7787826523694075, 'lr': 0.00010000000000000003}\n",
          "output_type": "stream"
        },
        {
          "name": "stderr",
          "text": "100%|██████████| 200/200 [00:17<00:00, 11.24it/s]\n",
          "output_type": "stream"
        },
        {
          "name": "stdout",
          "text": "{'epoch': 21, 'train_loss': 0.011437849490903318, 'eval_loss': 1.363156247138977, 'train_ap_score': 0.9999784902222191, 'eval_ap_score': 0.7785543297629298, 'lr': 0.00010000000000000003}\n",
          "output_type": "stream"
        },
        {
          "name": "stderr",
          "text": "100%|██████████| 200/200 [00:17<00:00, 11.32it/s]\n",
          "output_type": "stream"
        },
        {
          "name": "stdout",
          "text": "{'epoch': 22, 'train_loss': 0.01137466291198507, 'eval_loss': 1.3608386516571045, 'train_ap_score': 0.9999709290126544, 'eval_ap_score': 0.7788089820428217, 'lr': 1.0000000000000004e-05}\n",
          "output_type": "stream"
        },
        {
          "name": "stderr",
          "text": "100%|██████████| 200/200 [00:17<00:00, 11.27it/s]\n",
          "output_type": "stream"
        },
        {
          "name": "stdout",
          "text": "{'epoch': 23, 'train_loss': 0.01138187555829063, 'eval_loss': 1.364922125339508, 'train_ap_score': 0.9999817918105999, 'eval_ap_score': 0.7786982525406991, 'lr': 1.0000000000000004e-05}\n",
          "output_type": "stream"
        },
        {
          "name": "stderr",
          "text": "100%|██████████| 200/200 [00:17<00:00, 11.27it/s]\n",
          "output_type": "stream"
        },
        {
          "name": "stdout",
          "text": "{'epoch': 24, 'train_loss': 0.011229433016851545, 'eval_loss': 1.373980371952057, 'train_ap_score': 0.9999733722461517, 'eval_ap_score': 0.7785655301350776, 'lr': 1.0000000000000004e-05}\n",
          "output_type": "stream"
        },
        {
          "name": "stderr",
          "text": "100%|██████████| 200/200 [00:17<00:00, 11.32it/s]\n",
          "output_type": "stream"
        },
        {
          "name": "stdout",
          "text": "{'epoch': 25, 'train_loss': 0.011343748446088285, 'eval_loss': 1.364029173851013, 'train_ap_score': 0.9999780961337794, 'eval_ap_score': 0.7788530938528544, 'lr': 1.0000000000000004e-05}\n",
          "output_type": "stream"
        },
        {
          "output_type": "display_data",
          "data": {
            "text/plain": "<IPython.core.display.HTML object>",
            "text/html": "Waiting for W&B process to finish... <strong style=\"color:green\">(success).</strong>"
          },
          "metadata": {}
        },
        {
          "output_type": "display_data",
          "data": {
            "text/plain": "<IPython.core.display.HTML object>",
            "text/html": "<style>\n    table.wandb td:nth-child(1) { padding: 0 10px; text-align: left ; width: auto;} td:nth-child(2) {text-align: left ; width: 100%}\n    .wandb-row { display: flex; flex-direction: row; flex-wrap: wrap; justify-content: flex-start; width: 100% }\n    .wandb-col { display: flex; flex-direction: column; flex-basis: 100%; flex: 1; padding: 10px; }\n    </style>\n<div class=\"wandb-row\"><div class=\"wandb-col\"><h3>Run history:</h3><br/><table class=\"wandb\"><tr><td>epoch</td><td>▁▁▂▂▂▂▃▃▃▄▄▄▅▅▅▅▆▆▆▇▇▇▇██</td></tr><tr><td>eval_ap_score</td><td>▁▄▆▆▆▆▇▇▇████████████████</td></tr><tr><td>eval_loss</td><td>█▄▂▁▁▄▁▃▃▃▄▅▆▆▇▇▇▇▇▇▇▇▇▇▇</td></tr><tr><td>lr</td><td>█████████▂▂▂▂▁▁▁▁▁▁▁▁▁▁▁▁</td></tr><tr><td>train_ap_score</td><td>▁▃▅▅▆▇▇▇█████████████████</td></tr><tr><td>train_loss</td><td>█▆▅▄▄▃▃▂▂▁▁▁▁▁▁▁▁▁▁▁▁▁▁▁▁</td></tr></table><br/></div><div class=\"wandb-col\"><h3>Run summary:</h3><br/><table class=\"wandb\"><tr><td>epoch</td><td>25</td></tr><tr><td>eval_ap_score</td><td>0.77885</td></tr><tr><td>eval_loss</td><td>1.36403</td></tr><tr><td>lr</td><td>1e-05</td></tr><tr><td>train_ap_score</td><td>0.99998</td></tr><tr><td>train_loss</td><td>0.01134</td></tr></table><br/></div></div>"
          },
          "metadata": {}
        },
        {
          "output_type": "display_data",
          "data": {
            "text/plain": "<IPython.core.display.HTML object>",
            "text/html": " View run <strong style=\"color:#cdcd00\">solar-sweep-2</strong> at: <a href='https://wandb.ai/vanshg/wandb_demo/runs/lunk4eo6' target=\"_blank\">https://wandb.ai/vanshg/wandb_demo/runs/lunk4eo6</a><br/>Synced 6 W&B file(s), 0 media file(s), 0 artifact file(s) and 0 other file(s)"
          },
          "metadata": {}
        },
        {
          "output_type": "display_data",
          "data": {
            "text/plain": "<IPython.core.display.HTML object>",
            "text/html": "Find logs at: <code>./wandb/run-20230527_085727-lunk4eo6/logs</code>"
          },
          "metadata": {}
        },
        {
          "name": "stderr",
          "text": "\u001b[34m\u001b[1mwandb\u001b[0m: Agent Starting Run: qeubnwfn with config:\n\u001b[34m\u001b[1mwandb\u001b[0m: \tcriterion: ce\n\u001b[34m\u001b[1mwandb\u001b[0m: \tgpu_id: 0\n\u001b[34m\u001b[1mwandb\u001b[0m: \tlr: 0.1\n\u001b[34m\u001b[1mwandb\u001b[0m: \tmodel_type: scratch\n\u001b[34m\u001b[1mwandb\u001b[0m: \tnum_epochs: 25\n\u001b[34m\u001b[1mwandb\u001b[0m: \toptimizer: RMSprop\n\u001b[34m\u001b[1mwandb\u001b[0m: \tscheduler_patience: 3\n\u001b[34m\u001b[1mwandb\u001b[0m: \tscheduler_thresh: 0.01\n",
          "output_type": "stream"
        },
        {
          "output_type": "display_data",
          "data": {
            "text/plain": "<IPython.core.display.HTML object>",
            "text/html": "Tracking run with wandb version 0.15.3"
          },
          "metadata": {}
        },
        {
          "output_type": "display_data",
          "data": {
            "text/plain": "<IPython.core.display.HTML object>",
            "text/html": "Run data is saved locally in <code>/kaggle/working/wandb/run-20230527_090659-qeubnwfn</code>"
          },
          "metadata": {}
        },
        {
          "output_type": "display_data",
          "data": {
            "text/plain": "<IPython.core.display.HTML object>",
            "text/html": "Syncing run <strong><a href='https://wandb.ai/vanshg/wandb_demo/runs/qeubnwfn' target=\"_blank\">rose-sweep-3</a></strong> to <a href='https://wandb.ai/vanshg/wandb_demo' target=\"_blank\">Weights & Biases</a> (<a href='https://wandb.me/run' target=\"_blank\">docs</a>)<br/>Sweep page: <a href='https://wandb.ai/vanshg/wandb_demo/sweeps/xmxmiut3' target=\"_blank\">https://wandb.ai/vanshg/wandb_demo/sweeps/xmxmiut3</a>"
          },
          "metadata": {}
        },
        {
          "output_type": "display_data",
          "data": {
            "text/plain": "<IPython.core.display.HTML object>",
            "text/html": " View project at <a href='https://wandb.ai/vanshg/wandb_demo' target=\"_blank\">https://wandb.ai/vanshg/wandb_demo</a>"
          },
          "metadata": {}
        },
        {
          "output_type": "display_data",
          "data": {
            "text/plain": "<IPython.core.display.HTML object>",
            "text/html": " View sweep at <a href='https://wandb.ai/vanshg/wandb_demo/sweeps/xmxmiut3' target=\"_blank\">https://wandb.ai/vanshg/wandb_demo/sweeps/xmxmiut3</a>"
          },
          "metadata": {}
        },
        {
          "output_type": "display_data",
          "data": {
            "text/plain": "<IPython.core.display.HTML object>",
            "text/html": " View run at <a href='https://wandb.ai/vanshg/wandb_demo/runs/qeubnwfn' target=\"_blank\">https://wandb.ai/vanshg/wandb_demo/runs/qeubnwfn</a>"
          },
          "metadata": {}
        },
        {
          "name": "stderr",
          "text": "100%|██████████| 200/200 [00:18<00:00, 10.67it/s]\n",
          "output_type": "stream"
        },
        {
          "name": "stdout",
          "text": "{'epoch': 1, 'train_loss': 6.926139033436775, 'eval_loss': 2.072204923629761, 'train_ap_score': 0.14297221665107968, 'eval_ap_score': 0.18644167669947442, 'lr': 0.1}\n",
          "output_type": "stream"
        },
        {
          "name": "stderr",
          "text": "100%|██████████| 200/200 [00:17<00:00, 11.14it/s]\n",
          "output_type": "stream"
        },
        {
          "name": "stdout",
          "text": "{'epoch': 2, 'train_loss': 2.012248361110687, 'eval_loss': 1.9646860933303834, 'train_ap_score': 0.1779794864728505, 'eval_ap_score': 0.19405632931940964, 'lr': 0.1}\n",
          "output_type": "stream"
        },
        {
          "name": "stderr",
          "text": "100%|██████████| 200/200 [00:17<00:00, 11.13it/s]\n",
          "output_type": "stream"
        },
        {
          "name": "stdout",
          "text": "{'epoch': 3, 'train_loss': 1.9936530637741088, 'eval_loss': 1.941698019504547, 'train_ap_score': 0.18127687517815036, 'eval_ap_score': 0.1958584448365541, 'lr': 0.1}\n",
          "output_type": "stream"
        },
        {
          "name": "stderr",
          "text": "100%|██████████| 200/200 [00:18<00:00, 11.09it/s]\n",
          "output_type": "stream"
        },
        {
          "name": "stdout",
          "text": "{'epoch': 4, 'train_loss': 2.1211182641983033, 'eval_loss': 1.944364902973175, 'train_ap_score': 0.17862505894081265, 'eval_ap_score': 0.20215087695439152, 'lr': 0.1}\n",
          "output_type": "stream"
        },
        {
          "name": "stderr",
          "text": "100%|██████████| 200/200 [00:17<00:00, 11.16it/s]\n",
          "output_type": "stream"
        },
        {
          "name": "stdout",
          "text": "{'epoch': 5, 'train_loss': 1.9258545386791228, 'eval_loss': 1.9272943496704102, 'train_ap_score': 0.19508196747986498, 'eval_ap_score': 0.21093539428099536, 'lr': 0.1}\n",
          "output_type": "stream"
        },
        {
          "name": "stderr",
          "text": "100%|██████████| 200/200 [00:17<00:00, 11.13it/s]\n",
          "output_type": "stream"
        },
        {
          "name": "stdout",
          "text": "{'epoch': 6, 'train_loss': 1.9439268523454667, 'eval_loss': 2.5933165884017946, 'train_ap_score': 0.19914202303708234, 'eval_ap_score': 0.20647195560704473, 'lr': 0.1}\n",
          "output_type": "stream"
        },
        {
          "name": "stderr",
          "text": "100%|██████████| 200/200 [00:18<00:00, 11.08it/s]\n",
          "output_type": "stream"
        },
        {
          "name": "stdout",
          "text": "{'epoch': 7, 'train_loss': 1.8588237822055818, 'eval_loss': 1.8653514504432678, 'train_ap_score': 0.22753688938388733, 'eval_ap_score': 0.2542535350019489, 'lr': 0.1}\n",
          "output_type": "stream"
        },
        {
          "name": "stderr",
          "text": "100%|██████████| 200/200 [00:17<00:00, 11.16it/s]\n",
          "output_type": "stream"
        },
        {
          "name": "stdout",
          "text": "{'epoch': 8, 'train_loss': 1.9509722673892975, 'eval_loss': 2.1234180450439455, 'train_ap_score': 0.23246109273412535, 'eval_ap_score': 0.24965494301126614, 'lr': 0.1}\n",
          "output_type": "stream"
        },
        {
          "name": "stderr",
          "text": "100%|██████████| 200/200 [00:18<00:00, 11.10it/s]\n",
          "output_type": "stream"
        },
        {
          "name": "stdout",
          "text": "{'epoch': 9, 'train_loss': 1.7992057806253434, 'eval_loss': 1.896580877304077, 'train_ap_score': 0.26213049869684146, 'eval_ap_score': 0.29342529839260795, 'lr': 0.1}\n",
          "output_type": "stream"
        },
        {
          "name": "stderr",
          "text": "100%|██████████| 200/200 [00:18<00:00, 11.10it/s]\n",
          "output_type": "stream"
        },
        {
          "name": "stdout",
          "text": "{'epoch': 10, 'train_loss': 1.7580028867721558, 'eval_loss': 1.7393263101577758, 'train_ap_score': 0.2855213460806944, 'eval_ap_score': 0.31536826859009637, 'lr': 0.1}\n",
          "output_type": "stream"
        },
        {
          "name": "stderr",
          "text": "100%|██████████| 200/200 [00:17<00:00, 11.17it/s]\n",
          "output_type": "stream"
        },
        {
          "name": "stdout",
          "text": "{'epoch': 11, 'train_loss': 1.7891321849822999, 'eval_loss': 1.7679357194900513, 'train_ap_score': 0.2931336407996444, 'eval_ap_score': 0.31320270535920536, 'lr': 0.1}\n",
          "output_type": "stream"
        },
        {
          "name": "stderr",
          "text": "100%|██████████| 200/200 [00:18<00:00, 11.09it/s]\n",
          "output_type": "stream"
        },
        {
          "name": "stdout",
          "text": "{'epoch': 12, 'train_loss': 1.71003442466259, 'eval_loss': 2.6777716445922852, 'train_ap_score': 0.3063198789984807, 'eval_ap_score': 0.28639567885670947, 'lr': 0.1}\n",
          "output_type": "stream"
        },
        {
          "name": "stderr",
          "text": "100%|██████████| 200/200 [00:17<00:00, 11.13it/s]\n",
          "output_type": "stream"
        },
        {
          "name": "stdout",
          "text": "{'epoch': 13, 'train_loss': 1.919132109284401, 'eval_loss': 2.0975286507606508, 'train_ap_score': 0.2965845315531696, 'eval_ap_score': 0.2375861934495786, 'lr': 0.1}\n",
          "output_type": "stream"
        },
        {
          "name": "stderr",
          "text": "100%|██████████| 200/200 [00:17<00:00, 11.19it/s]\n",
          "output_type": "stream"
        },
        {
          "name": "stdout",
          "text": "{'epoch': 14, 'train_loss': 1.709505314230919, 'eval_loss': 2.0472233366966246, 'train_ap_score': 0.31052499341892464, 'eval_ap_score': 0.3040294919980318, 'lr': 0.1}\n",
          "output_type": "stream"
        },
        {
          "name": "stderr",
          "text": "100%|██████████| 200/200 [00:17<00:00, 11.13it/s]\n",
          "output_type": "stream"
        },
        {
          "name": "stdout",
          "text": "{'epoch': 15, 'train_loss': 1.5537768042087554, 'eval_loss': 1.6765282225608826, 'train_ap_score': 0.3653904537142607, 'eval_ap_score': 0.3766996384937851, 'lr': 0.010000000000000002}\n",
          "output_type": "stream"
        },
        {
          "name": "stderr",
          "text": "100%|██████████| 200/200 [00:17<00:00, 11.14it/s]\n",
          "output_type": "stream"
        },
        {
          "name": "stdout",
          "text": "{'epoch': 16, 'train_loss': 1.5176803815364837, 'eval_loss': 1.6361150097846986, 'train_ap_score': 0.3813034191552699, 'eval_ap_score': 0.38481561118857577, 'lr': 0.010000000000000002}\n",
          "output_type": "stream"
        },
        {
          "name": "stderr",
          "text": "100%|██████████| 200/200 [00:17<00:00, 11.20it/s]\n",
          "output_type": "stream"
        },
        {
          "name": "stdout",
          "text": "{'epoch': 17, 'train_loss': 1.450632100701332, 'eval_loss': 1.5319772124290467, 'train_ap_score': 0.42564236504145603, 'eval_ap_score': 0.4551425841057918, 'lr': 0.010000000000000002}\n",
          "output_type": "stream"
        },
        {
          "name": "stderr",
          "text": "100%|██████████| 200/200 [00:18<00:00, 11.09it/s]\n",
          "output_type": "stream"
        },
        {
          "name": "stdout",
          "text": "{'epoch': 18, 'train_loss': 1.3120960754156112, 'eval_loss': 1.3654064798355103, 'train_ap_score': 0.5021791423952204, 'eval_ap_score': 0.5350675506219856, 'lr': 0.010000000000000002}\n",
          "output_type": "stream"
        },
        {
          "name": "stderr",
          "text": "100%|██████████| 200/200 [00:18<00:00, 11.11it/s]\n",
          "output_type": "stream"
        },
        {
          "name": "stdout",
          "text": "{'epoch': 19, 'train_loss': 1.221956359744072, 'eval_loss': 1.332215304374695, 'train_ap_score': 0.5552920279216189, 'eval_ap_score': 0.5621447297933166, 'lr': 0.010000000000000002}\n",
          "output_type": "stream"
        },
        {
          "name": "stderr",
          "text": "100%|██████████| 200/200 [00:17<00:00, 11.16it/s]\n",
          "output_type": "stream"
        },
        {
          "name": "stdout",
          "text": "{'epoch': 20, 'train_loss': 1.1711073252558708, 'eval_loss': 1.2746020531654358, 'train_ap_score': 0.5873882280142604, 'eval_ap_score': 0.5860513659166103, 'lr': 0.010000000000000002}\n",
          "output_type": "stream"
        },
        {
          "name": "stderr",
          "text": "100%|██████████| 200/200 [00:18<00:00, 11.11it/s]\n",
          "output_type": "stream"
        },
        {
          "name": "stdout",
          "text": "{'epoch': 21, 'train_loss': 1.1285929867625237, 'eval_loss': 1.2516761994361878, 'train_ap_score': 0.6130000903602745, 'eval_ap_score': 0.6032780555399022, 'lr': 0.010000000000000002}\n",
          "output_type": "stream"
        },
        {
          "name": "stderr",
          "text": "100%|██████████| 200/200 [00:18<00:00, 11.10it/s]\n",
          "output_type": "stream"
        },
        {
          "name": "stdout",
          "text": "{'epoch': 22, 'train_loss': 1.095070539712906, 'eval_loss': 1.2346812510490417, 'train_ap_score': 0.633745476348555, 'eval_ap_score': 0.6200906974443947, 'lr': 0.010000000000000002}\n",
          "output_type": "stream"
        },
        {
          "name": "stderr",
          "text": "100%|██████████| 200/200 [00:17<00:00, 11.15it/s]\n",
          "output_type": "stream"
        },
        {
          "name": "stdout",
          "text": "{'epoch': 23, 'train_loss': 1.062930813729763, 'eval_loss': 1.2231602716445922, 'train_ap_score': 0.650063193278149, 'eval_ap_score': 0.6269612476178594, 'lr': 0.010000000000000002}\n",
          "output_type": "stream"
        },
        {
          "name": "stderr",
          "text": "100%|██████████| 200/200 [00:18<00:00, 11.06it/s]\n",
          "output_type": "stream"
        },
        {
          "name": "stdout",
          "text": "{'epoch': 24, 'train_loss': 1.0369501894712447, 'eval_loss': 1.2018325877189637, 'train_ap_score': 0.6640473596283378, 'eval_ap_score': 0.6384332421475161, 'lr': 0.010000000000000002}\n",
          "output_type": "stream"
        },
        {
          "name": "stderr",
          "text": "100%|██████████| 200/200 [00:18<00:00, 11.09it/s]\n",
          "output_type": "stream"
        },
        {
          "name": "stdout",
          "text": "{'epoch': 25, 'train_loss': 1.003995687365532, 'eval_loss': 1.1988354325294495, 'train_ap_score': 0.6812095419472757, 'eval_ap_score': 0.6475926524955223, 'lr': 0.010000000000000002}\n",
          "output_type": "stream"
        },
        {
          "output_type": "display_data",
          "data": {
            "text/plain": "<IPython.core.display.HTML object>",
            "text/html": "Waiting for W&B process to finish... <strong style=\"color:green\">(success).</strong>"
          },
          "metadata": {}
        },
        {
          "output_type": "display_data",
          "data": {
            "text/plain": "VBox(children=(Label(value='0.001 MB of 0.001 MB uploaded (0.000 MB deduped)\\r'), FloatProgress(value=1.0, max…",
            "application/vnd.jupyter.widget-view+json": {
              "version_major": 2,
              "version_minor": 0,
              "model_id": "531d9c508555423685f84636395a8c6f"
            }
          },
          "metadata": {}
        },
        {
          "output_type": "display_data",
          "data": {
            "text/plain": "<IPython.core.display.HTML object>",
            "text/html": "<style>\n    table.wandb td:nth-child(1) { padding: 0 10px; text-align: left ; width: auto;} td:nth-child(2) {text-align: left ; width: 100%}\n    .wandb-row { display: flex; flex-direction: row; flex-wrap: wrap; justify-content: flex-start; width: 100% }\n    .wandb-col { display: flex; flex-direction: column; flex-basis: 100%; flex: 1; padding: 10px; }\n    </style>\n<div class=\"wandb-row\"><div class=\"wandb-col\"><h3>Run history:</h3><br/><table class=\"wandb\"><tr><td>epoch</td><td>▁▁▂▂▂▂▃▃▃▄▄▄▅▅▅▅▆▆▆▇▇▇▇██</td></tr><tr><td>eval_ap_score</td><td>▁▁▁▁▁▁▂▂▃▃▃▃▂▃▄▄▅▆▇▇▇████</td></tr><tr><td>eval_loss</td><td>▅▅▅▅▄█▄▅▄▄▄█▅▅▃▃▃▂▂▁▁▁▁▁▁</td></tr><tr><td>lr</td><td>██████████████▁▁▁▁▁▁▁▁▁▁▁</td></tr><tr><td>train_ap_score</td><td>▁▁▁▁▂▂▂▂▃▃▃▃▃▃▄▄▅▆▆▇▇▇███</td></tr><tr><td>train_loss</td><td>█▂▂▂▂▂▂▂▂▂▂▂▂▂▂▂▂▁▁▁▁▁▁▁▁</td></tr></table><br/></div><div class=\"wandb-col\"><h3>Run summary:</h3><br/><table class=\"wandb\"><tr><td>epoch</td><td>25</td></tr><tr><td>eval_ap_score</td><td>0.64759</td></tr><tr><td>eval_loss</td><td>1.19884</td></tr><tr><td>lr</td><td>0.01</td></tr><tr><td>train_ap_score</td><td>0.68121</td></tr><tr><td>train_loss</td><td>1.004</td></tr></table><br/></div></div>"
          },
          "metadata": {}
        },
        {
          "output_type": "display_data",
          "data": {
            "text/plain": "<IPython.core.display.HTML object>",
            "text/html": " View run <strong style=\"color:#cdcd00\">rose-sweep-3</strong> at: <a href='https://wandb.ai/vanshg/wandb_demo/runs/qeubnwfn' target=\"_blank\">https://wandb.ai/vanshg/wandb_demo/runs/qeubnwfn</a><br/>Synced 6 W&B file(s), 0 media file(s), 0 artifact file(s) and 0 other file(s)"
          },
          "metadata": {}
        },
        {
          "output_type": "display_data",
          "data": {
            "text/plain": "<IPython.core.display.HTML object>",
            "text/html": "Find logs at: <code>./wandb/run-20230527_090659-qeubnwfn/logs</code>"
          },
          "metadata": {}
        },
        {
          "name": "stderr",
          "text": "\u001b[34m\u001b[1mwandb\u001b[0m: Agent Starting Run: 8hd39fe7 with config:\n\u001b[34m\u001b[1mwandb\u001b[0m: \tcriterion: ce\n\u001b[34m\u001b[1mwandb\u001b[0m: \tgpu_id: 0\n\u001b[34m\u001b[1mwandb\u001b[0m: \tlr: 0.1\n\u001b[34m\u001b[1mwandb\u001b[0m: \tmodel_type: pretrained\n\u001b[34m\u001b[1mwandb\u001b[0m: \tnum_epochs: 25\n\u001b[34m\u001b[1mwandb\u001b[0m: \toptimizer: adam\n\u001b[34m\u001b[1mwandb\u001b[0m: \tscheduler_patience: 3\n\u001b[34m\u001b[1mwandb\u001b[0m: \tscheduler_thresh: 0.01\n",
          "output_type": "stream"
        },
        {
          "output_type": "display_data",
          "data": {
            "text/plain": "<IPython.core.display.HTML object>",
            "text/html": "Tracking run with wandb version 0.15.3"
          },
          "metadata": {}
        },
        {
          "output_type": "display_data",
          "data": {
            "text/plain": "<IPython.core.display.HTML object>",
            "text/html": "Run data is saved locally in <code>/kaggle/working/wandb/run-20230527_091635-8hd39fe7</code>"
          },
          "metadata": {}
        },
        {
          "output_type": "display_data",
          "data": {
            "text/plain": "<IPython.core.display.HTML object>",
            "text/html": "Syncing run <strong><a href='https://wandb.ai/vanshg/wandb_demo/runs/8hd39fe7' target=\"_blank\">worldly-sweep-4</a></strong> to <a href='https://wandb.ai/vanshg/wandb_demo' target=\"_blank\">Weights & Biases</a> (<a href='https://wandb.me/run' target=\"_blank\">docs</a>)<br/>Sweep page: <a href='https://wandb.ai/vanshg/wandb_demo/sweeps/xmxmiut3' target=\"_blank\">https://wandb.ai/vanshg/wandb_demo/sweeps/xmxmiut3</a>"
          },
          "metadata": {}
        },
        {
          "output_type": "display_data",
          "data": {
            "text/plain": "<IPython.core.display.HTML object>",
            "text/html": " View project at <a href='https://wandb.ai/vanshg/wandb_demo' target=\"_blank\">https://wandb.ai/vanshg/wandb_demo</a>"
          },
          "metadata": {}
        },
        {
          "output_type": "display_data",
          "data": {
            "text/plain": "<IPython.core.display.HTML object>",
            "text/html": " View sweep at <a href='https://wandb.ai/vanshg/wandb_demo/sweeps/xmxmiut3' target=\"_blank\">https://wandb.ai/vanshg/wandb_demo/sweeps/xmxmiut3</a>"
          },
          "metadata": {}
        },
        {
          "output_type": "display_data",
          "data": {
            "text/plain": "<IPython.core.display.HTML object>",
            "text/html": " View run at <a href='https://wandb.ai/vanshg/wandb_demo/runs/8hd39fe7' target=\"_blank\">https://wandb.ai/vanshg/wandb_demo/runs/8hd39fe7</a>"
          },
          "metadata": {}
        },
        {
          "name": "stderr",
          "text": "/opt/conda/lib/python3.10/site-packages/torchvision/models/_utils.py:208: UserWarning: The parameter 'pretrained' is deprecated since 0.13 and may be removed in the future, please use 'weights' instead.\n  warnings.warn(\n/opt/conda/lib/python3.10/site-packages/torchvision/models/_utils.py:223: UserWarning: Arguments other than a weight enum or `None` for 'weights' are deprecated since 0.13 and may be removed in the future. The current behavior is equivalent to passing `weights=ResNet18_Weights.IMAGENET1K_V1`. You can also use `weights=ResNet18_Weights.DEFAULT` to get the most up-to-date weights.\n  warnings.warn(msg)\nDownloading: \"https://download.pytorch.org/models/resnet18-f37072fd.pth\" to /root/.cache/torch/hub/checkpoints/resnet18-f37072fd.pth\n100%|██████████| 44.7M/44.7M [00:00<00:00, 148MB/s]\n100%|██████████| 200/200 [00:20<00:00,  9.83it/s]\n",
          "output_type": "stream"
        },
        {
          "name": "stdout",
          "text": "{'epoch': 1, 'train_loss': 3.0310533982515335, 'eval_loss': 2.212814841270447, 'train_ap_score': 0.18014420244064483, 'eval_ap_score': 0.24013115402041835, 'lr': 0.1}\n",
          "output_type": "stream"
        },
        {
          "name": "stderr",
          "text": "100%|██████████| 200/200 [00:18<00:00, 11.03it/s]\n",
          "output_type": "stream"
        },
        {
          "name": "stdout",
          "text": "{'epoch': 2, 'train_loss': 1.7444988304376603, 'eval_loss': 1.8119192457199096, 'train_ap_score': 0.32718630406417404, 'eval_ap_score': 0.3722129492957982, 'lr': 0.1}\n",
          "output_type": "stream"
        },
        {
          "name": "stderr",
          "text": "100%|██████████| 200/200 [00:18<00:00, 11.06it/s]\n",
          "output_type": "stream"
        },
        {
          "name": "stdout",
          "text": "{'epoch': 3, 'train_loss': 1.5435942393541335, 'eval_loss': 1.5419765853881835, 'train_ap_score': 0.4320134226156198, 'eval_ap_score': 0.4792264472302289, 'lr': 0.1}\n",
          "output_type": "stream"
        },
        {
          "name": "stderr",
          "text": "100%|██████████| 200/200 [00:18<00:00, 11.00it/s]\n",
          "output_type": "stream"
        },
        {
          "name": "stdout",
          "text": "{'epoch': 4, 'train_loss': 1.4330373013019562, 'eval_loss': 1.4172030377388, 'train_ap_score': 0.49375186563929024, 'eval_ap_score': 0.5364569122698496, 'lr': 0.1}\n",
          "output_type": "stream"
        },
        {
          "name": "stderr",
          "text": "100%|██████████| 200/200 [00:18<00:00, 11.06it/s]\n",
          "output_type": "stream"
        },
        {
          "name": "stdout",
          "text": "{'epoch': 5, 'train_loss': 1.3148556077480316, 'eval_loss': 1.5185051584243774, 'train_ap_score': 0.5532892884401883, 'eval_ap_score': 0.5361735123583438, 'lr': 0.1}\n",
          "output_type": "stream"
        },
        {
          "name": "stderr",
          "text": "100%|██████████| 200/200 [00:18<00:00, 11.06it/s]\n",
          "output_type": "stream"
        },
        {
          "name": "stdout",
          "text": "{'epoch': 6, 'train_loss': 1.2403721326589585, 'eval_loss': 1.3430911016464233, 'train_ap_score': 0.5900949071749699, 'eval_ap_score': 0.5932288201203376, 'lr': 0.1}\n",
          "output_type": "stream"
        },
        {
          "name": "stderr",
          "text": "100%|██████████| 200/200 [00:18<00:00, 11.04it/s]\n",
          "output_type": "stream"
        },
        {
          "name": "stdout",
          "text": "{'epoch': 7, 'train_loss': 1.1691521108150482, 'eval_loss': 1.3285733222961427, 'train_ap_score': 0.6265513990605864, 'eval_ap_score': 0.5785495269880873, 'lr': 0.1}\n",
          "output_type": "stream"
        },
        {
          "name": "stderr",
          "text": "100%|██████████| 200/200 [00:18<00:00, 11.10it/s]\n",
          "output_type": "stream"
        },
        {
          "name": "stdout",
          "text": "{'epoch': 8, 'train_loss': 1.1264689460396766, 'eval_loss': 1.2331924295425416, 'train_ap_score': 0.6470601376291738, 'eval_ap_score': 0.6278861716813362, 'lr': 0.1}\n",
          "output_type": "stream"
        },
        {
          "name": "stderr",
          "text": "100%|██████████| 200/200 [00:18<00:00, 11.10it/s]\n",
          "output_type": "stream"
        },
        {
          "name": "stdout",
          "text": "{'epoch': 9, 'train_loss': 1.0490704703330993, 'eval_loss': 1.2397621846199036, 'train_ap_score': 0.6832739716818513, 'eval_ap_score': 0.6594369077376258, 'lr': 0.1}\n",
          "output_type": "stream"
        },
        {
          "name": "stderr",
          "text": "100%|██████████| 200/200 [00:18<00:00, 11.02it/s]\n",
          "output_type": "stream"
        },
        {
          "name": "stdout",
          "text": "{'epoch': 10, 'train_loss': 0.9739405113458633, 'eval_loss': 1.0759906125068666, 'train_ap_score': 0.7165619708856582, 'eval_ap_score': 0.7006691226513391, 'lr': 0.1}\n",
          "output_type": "stream"
        },
        {
          "name": "stderr",
          "text": "100%|██████████| 200/200 [00:18<00:00, 11.05it/s]\n",
          "output_type": "stream"
        },
        {
          "name": "stdout",
          "text": "{'epoch': 11, 'train_loss': 0.9530431663990021, 'eval_loss': 1.0781962096691131, 'train_ap_score': 0.7267698870829936, 'eval_ap_score': 0.700233751883921, 'lr': 0.1}\n",
          "output_type": "stream"
        },
        {
          "name": "stderr",
          "text": "100%|██████████| 200/200 [00:18<00:00, 11.09it/s]\n",
          "output_type": "stream"
        },
        {
          "name": "stdout",
          "text": "{'epoch': 12, 'train_loss': 0.8862855669856071, 'eval_loss': 1.0895675063133239, 'train_ap_score': 0.7534403834861724, 'eval_ap_score': 0.7082007937424746, 'lr': 0.1}\n",
          "output_type": "stream"
        },
        {
          "name": "stderr",
          "text": "100%|██████████| 200/200 [00:18<00:00, 11.06it/s]\n",
          "output_type": "stream"
        },
        {
          "name": "stdout",
          "text": "{'epoch': 13, 'train_loss': 0.8086933347582818, 'eval_loss': 1.1718613696098328, 'train_ap_score': 0.7848780132377204, 'eval_ap_score': 0.7089689302133637, 'lr': 0.1}\n",
          "output_type": "stream"
        },
        {
          "name": "stderr",
          "text": "100%|██████████| 200/200 [00:18<00:00, 11.04it/s]\n",
          "output_type": "stream"
        },
        {
          "name": "stdout",
          "text": "{'epoch': 14, 'train_loss': 0.7751285454630852, 'eval_loss': 1.0959898567199706, 'train_ap_score': 0.7969386293363292, 'eval_ap_score': 0.7301886285608928, 'lr': 0.1}\n",
          "output_type": "stream"
        },
        {
          "name": "stderr",
          "text": "100%|██████████| 200/200 [00:18<00:00, 11.08it/s]\n",
          "output_type": "stream"
        },
        {
          "name": "stdout",
          "text": "{'epoch': 15, 'train_loss': 0.564166384190321, 'eval_loss': 0.9086120414733887, 'train_ap_score': 0.8717262016737675, 'eval_ap_score': 0.7802308155213525, 'lr': 0.010000000000000002}\n",
          "output_type": "stream"
        },
        {
          "name": "stderr",
          "text": "100%|██████████| 200/200 [00:18<00:00, 11.01it/s]\n",
          "output_type": "stream"
        },
        {
          "name": "stdout",
          "text": "{'epoch': 16, 'train_loss': 0.479132637232542, 'eval_loss': 0.9348669338226319, 'train_ap_score': 0.8979460598857459, 'eval_ap_score': 0.7813254800410359, 'lr': 0.010000000000000002}\n",
          "output_type": "stream"
        },
        {
          "name": "stderr",
          "text": "100%|██████████| 200/200 [00:18<00:00, 11.02it/s]\n",
          "output_type": "stream"
        },
        {
          "name": "stdout",
          "text": "{'epoch': 17, 'train_loss': 0.4361392271518707, 'eval_loss': 0.9693055939674378, 'train_ap_score': 0.9109424542885487, 'eval_ap_score': 0.7814517202014696, 'lr': 0.010000000000000002}\n",
          "output_type": "stream"
        },
        {
          "name": "stderr",
          "text": "100%|██████████| 200/200 [00:18<00:00, 11.08it/s]\n",
          "output_type": "stream"
        },
        {
          "name": "stdout",
          "text": "{'epoch': 18, 'train_loss': 0.4009800283610821, 'eval_loss': 1.013718502521515, 'train_ap_score': 0.9209691545394451, 'eval_ap_score': 0.7792286944000213, 'lr': 0.010000000000000002}\n",
          "output_type": "stream"
        },
        {
          "name": "stderr",
          "text": "100%|██████████| 200/200 [00:18<00:00, 11.00it/s]\n",
          "output_type": "stream"
        },
        {
          "name": "stdout",
          "text": "{'epoch': 19, 'train_loss': 0.3593296037614346, 'eval_loss': 1.0709036946296693, 'train_ap_score': 0.932566842946177, 'eval_ap_score': 0.778493411790462, 'lr': 0.010000000000000002}\n",
          "output_type": "stream"
        },
        {
          "name": "stderr",
          "text": "100%|██████████| 200/200 [00:18<00:00, 10.94it/s]\n",
          "output_type": "stream"
        },
        {
          "name": "stdout",
          "text": "{'epoch': 20, 'train_loss': 0.30182124376297, 'eval_loss': 1.0684629595279693, 'train_ap_score': 0.9475973419707568, 'eval_ap_score': 0.7806303994686741, 'lr': 0.0010000000000000002}\n",
          "output_type": "stream"
        },
        {
          "name": "stderr",
          "text": "100%|██████████| 200/200 [00:18<00:00, 11.09it/s]\n",
          "output_type": "stream"
        },
        {
          "name": "stdout",
          "text": "{'epoch': 21, 'train_loss': 0.2890468908846378, 'eval_loss': 1.1065672028064728, 'train_ap_score': 0.9503594727456021, 'eval_ap_score': 0.778158277934792, 'lr': 0.0010000000000000002}\n",
          "output_type": "stream"
        },
        {
          "name": "stderr",
          "text": "100%|██████████| 200/200 [00:18<00:00, 11.01it/s]\n",
          "output_type": "stream"
        },
        {
          "name": "stdout",
          "text": "{'epoch': 22, 'train_loss': 0.2803848334401846, 'eval_loss': 1.120192278623581, 'train_ap_score': 0.9521155681125422, 'eval_ap_score': 0.777272488315486, 'lr': 0.0010000000000000002}\n",
          "output_type": "stream"
        },
        {
          "name": "stderr",
          "text": "100%|██████████| 200/200 [00:18<00:00, 11.01it/s]\n",
          "output_type": "stream"
        },
        {
          "name": "stdout",
          "text": "{'epoch': 23, 'train_loss': 0.27166820064187047, 'eval_loss': 1.1367194640636444, 'train_ap_score': 0.9542082380484166, 'eval_ap_score': 0.7772898886744113, 'lr': 0.0010000000000000002}\n",
          "output_type": "stream"
        },
        {
          "name": "stderr",
          "text": "100%|██████████| 200/200 [00:18<00:00, 11.07it/s]\n",
          "output_type": "stream"
        },
        {
          "name": "stdout",
          "text": "{'epoch': 24, 'train_loss': 0.26757448837161063, 'eval_loss': 1.1463064467906952, 'train_ap_score': 0.955613997089346, 'eval_ap_score': 0.7769061347552139, 'lr': 0.00010000000000000003}\n",
          "output_type": "stream"
        },
        {
          "name": "stderr",
          "text": "100%|██████████| 200/200 [00:18<00:00, 11.01it/s]\n",
          "output_type": "stream"
        },
        {
          "name": "stdout",
          "text": "{'epoch': 25, 'train_loss': 0.26233495891094205, 'eval_loss': 1.1376135754585266, 'train_ap_score': 0.9569432753990016, 'eval_ap_score': 0.7778761815883506, 'lr': 0.00010000000000000003}\n",
          "output_type": "stream"
        },
        {
          "output_type": "display_data",
          "data": {
            "text/plain": "<IPython.core.display.HTML object>",
            "text/html": "Waiting for W&B process to finish... <strong style=\"color:green\">(success).</strong>"
          },
          "metadata": {}
        },
        {
          "output_type": "display_data",
          "data": {
            "text/plain": "VBox(children=(Label(value='0.001 MB of 0.001 MB uploaded (0.000 MB deduped)\\r'), FloatProgress(value=1.0, max…",
            "application/vnd.jupyter.widget-view+json": {
              "version_major": 2,
              "version_minor": 0,
              "model_id": "05f941b920b245778fa1e4e347d16468"
            }
          },
          "metadata": {}
        },
        {
          "output_type": "display_data",
          "data": {
            "text/plain": "<IPython.core.display.HTML object>",
            "text/html": "<style>\n    table.wandb td:nth-child(1) { padding: 0 10px; text-align: left ; width: auto;} td:nth-child(2) {text-align: left ; width: 100%}\n    .wandb-row { display: flex; flex-direction: row; flex-wrap: wrap; justify-content: flex-start; width: 100% }\n    .wandb-col { display: flex; flex-direction: column; flex-basis: 100%; flex: 1; padding: 10px; }\n    </style>\n<div class=\"wandb-row\"><div class=\"wandb-col\"><h3>Run history:</h3><br/><table class=\"wandb\"><tr><td>epoch</td><td>▁▁▂▂▂▂▃▃▃▄▄▄▅▅▅▅▆▆▆▇▇▇▇██</td></tr><tr><td>eval_ap_score</td><td>▁▃▄▅▅▆▅▆▆▇▇▇▇▇███████████</td></tr><tr><td>eval_loss</td><td>█▆▄▄▄▃▃▃▃▂▂▂▂▂▁▁▁▂▂▂▂▂▂▂▂</td></tr><tr><td>lr</td><td>██████████████▂▂▂▂▂▁▁▁▁▁▁</td></tr><tr><td>train_ap_score</td><td>▁▂▃▄▄▅▅▅▆▆▆▆▆▇▇▇█████████</td></tr><tr><td>train_loss</td><td>█▅▄▄▄▃▃▃▃▃▃▃▂▂▂▂▁▁▁▁▁▁▁▁▁</td></tr></table><br/></div><div class=\"wandb-col\"><h3>Run summary:</h3><br/><table class=\"wandb\"><tr><td>epoch</td><td>25</td></tr><tr><td>eval_ap_score</td><td>0.77788</td></tr><tr><td>eval_loss</td><td>1.13761</td></tr><tr><td>lr</td><td>0.0001</td></tr><tr><td>train_ap_score</td><td>0.95694</td></tr><tr><td>train_loss</td><td>0.26233</td></tr></table><br/></div></div>"
          },
          "metadata": {}
        },
        {
          "output_type": "display_data",
          "data": {
            "text/plain": "<IPython.core.display.HTML object>",
            "text/html": " View run <strong style=\"color:#cdcd00\">worldly-sweep-4</strong> at: <a href='https://wandb.ai/vanshg/wandb_demo/runs/8hd39fe7' target=\"_blank\">https://wandb.ai/vanshg/wandb_demo/runs/8hd39fe7</a><br/>Synced 6 W&B file(s), 0 media file(s), 0 artifact file(s) and 0 other file(s)"
          },
          "metadata": {}
        },
        {
          "output_type": "display_data",
          "data": {
            "text/plain": "<IPython.core.display.HTML object>",
            "text/html": "Find logs at: <code>./wandb/run-20230527_091635-8hd39fe7/logs</code>"
          },
          "metadata": {}
        },
        {
          "name": "stderr",
          "text": "\u001b[34m\u001b[1mwandb\u001b[0m: Agent Starting Run: 69nz0nmx with config:\n\u001b[34m\u001b[1mwandb\u001b[0m: \tcriterion: ce\n\u001b[34m\u001b[1mwandb\u001b[0m: \tgpu_id: 0\n\u001b[34m\u001b[1mwandb\u001b[0m: \tlr: 0.1\n\u001b[34m\u001b[1mwandb\u001b[0m: \tmodel_type: pretrained\n\u001b[34m\u001b[1mwandb\u001b[0m: \tnum_epochs: 25\n\u001b[34m\u001b[1mwandb\u001b[0m: \toptimizer: SGD\n\u001b[34m\u001b[1mwandb\u001b[0m: \tscheduler_patience: 3\n\u001b[34m\u001b[1mwandb\u001b[0m: \tscheduler_thresh: 0.01\n",
          "output_type": "stream"
        },
        {
          "output_type": "display_data",
          "data": {
            "text/plain": "<IPython.core.display.HTML object>",
            "text/html": "Tracking run with wandb version 0.15.3"
          },
          "metadata": {}
        },
        {
          "output_type": "display_data",
          "data": {
            "text/plain": "<IPython.core.display.HTML object>",
            "text/html": "Run data is saved locally in <code>/kaggle/working/wandb/run-20230527_092618-69nz0nmx</code>"
          },
          "metadata": {}
        },
        {
          "output_type": "display_data",
          "data": {
            "text/plain": "<IPython.core.display.HTML object>",
            "text/html": "Syncing run <strong><a href='https://wandb.ai/vanshg/wandb_demo/runs/69nz0nmx' target=\"_blank\">genial-sweep-5</a></strong> to <a href='https://wandb.ai/vanshg/wandb_demo' target=\"_blank\">Weights & Biases</a> (<a href='https://wandb.me/run' target=\"_blank\">docs</a>)<br/>Sweep page: <a href='https://wandb.ai/vanshg/wandb_demo/sweeps/xmxmiut3' target=\"_blank\">https://wandb.ai/vanshg/wandb_demo/sweeps/xmxmiut3</a>"
          },
          "metadata": {}
        },
        {
          "output_type": "display_data",
          "data": {
            "text/plain": "<IPython.core.display.HTML object>",
            "text/html": " View project at <a href='https://wandb.ai/vanshg/wandb_demo' target=\"_blank\">https://wandb.ai/vanshg/wandb_demo</a>"
          },
          "metadata": {}
        },
        {
          "output_type": "display_data",
          "data": {
            "text/plain": "<IPython.core.display.HTML object>",
            "text/html": " View sweep at <a href='https://wandb.ai/vanshg/wandb_demo/sweeps/xmxmiut3' target=\"_blank\">https://wandb.ai/vanshg/wandb_demo/sweeps/xmxmiut3</a>"
          },
          "metadata": {}
        },
        {
          "output_type": "display_data",
          "data": {
            "text/plain": "<IPython.core.display.HTML object>",
            "text/html": " View run at <a href='https://wandb.ai/vanshg/wandb_demo/runs/69nz0nmx' target=\"_blank\">https://wandb.ai/vanshg/wandb_demo/runs/69nz0nmx</a>"
          },
          "metadata": {}
        },
        {
          "name": "stderr",
          "text": "/opt/conda/lib/python3.10/site-packages/torchvision/models/_utils.py:208: UserWarning: The parameter 'pretrained' is deprecated since 0.13 and may be removed in the future, please use 'weights' instead.\n  warnings.warn(\n/opt/conda/lib/python3.10/site-packages/torchvision/models/_utils.py:223: UserWarning: Arguments other than a weight enum or `None` for 'weights' are deprecated since 0.13 and may be removed in the future. The current behavior is equivalent to passing `weights=ResNet18_Weights.IMAGENET1K_V1`. You can also use `weights=ResNet18_Weights.DEFAULT` to get the most up-to-date weights.\n  warnings.warn(msg)\n100%|██████████| 200/200 [00:19<00:00, 10.25it/s]\n",
          "output_type": "stream"
        },
        {
          "name": "stdout",
          "text": "{'epoch': 1, 'train_loss': 1.0133723124861718, 'eval_loss': 0.7008362340927125, 'train_ap_score': 0.7286477703120519, 'eval_ap_score': 0.8459168717893724, 'lr': 0.1}\n",
          "output_type": "stream"
        },
        {
          "name": "stderr",
          "text": "100%|██████████| 200/200 [00:17<00:00, 11.19it/s]\n",
          "output_type": "stream"
        },
        {
          "name": "stdout",
          "text": "{'epoch': 2, 'train_loss': 0.5477260962128639, 'eval_loss': 0.7524058079719543, 'train_ap_score': 0.8878323088150347, 'eval_ap_score': 0.8512280116643263, 'lr': 0.1}\n",
          "output_type": "stream"
        },
        {
          "name": "stderr",
          "text": "100%|██████████| 200/200 [00:17<00:00, 11.28it/s]\n",
          "output_type": "stream"
        },
        {
          "name": "stdout",
          "text": "{'epoch': 3, 'train_loss': 0.3793372953683138, 'eval_loss': 0.6499753588438034, 'train_ap_score': 0.9379117765002182, 'eval_ap_score': 0.8709569480625703, 'lr': 0.1}\n",
          "output_type": "stream"
        },
        {
          "name": "stderr",
          "text": "100%|██████████| 200/200 [00:17<00:00, 11.28it/s]\n",
          "output_type": "stream"
        },
        {
          "name": "stdout",
          "text": "{'epoch': 4, 'train_loss': 0.2741909599304199, 'eval_loss': 0.7223702609539032, 'train_ap_score': 0.9638991573038516, 'eval_ap_score': 0.8727341058271497, 'lr': 0.1}\n",
          "output_type": "stream"
        },
        {
          "name": "stderr",
          "text": "100%|██████████| 200/200 [00:17<00:00, 11.22it/s]\n",
          "output_type": "stream"
        },
        {
          "name": "stdout",
          "text": "{'epoch': 5, 'train_loss': 0.20407817542552947, 'eval_loss': 0.7041156220436097, 'train_ap_score': 0.9781746021670061, 'eval_ap_score': 0.8799409166635888, 'lr': 0.1}\n",
          "output_type": "stream"
        },
        {
          "name": "stderr",
          "text": "100%|██████████| 200/200 [00:17<00:00, 11.29it/s]\n",
          "output_type": "stream"
        },
        {
          "name": "stdout",
          "text": "{'epoch': 6, 'train_loss': 0.15791510995477437, 'eval_loss': 0.8423841869831086, 'train_ap_score': 0.9865249081388023, 'eval_ap_score': 0.8698586426108135, 'lr': 0.1}\n",
          "output_type": "stream"
        },
        {
          "name": "stderr",
          "text": "100%|██████████| 200/200 [00:17<00:00, 11.32it/s]\n",
          "output_type": "stream"
        },
        {
          "name": "stdout",
          "text": "{'epoch': 7, 'train_loss': 0.12647862240672111, 'eval_loss': 0.7820249539613724, 'train_ap_score': 0.9906620108925501, 'eval_ap_score': 0.8736890906165563, 'lr': 0.1}\n",
          "output_type": "stream"
        },
        {
          "name": "stderr",
          "text": "100%|██████████| 200/200 [00:17<00:00, 11.23it/s]\n",
          "output_type": "stream"
        },
        {
          "name": "stdout",
          "text": "{'epoch': 8, 'train_loss': 0.055377461104653775, 'eval_loss': 0.7283719712495804, 'train_ap_score': 0.9982597642308288, 'eval_ap_score': 0.8971181978772356, 'lr': 0.010000000000000002}\n",
          "output_type": "stream"
        },
        {
          "name": "stderr",
          "text": "100%|██████████| 200/200 [00:17<00:00, 11.22it/s]\n",
          "output_type": "stream"
        },
        {
          "name": "stdout",
          "text": "{'epoch': 9, 'train_loss': 0.02333461289992556, 'eval_loss': 0.7677519047260284, 'train_ap_score': 0.9997845826373117, 'eval_ap_score': 0.8989581125873956, 'lr': 0.010000000000000002}\n",
          "output_type": "stream"
        },
        {
          "name": "stderr",
          "text": "100%|██████████| 200/200 [00:17<00:00, 11.28it/s]\n",
          "output_type": "stream"
        },
        {
          "name": "stdout",
          "text": "{'epoch': 10, 'train_loss': 0.015152729866094887, 'eval_loss': 0.8007546991109848, 'train_ap_score': 0.9999151739955826, 'eval_ap_score': 0.8994329059381153, 'lr': 0.010000000000000002}\n",
          "output_type": "stream"
        },
        {
          "name": "stderr",
          "text": "100%|██████████| 200/200 [00:17<00:00, 11.11it/s]\n",
          "output_type": "stream"
        },
        {
          "name": "stdout",
          "text": "{'epoch': 11, 'train_loss': 0.011282805042574182, 'eval_loss': 0.8406839346885682, 'train_ap_score': 0.9999511396391932, 'eval_ap_score': 0.8998752964326965, 'lr': 0.010000000000000002}\n",
          "output_type": "stream"
        },
        {
          "name": "stderr",
          "text": "100%|██████████| 200/200 [00:17<00:00, 11.23it/s]\n",
          "output_type": "stream"
        },
        {
          "name": "stdout",
          "text": "{'epoch': 12, 'train_loss': 0.008520217884215526, 'eval_loss': 0.8416307705640793, 'train_ap_score': 0.9999800395319255, 'eval_ap_score': 0.8995335446513006, 'lr': 0.0010000000000000002}\n",
          "output_type": "stream"
        },
        {
          "name": "stderr",
          "text": "100%|██████████| 200/200 [00:17<00:00, 11.30it/s]\n",
          "output_type": "stream"
        },
        {
          "name": "stdout",
          "text": "{'epoch': 13, 'train_loss': 0.008680274620419369, 'eval_loss': 0.8501525330543518, 'train_ap_score': 0.9999716620556793, 'eval_ap_score': 0.899660446279316, 'lr': 0.0010000000000000002}\n",
          "output_type": "stream"
        },
        {
          "name": "stderr",
          "text": "100%|██████████| 200/200 [00:17<00:00, 11.22it/s]\n",
          "output_type": "stream"
        },
        {
          "name": "stdout",
          "text": "{'epoch': 14, 'train_loss': 0.008020007803570478, 'eval_loss': 0.8556371665000916, 'train_ap_score': 0.9999827945989026, 'eval_ap_score': 0.8996595959049912, 'lr': 0.0010000000000000002}\n",
          "output_type": "stream"
        },
        {
          "name": "stderr",
          "text": "100%|██████████| 200/200 [00:17<00:00, 11.25it/s]\n",
          "output_type": "stream"
        },
        {
          "name": "stdout",
          "text": "{'epoch': 15, 'train_loss': 0.008165883226902225, 'eval_loss': 0.8785759711265564, 'train_ap_score': 0.999974969049287, 'eval_ap_score': 0.8991790332095683, 'lr': 0.0010000000000000002}\n",
          "output_type": "stream"
        },
        {
          "name": "stderr",
          "text": "100%|██████████| 200/200 [00:17<00:00, 11.28it/s]\n",
          "output_type": "stream"
        },
        {
          "name": "stdout",
          "text": "{'epoch': 16, 'train_loss': 0.0074945936026051645, 'eval_loss': 0.8703817784786224, 'train_ap_score': 0.999984150888011, 'eval_ap_score': 0.8993987284493368, 'lr': 0.00010000000000000003}\n",
          "output_type": "stream"
        },
        {
          "name": "stderr",
          "text": "100%|██████████| 200/200 [00:17<00:00, 11.23it/s]\n",
          "output_type": "stream"
        },
        {
          "name": "stdout",
          "text": "{'epoch': 17, 'train_loss': 0.007566630303044803, 'eval_loss': 0.8698799645900727, 'train_ap_score': 0.9999843162372184, 'eval_ap_score': 0.8991672692193674, 'lr': 0.00010000000000000003}\n",
          "output_type": "stream"
        },
        {
          "name": "stderr",
          "text": "100%|██████████| 200/200 [00:17<00:00, 11.26it/s]\n",
          "output_type": "stream"
        },
        {
          "name": "stdout",
          "text": "{'epoch': 18, 'train_loss': 0.007713230210356414, 'eval_loss': 0.8530797111988068, 'train_ap_score': 0.9999835548183917, 'eval_ap_score': 0.8997409297272867, 'lr': 0.00010000000000000003}\n",
          "output_type": "stream"
        },
        {
          "name": "stderr",
          "text": "100%|██████████| 200/200 [00:17<00:00, 11.32it/s]\n",
          "output_type": "stream"
        },
        {
          "name": "stdout",
          "text": "{'epoch': 19, 'train_loss': 0.007974479072145187, 'eval_loss': 0.8668576967716217, 'train_ap_score': 0.9999773150485813, 'eval_ap_score': 0.8996615603948545, 'lr': 0.00010000000000000003}\n",
          "output_type": "stream"
        },
        {
          "name": "stderr",
          "text": "100%|██████████| 200/200 [00:17<00:00, 11.23it/s]\n",
          "output_type": "stream"
        },
        {
          "name": "stdout",
          "text": "{'epoch': 20, 'train_loss': 0.00833593778545037, 'eval_loss': 0.8642249357700348, 'train_ap_score': 0.999975248077161, 'eval_ap_score': 0.8995355188176127, 'lr': 1.0000000000000004e-05}\n",
          "output_type": "stream"
        },
        {
          "name": "stderr",
          "text": "100%|██████████| 200/200 [00:17<00:00, 11.25it/s]\n",
          "output_type": "stream"
        },
        {
          "name": "stdout",
          "text": "{'epoch': 21, 'train_loss': 0.008058537132455967, 'eval_loss': 0.8622051405906678, 'train_ap_score': 0.9999779696848853, 'eval_ap_score': 0.8992785235367154, 'lr': 1.0000000000000004e-05}\n",
          "output_type": "stream"
        },
        {
          "name": "stderr",
          "text": "100%|██████████| 200/200 [00:17<00:00, 11.30it/s]\n",
          "output_type": "stream"
        },
        {
          "name": "stdout",
          "text": "{'epoch': 22, 'train_loss': 0.008047397455084138, 'eval_loss': 0.8576666104793549, 'train_ap_score': 0.99997761369145, 'eval_ap_score': 0.8991425487406918, 'lr': 1.0000000000000004e-05}\n",
          "output_type": "stream"
        },
        {
          "name": "stderr",
          "text": "100%|██████████| 200/200 [00:17<00:00, 11.22it/s]\n",
          "output_type": "stream"
        },
        {
          "name": "stdout",
          "text": "{'epoch': 23, 'train_loss': 0.00783521227131132, 'eval_loss': 0.8623146975040435, 'train_ap_score': 0.9999793337404788, 'eval_ap_score': 0.899745289759149, 'lr': 1.0000000000000004e-05}\n",
          "output_type": "stream"
        },
        {
          "name": "stderr",
          "text": "100%|██████████| 200/200 [00:17<00:00, 11.26it/s]\n",
          "output_type": "stream"
        },
        {
          "name": "stdout",
          "text": "{'epoch': 24, 'train_loss': 0.007825180632062256, 'eval_loss': 0.8736769163608551, 'train_ap_score': 0.9999782368937629, 'eval_ap_score': 0.8994679301442771, 'lr': 1.0000000000000004e-06}\n",
          "output_type": "stream"
        },
        {
          "name": "stderr",
          "text": "100%|██████████| 200/200 [00:17<00:00, 11.27it/s]\n",
          "output_type": "stream"
        },
        {
          "name": "stdout",
          "text": "{'epoch': 25, 'train_loss': 0.00803581831336487, 'eval_loss': 0.8718866264820099, 'train_ap_score': 0.9999751782794138, 'eval_ap_score': 0.8991707587247484, 'lr': 1.0000000000000004e-06}\n",
          "output_type": "stream"
        },
        {
          "output_type": "display_data",
          "data": {
            "text/plain": "<IPython.core.display.HTML object>",
            "text/html": "Waiting for W&B process to finish... <strong style=\"color:green\">(success).</strong>"
          },
          "metadata": {}
        },
        {
          "output_type": "display_data",
          "data": {
            "text/plain": "VBox(children=(Label(value='0.032 MB of 0.052 MB uploaded (0.000 MB deduped)\\r'), FloatProgress(value=0.621967…",
            "application/vnd.jupyter.widget-view+json": {
              "version_major": 2,
              "version_minor": 0,
              "model_id": "20f6e4e22378440c9c60258b0589847b"
            }
          },
          "metadata": {}
        },
        {
          "output_type": "display_data",
          "data": {
            "text/plain": "<IPython.core.display.HTML object>",
            "text/html": "<style>\n    table.wandb td:nth-child(1) { padding: 0 10px; text-align: left ; width: auto;} td:nth-child(2) {text-align: left ; width: 100%}\n    .wandb-row { display: flex; flex-direction: row; flex-wrap: wrap; justify-content: flex-start; width: 100% }\n    .wandb-col { display: flex; flex-direction: column; flex-basis: 100%; flex: 1; padding: 10px; }\n    </style>\n<div class=\"wandb-row\"><div class=\"wandb-col\"><h3>Run history:</h3><br/><table class=\"wandb\"><tr><td>epoch</td><td>▁▁▂▂▂▂▃▃▃▄▄▄▅▅▅▅▆▆▆▇▇▇▇██</td></tr><tr><td>eval_ap_score</td><td>▁▂▄▄▅▄▅██████████████████</td></tr><tr><td>eval_loss</td><td>▃▄▁▃▃▇▅▃▅▆▇▇▇▇███▇██▇▇███</td></tr><tr><td>lr</td><td>███████▂▂▂▂▁▁▁▁▁▁▁▁▁▁▁▁▁▁</td></tr><tr><td>train_ap_score</td><td>▁▅▆▇▇████████████████████</td></tr><tr><td>train_loss</td><td>█▅▄▃▂▂▂▁▁▁▁▁▁▁▁▁▁▁▁▁▁▁▁▁▁</td></tr></table><br/></div><div class=\"wandb-col\"><h3>Run summary:</h3><br/><table class=\"wandb\"><tr><td>epoch</td><td>25</td></tr><tr><td>eval_ap_score</td><td>0.89917</td></tr><tr><td>eval_loss</td><td>0.87189</td></tr><tr><td>lr</td><td>0.0</td></tr><tr><td>train_ap_score</td><td>0.99998</td></tr><tr><td>train_loss</td><td>0.00804</td></tr></table><br/></div></div>"
          },
          "metadata": {}
        },
        {
          "output_type": "display_data",
          "data": {
            "text/plain": "<IPython.core.display.HTML object>",
            "text/html": " View run <strong style=\"color:#cdcd00\">genial-sweep-5</strong> at: <a href='https://wandb.ai/vanshg/wandb_demo/runs/69nz0nmx' target=\"_blank\">https://wandb.ai/vanshg/wandb_demo/runs/69nz0nmx</a><br/>Synced 6 W&B file(s), 0 media file(s), 0 artifact file(s) and 0 other file(s)"
          },
          "metadata": {}
        },
        {
          "output_type": "display_data",
          "data": {
            "text/plain": "<IPython.core.display.HTML object>",
            "text/html": "Find logs at: <code>./wandb/run-20230527_092618-69nz0nmx/logs</code>"
          },
          "metadata": {}
        },
        {
          "name": "stderr",
          "text": "\u001b[34m\u001b[1mwandb\u001b[0m: Agent Starting Run: 1aa79g0f with config:\n\u001b[34m\u001b[1mwandb\u001b[0m: \tcriterion: ce\n\u001b[34m\u001b[1mwandb\u001b[0m: \tgpu_id: 0\n\u001b[34m\u001b[1mwandb\u001b[0m: \tlr: 0.1\n\u001b[34m\u001b[1mwandb\u001b[0m: \tmodel_type: pretrained\n\u001b[34m\u001b[1mwandb\u001b[0m: \tnum_epochs: 25\n\u001b[34m\u001b[1mwandb\u001b[0m: \toptimizer: RMSprop\n\u001b[34m\u001b[1mwandb\u001b[0m: \tscheduler_patience: 3\n\u001b[34m\u001b[1mwandb\u001b[0m: \tscheduler_thresh: 0.01\n",
          "output_type": "stream"
        },
        {
          "output_type": "display_data",
          "data": {
            "text/plain": "<IPython.core.display.HTML object>",
            "text/html": "Tracking run with wandb version 0.15.3"
          },
          "metadata": {}
        },
        {
          "output_type": "display_data",
          "data": {
            "text/plain": "<IPython.core.display.HTML object>",
            "text/html": "Run data is saved locally in <code>/kaggle/working/wandb/run-20230527_093550-1aa79g0f</code>"
          },
          "metadata": {}
        },
        {
          "output_type": "display_data",
          "data": {
            "text/plain": "<IPython.core.display.HTML object>",
            "text/html": "Syncing run <strong><a href='https://wandb.ai/vanshg/wandb_demo/runs/1aa79g0f' target=\"_blank\">restful-sweep-6</a></strong> to <a href='https://wandb.ai/vanshg/wandb_demo' target=\"_blank\">Weights & Biases</a> (<a href='https://wandb.me/run' target=\"_blank\">docs</a>)<br/>Sweep page: <a href='https://wandb.ai/vanshg/wandb_demo/sweeps/xmxmiut3' target=\"_blank\">https://wandb.ai/vanshg/wandb_demo/sweeps/xmxmiut3</a>"
          },
          "metadata": {}
        },
        {
          "output_type": "display_data",
          "data": {
            "text/plain": "<IPython.core.display.HTML object>",
            "text/html": " View project at <a href='https://wandb.ai/vanshg/wandb_demo' target=\"_blank\">https://wandb.ai/vanshg/wandb_demo</a>"
          },
          "metadata": {}
        },
        {
          "output_type": "display_data",
          "data": {
            "text/plain": "<IPython.core.display.HTML object>",
            "text/html": " View sweep at <a href='https://wandb.ai/vanshg/wandb_demo/sweeps/xmxmiut3' target=\"_blank\">https://wandb.ai/vanshg/wandb_demo/sweeps/xmxmiut3</a>"
          },
          "metadata": {}
        },
        {
          "output_type": "display_data",
          "data": {
            "text/plain": "<IPython.core.display.HTML object>",
            "text/html": " View run at <a href='https://wandb.ai/vanshg/wandb_demo/runs/1aa79g0f' target=\"_blank\">https://wandb.ai/vanshg/wandb_demo/runs/1aa79g0f</a>"
          },
          "metadata": {}
        },
        {
          "name": "stderr",
          "text": "/opt/conda/lib/python3.10/site-packages/torchvision/models/_utils.py:208: UserWarning: The parameter 'pretrained' is deprecated since 0.13 and may be removed in the future, please use 'weights' instead.\n  warnings.warn(\n/opt/conda/lib/python3.10/site-packages/torchvision/models/_utils.py:223: UserWarning: Arguments other than a weight enum or `None` for 'weights' are deprecated since 0.13 and may be removed in the future. The current behavior is equivalent to passing `weights=ResNet18_Weights.IMAGENET1K_V1`. You can also use `weights=ResNet18_Weights.DEFAULT` to get the most up-to-date weights.\n  warnings.warn(msg)\n100%|██████████| 200/200 [00:19<00:00, 10.26it/s]\n",
          "output_type": "stream"
        },
        {
          "name": "stdout",
          "text": "{'epoch': 1, 'train_loss': 8.17395323574543, 'eval_loss': 2.1338336873054504, 'train_ap_score': 0.17715541642435156, 'eval_ap_score': 0.274883838309932, 'lr': 0.1}\n",
          "output_type": "stream"
        },
        {
          "name": "stderr",
          "text": "100%|██████████| 200/200 [00:18<00:00, 10.87it/s]\n",
          "output_type": "stream"
        },
        {
          "name": "stdout",
          "text": "{'epoch': 2, 'train_loss': 1.7835108214616775, 'eval_loss': 1.7389430212974548, 'train_ap_score': 0.30714478121607064, 'eval_ap_score': 0.3911892569470573, 'lr': 0.1}\n",
          "output_type": "stream"
        },
        {
          "name": "stderr",
          "text": "100%|██████████| 200/200 [00:18<00:00, 11.06it/s]\n",
          "output_type": "stream"
        },
        {
          "name": "stdout",
          "text": "{'epoch': 3, 'train_loss': 1.7153480941057204, 'eval_loss': 3.9703313422203066, 'train_ap_score': 0.36845040112428584, 'eval_ap_score': 0.3973325801220795, 'lr': 0.1}\n",
          "output_type": "stream"
        },
        {
          "name": "stderr",
          "text": "100%|██████████| 200/200 [00:17<00:00, 11.15it/s]\n",
          "output_type": "stream"
        },
        {
          "name": "stdout",
          "text": "{'epoch': 4, 'train_loss': 1.5319236290454865, 'eval_loss': 2.2030249714851378, 'train_ap_score': 0.43289875736932987, 'eval_ap_score': 0.4247605439581787, 'lr': 0.1}\n",
          "output_type": "stream"
        },
        {
          "name": "stderr",
          "text": "100%|██████████| 200/200 [00:17<00:00, 11.15it/s]\n",
          "output_type": "stream"
        },
        {
          "name": "stdout",
          "text": "{'epoch': 5, 'train_loss': 1.4028648233413696, 'eval_loss': 44.08653942108154, 'train_ap_score': 0.5005081170427654, 'eval_ap_score': 0.3860854694039112, 'lr': 0.1}\n",
          "output_type": "stream"
        },
        {
          "name": "stderr",
          "text": "100%|██████████| 200/200 [00:17<00:00, 11.11it/s]\n",
          "output_type": "stream"
        },
        {
          "name": "stdout",
          "text": "{'epoch': 6, 'train_loss': 2.081433030962944, 'eval_loss': 1.4488252019882202, 'train_ap_score': 0.3701457218479767, 'eval_ap_score': 0.5081778434717348, 'lr': 0.1}\n",
          "output_type": "stream"
        },
        {
          "name": "stderr",
          "text": "100%|██████████| 200/200 [00:17<00:00, 11.18it/s]\n",
          "output_type": "stream"
        },
        {
          "name": "stdout",
          "text": "{'epoch': 7, 'train_loss': 1.4772820234298707, 'eval_loss': 1.4491689133644103, 'train_ap_score': 0.4977236635048848, 'eval_ap_score': 0.5516866122292929, 'lr': 0.1}\n",
          "output_type": "stream"
        },
        {
          "name": "stderr",
          "text": "100%|██████████| 200/200 [00:17<00:00, 11.13it/s]\n",
          "output_type": "stream"
        },
        {
          "name": "stdout",
          "text": "{'epoch': 8, 'train_loss': 1.4470711308717727, 'eval_loss': 1.3301575183868408, 'train_ap_score': 0.5358650487658173, 'eval_ap_score': 0.6007448570928078, 'lr': 0.1}\n",
          "output_type": "stream"
        },
        {
          "name": "stderr",
          "text": "100%|██████████| 200/200 [00:17<00:00, 11.12it/s]\n",
          "output_type": "stream"
        },
        {
          "name": "stdout",
          "text": "{'epoch': 9, 'train_loss': 1.1780871006846427, 'eval_loss': 1.2454128611087798, 'train_ap_score': 0.6232124166654595, 'eval_ap_score': 0.6438684057255142, 'lr': 0.1}\n",
          "output_type": "stream"
        },
        {
          "name": "stderr",
          "text": "100%|██████████| 200/200 [00:17<00:00, 11.16it/s]\n",
          "output_type": "stream"
        },
        {
          "name": "stdout",
          "text": "{'epoch': 10, 'train_loss': 1.1899145331978798, 'eval_loss': 1.1769570124149322, 'train_ap_score': 0.625690214818974, 'eval_ap_score': 0.6576582704899296, 'lr': 0.1}\n",
          "output_type": "stream"
        },
        {
          "name": "stderr",
          "text": "100%|██████████| 200/200 [00:18<00:00, 11.10it/s]\n",
          "output_type": "stream"
        },
        {
          "name": "stdout",
          "text": "{'epoch': 11, 'train_loss': 1.0520861080288888, 'eval_loss': 1.1842893838882447, 'train_ap_score': 0.6816542584736005, 'eval_ap_score': 0.6505656848692589, 'lr': 0.1}\n",
          "output_type": "stream"
        },
        {
          "name": "stderr",
          "text": "100%|██████████| 200/200 [00:18<00:00, 11.08it/s]\n",
          "output_type": "stream"
        },
        {
          "name": "stdout",
          "text": "{'epoch': 12, 'train_loss': 1.1084839701652527, 'eval_loss': 1.1544816505908966, 'train_ap_score': 0.68268849389274, 'eval_ap_score': 0.6777993003873787, 'lr': 0.1}\n",
          "output_type": "stream"
        },
        {
          "name": "stderr",
          "text": "100%|██████████| 200/200 [00:17<00:00, 11.15it/s]\n",
          "output_type": "stream"
        },
        {
          "name": "stdout",
          "text": "{'epoch': 13, 'train_loss': 0.9284009024500847, 'eval_loss': 1.139455531835556, 'train_ap_score': 0.7395125353321761, 'eval_ap_score': 0.7059633176411577, 'lr': 0.1}\n",
          "output_type": "stream"
        },
        {
          "name": "stderr",
          "text": "100%|██████████| 200/200 [00:18<00:00, 11.07it/s]\n",
          "output_type": "stream"
        },
        {
          "name": "stdout",
          "text": "{'epoch': 14, 'train_loss': 0.9103269794583321, 'eval_loss': 1.1607323062419892, 'train_ap_score': 0.7504483056848745, 'eval_ap_score': 0.7131249401234593, 'lr': 0.1}\n",
          "output_type": "stream"
        },
        {
          "name": "stderr",
          "text": "100%|██████████| 200/200 [00:18<00:00, 11.08it/s]\n",
          "output_type": "stream"
        },
        {
          "name": "stdout",
          "text": "{'epoch': 15, 'train_loss': 0.8784203639626503, 'eval_loss': 1.1617700624465943, 'train_ap_score': 0.7650599822563182, 'eval_ap_score': 0.7058275481698807, 'lr': 0.1}\n",
          "output_type": "stream"
        },
        {
          "name": "stderr",
          "text": "100%|██████████| 200/200 [00:17<00:00, 11.17it/s]\n",
          "output_type": "stream"
        },
        {
          "name": "stdout",
          "text": "{'epoch': 16, 'train_loss': 0.809761775135994, 'eval_loss': 1.0758434021472931, 'train_ap_score': 0.786245243977778, 'eval_ap_score': 0.7314261691628997, 'lr': 0.1}\n",
          "output_type": "stream"
        },
        {
          "name": "stderr",
          "text": "100%|██████████| 200/200 [00:17<00:00, 11.12it/s]\n",
          "output_type": "stream"
        },
        {
          "name": "stdout",
          "text": "{'epoch': 17, 'train_loss': 1.1074010257422924, 'eval_loss': 1.008559489250183, 'train_ap_score': 0.7279400570461706, 'eval_ap_score': 0.7440425492209689, 'lr': 0.1}\n",
          "output_type": "stream"
        },
        {
          "name": "stderr",
          "text": "100%|██████████| 200/200 [00:18<00:00, 11.10it/s]\n",
          "output_type": "stream"
        },
        {
          "name": "stdout",
          "text": "{'epoch': 18, 'train_loss': 0.7217735785245896, 'eval_loss': 1.0783566081523894, 'train_ap_score': 0.8178843942271394, 'eval_ap_score': 0.7295924208051631, 'lr': 0.1}\n",
          "output_type": "stream"
        },
        {
          "name": "stderr",
          "text": "100%|██████████| 200/200 [00:17<00:00, 11.16it/s]\n",
          "output_type": "stream"
        },
        {
          "name": "stdout",
          "text": "{'epoch': 19, 'train_loss': 0.7028115648031235, 'eval_loss': 1.1107581377029419, 'train_ap_score': 0.8261047219374114, 'eval_ap_score': 0.741111528501331, 'lr': 0.1}\n",
          "output_type": "stream"
        },
        {
          "name": "stderr",
          "text": "100%|██████████| 200/200 [00:17<00:00, 11.12it/s]\n",
          "output_type": "stream"
        },
        {
          "name": "stdout",
          "text": "{'epoch': 20, 'train_loss': 0.642553758919239, 'eval_loss': 1.0906948792934417, 'train_ap_score': 0.8481538326688666, 'eval_ap_score': 0.7467140253828409, 'lr': 0.1}\n",
          "output_type": "stream"
        },
        {
          "name": "stderr",
          "text": "100%|██████████| 200/200 [00:17<00:00, 11.14it/s]\n",
          "output_type": "stream"
        },
        {
          "name": "stdout",
          "text": "{'epoch': 21, 'train_loss': 0.6217401005327702, 'eval_loss': 1.3040025043487549, 'train_ap_score': 0.8546922355452994, 'eval_ap_score': 0.7359577305296938, 'lr': 0.1}\n",
          "output_type": "stream"
        },
        {
          "name": "stderr",
          "text": "100%|██████████| 200/200 [00:17<00:00, 11.18it/s]\n",
          "output_type": "stream"
        },
        {
          "name": "stdout",
          "text": "{'epoch': 22, 'train_loss': 0.41173484146595, 'eval_loss': 1.1929519307613372, 'train_ap_score': 0.9176503749662708, 'eval_ap_score': 0.7648910117207123, 'lr': 0.010000000000000002}\n",
          "output_type": "stream"
        },
        {
          "name": "stderr",
          "text": "100%|██████████| 200/200 [00:17<00:00, 11.16it/s]\n",
          "output_type": "stream"
        },
        {
          "name": "stdout",
          "text": "{'epoch': 23, 'train_loss': 0.35373259633779525, 'eval_loss': 1.170770090818405, 'train_ap_score': 0.9319396266224466, 'eval_ap_score': 0.7682886264218424, 'lr': 0.010000000000000002}\n",
          "output_type": "stream"
        },
        {
          "name": "stderr",
          "text": "100%|██████████| 200/200 [00:17<00:00, 11.15it/s]\n",
          "output_type": "stream"
        },
        {
          "name": "stdout",
          "text": "{'epoch': 24, 'train_loss': 0.325397540256381, 'eval_loss': 1.1654478073120118, 'train_ap_score': 0.9389349404012384, 'eval_ap_score': 0.7677065824512462, 'lr': 0.010000000000000002}\n",
          "output_type": "stream"
        },
        {
          "name": "stderr",
          "text": "100%|██████████| 200/200 [00:17<00:00, 11.19it/s]\n",
          "output_type": "stream"
        },
        {
          "name": "stdout",
          "text": "{'epoch': 25, 'train_loss': 0.30005620039999487, 'eval_loss': 1.255464906692505, 'train_ap_score': 0.9458992238495447, 'eval_ap_score': 0.7631866147084834, 'lr': 0.010000000000000002}\n",
          "output_type": "stream"
        },
        {
          "output_type": "display_data",
          "data": {
            "text/plain": "<IPython.core.display.HTML object>",
            "text/html": "Waiting for W&B process to finish... <strong style=\"color:green\">(success).</strong>"
          },
          "metadata": {}
        },
        {
          "output_type": "display_data",
          "data": {
            "text/plain": "VBox(children=(Label(value='0.001 MB of 0.048 MB uploaded (0.000 MB deduped)\\r'), FloatProgress(value=0.022454…",
            "application/vnd.jupyter.widget-view+json": {
              "version_major": 2,
              "version_minor": 0,
              "model_id": "95f71736f1854f08b0487acee8722c98"
            }
          },
          "metadata": {}
        },
        {
          "output_type": "display_data",
          "data": {
            "text/plain": "<IPython.core.display.HTML object>",
            "text/html": "<style>\n    table.wandb td:nth-child(1) { padding: 0 10px; text-align: left ; width: auto;} td:nth-child(2) {text-align: left ; width: 100%}\n    .wandb-row { display: flex; flex-direction: row; flex-wrap: wrap; justify-content: flex-start; width: 100% }\n    .wandb-col { display: flex; flex-direction: column; flex-basis: 100%; flex: 1; padding: 10px; }\n    </style>\n<div class=\"wandb-row\"><div class=\"wandb-col\"><h3>Run history:</h3><br/><table class=\"wandb\"><tr><td>epoch</td><td>▁▁▂▂▂▂▃▃▃▄▄▄▅▅▅▅▆▆▆▇▇▇▇██</td></tr><tr><td>eval_ap_score</td><td>▁▃▃▃▃▄▅▆▆▆▆▇▇▇▇▇█▇███████</td></tr><tr><td>eval_loss</td><td>▁▁▁▁█▁▁▁▁▁▁▁▁▁▁▁▁▁▁▁▁▁▁▁▁</td></tr><tr><td>lr</td><td>█████████████████████▁▁▁▁</td></tr><tr><td>train_ap_score</td><td>▁▂▃▃▄▃▄▄▅▅▆▆▆▆▆▇▆▇▇▇▇████</td></tr><tr><td>train_loss</td><td>█▂▂▂▂▃▂▂▂▂▂▂▂▂▂▁▂▁▁▁▁▁▁▁▁</td></tr></table><br/></div><div class=\"wandb-col\"><h3>Run summary:</h3><br/><table class=\"wandb\"><tr><td>epoch</td><td>25</td></tr><tr><td>eval_ap_score</td><td>0.76319</td></tr><tr><td>eval_loss</td><td>1.25546</td></tr><tr><td>lr</td><td>0.01</td></tr><tr><td>train_ap_score</td><td>0.9459</td></tr><tr><td>train_loss</td><td>0.30006</td></tr></table><br/></div></div>"
          },
          "metadata": {}
        },
        {
          "output_type": "display_data",
          "data": {
            "text/plain": "<IPython.core.display.HTML object>",
            "text/html": " View run <strong style=\"color:#cdcd00\">restful-sweep-6</strong> at: <a href='https://wandb.ai/vanshg/wandb_demo/runs/1aa79g0f' target=\"_blank\">https://wandb.ai/vanshg/wandb_demo/runs/1aa79g0f</a><br/>Synced 6 W&B file(s), 0 media file(s), 0 artifact file(s) and 0 other file(s)"
          },
          "metadata": {}
        },
        {
          "output_type": "display_data",
          "data": {
            "text/plain": "<IPython.core.display.HTML object>",
            "text/html": "Find logs at: <code>./wandb/run-20230527_093550-1aa79g0f/logs</code>"
          },
          "metadata": {}
        },
        {
          "name": "stderr",
          "text": "\u001b[34m\u001b[1mwandb\u001b[0m: Agent Starting Run: 2770oe99 with config:\n\u001b[34m\u001b[1mwandb\u001b[0m: \tcriterion: ce\n\u001b[34m\u001b[1mwandb\u001b[0m: \tgpu_id: 0\n\u001b[34m\u001b[1mwandb\u001b[0m: \tlr: 0.001\n\u001b[34m\u001b[1mwandb\u001b[0m: \tmodel_type: scratch\n\u001b[34m\u001b[1mwandb\u001b[0m: \tnum_epochs: 25\n\u001b[34m\u001b[1mwandb\u001b[0m: \toptimizer: adam\n\u001b[34m\u001b[1mwandb\u001b[0m: \tscheduler_patience: 3\n\u001b[34m\u001b[1mwandb\u001b[0m: \tscheduler_thresh: 0.01\n",
          "output_type": "stream"
        },
        {
          "output_type": "display_data",
          "data": {
            "text/plain": "<IPython.core.display.HTML object>",
            "text/html": "Tracking run with wandb version 0.15.3"
          },
          "metadata": {}
        },
        {
          "output_type": "display_data",
          "data": {
            "text/plain": "<IPython.core.display.HTML object>",
            "text/html": "Run data is saved locally in <code>/kaggle/working/wandb/run-20230527_094526-2770oe99</code>"
          },
          "metadata": {}
        },
        {
          "output_type": "display_data",
          "data": {
            "text/plain": "<IPython.core.display.HTML object>",
            "text/html": "Syncing run <strong><a href='https://wandb.ai/vanshg/wandb_demo/runs/2770oe99' target=\"_blank\">solar-sweep-7</a></strong> to <a href='https://wandb.ai/vanshg/wandb_demo' target=\"_blank\">Weights & Biases</a> (<a href='https://wandb.me/run' target=\"_blank\">docs</a>)<br/>Sweep page: <a href='https://wandb.ai/vanshg/wandb_demo/sweeps/xmxmiut3' target=\"_blank\">https://wandb.ai/vanshg/wandb_demo/sweeps/xmxmiut3</a>"
          },
          "metadata": {}
        },
        {
          "output_type": "display_data",
          "data": {
            "text/plain": "<IPython.core.display.HTML object>",
            "text/html": " View project at <a href='https://wandb.ai/vanshg/wandb_demo' target=\"_blank\">https://wandb.ai/vanshg/wandb_demo</a>"
          },
          "metadata": {}
        },
        {
          "output_type": "display_data",
          "data": {
            "text/plain": "<IPython.core.display.HTML object>",
            "text/html": " View sweep at <a href='https://wandb.ai/vanshg/wandb_demo/sweeps/xmxmiut3' target=\"_blank\">https://wandb.ai/vanshg/wandb_demo/sweeps/xmxmiut3</a>"
          },
          "metadata": {}
        },
        {
          "output_type": "display_data",
          "data": {
            "text/plain": "<IPython.core.display.HTML object>",
            "text/html": " View run at <a href='https://wandb.ai/vanshg/wandb_demo/runs/2770oe99' target=\"_blank\">https://wandb.ai/vanshg/wandb_demo/runs/2770oe99</a>"
          },
          "metadata": {}
        },
        {
          "name": "stderr",
          "text": "100%|██████████| 200/200 [00:19<00:00, 10.36it/s]\n",
          "output_type": "stream"
        },
        {
          "name": "stdout",
          "text": "{'epoch': 1, 'train_loss': 1.4393938481807709, 'eval_loss': 1.2791862654685975, 'train_ap_score': 0.506419292820438, 'eval_ap_score': 0.6086871201357881, 'lr': 0.001}\n",
          "output_type": "stream"
        },
        {
          "name": "stderr",
          "text": "100%|██████████| 200/200 [00:18<00:00, 10.97it/s]\n",
          "output_type": "stream"
        },
        {
          "name": "stdout",
          "text": "{'epoch': 2, 'train_loss': 1.0354622319340705, 'eval_loss': 1.104106651544571, 'train_ap_score': 0.6928473327306942, 'eval_ap_score': 0.7071709244408474, 'lr': 0.001}\n",
          "output_type": "stream"
        },
        {
          "name": "stderr",
          "text": "100%|██████████| 200/200 [00:18<00:00, 11.02it/s]\n",
          "output_type": "stream"
        },
        {
          "name": "stdout",
          "text": "{'epoch': 3, 'train_loss': 0.842154076397419, 'eval_loss': 0.9960874724388122, 'train_ap_score': 0.7778582280244118, 'eval_ap_score': 0.7427543568917471, 'lr': 0.001}\n",
          "output_type": "stream"
        },
        {
          "name": "stderr",
          "text": "100%|██████████| 200/200 [00:18<00:00, 11.07it/s]\n",
          "output_type": "stream"
        },
        {
          "name": "stdout",
          "text": "{'epoch': 4, 'train_loss': 0.7100679811835289, 'eval_loss': 0.9258424711227417, 'train_ap_score': 0.8299838966858781, 'eval_ap_score': 0.7707470583268206, 'lr': 0.001}\n",
          "output_type": "stream"
        },
        {
          "name": "stderr",
          "text": "100%|██████████| 200/200 [00:18<00:00, 11.07it/s]\n",
          "output_type": "stream"
        },
        {
          "name": "stdout",
          "text": "{'epoch': 5, 'train_loss': 0.5916237327456474, 'eval_loss': 0.9096157538890839, 'train_ap_score': 0.8721960900086276, 'eval_ap_score': 0.7849672302583102, 'lr': 0.001}\n",
          "output_type": "stream"
        },
        {
          "name": "stderr",
          "text": "100%|██████████| 200/200 [00:18<00:00, 11.02it/s]\n",
          "output_type": "stream"
        },
        {
          "name": "stdout",
          "text": "{'epoch': 6, 'train_loss': 0.48023492574691773, 'eval_loss': 0.9154515612125397, 'train_ap_score': 0.9081679535736047, 'eval_ap_score': 0.8021329953652749, 'lr': 0.001}\n",
          "output_type": "stream"
        },
        {
          "name": "stderr",
          "text": "100%|██████████| 200/200 [00:18<00:00, 11.04it/s]\n",
          "output_type": "stream"
        },
        {
          "name": "stdout",
          "text": "{'epoch': 7, 'train_loss': 0.38554832734167577, 'eval_loss': 0.9130834138393402, 'train_ap_score': 0.9359727620466595, 'eval_ap_score': 0.8040730552147541, 'lr': 0.001}\n",
          "output_type": "stream"
        },
        {
          "name": "stderr",
          "text": "100%|██████████| 200/200 [00:18<00:00, 11.08it/s]\n",
          "output_type": "stream"
        },
        {
          "name": "stdout",
          "text": "{'epoch': 8, 'train_loss': 0.3142279974371195, 'eval_loss': 0.9544996905326844, 'train_ap_score': 0.9543619358820996, 'eval_ap_score': 0.8021930684487943, 'lr': 0.001}\n",
          "output_type": "stream"
        },
        {
          "name": "stderr",
          "text": "100%|██████████| 200/200 [00:18<00:00, 11.02it/s]\n",
          "output_type": "stream"
        },
        {
          "name": "stdout",
          "text": "{'epoch': 9, 'train_loss': 0.2506888126581907, 'eval_loss': 1.0159650194644927, 'train_ap_score': 0.9697066359347681, 'eval_ap_score': 0.8039417733025415, 'lr': 0.001}\n",
          "output_type": "stream"
        },
        {
          "name": "stderr",
          "text": "100%|██████████| 200/200 [00:18<00:00, 10.99it/s]\n",
          "output_type": "stream"
        },
        {
          "name": "stdout",
          "text": "{'epoch': 10, 'train_loss': 0.09180149853229523, 'eval_loss': 0.8654650771617889, 'train_ap_score': 0.9962600849695198, 'eval_ap_score': 0.838924172793497, 'lr': 0.0001}\n",
          "output_type": "stream"
        },
        {
          "name": "stderr",
          "text": "100%|██████████| 200/200 [00:18<00:00, 11.06it/s]\n",
          "output_type": "stream"
        },
        {
          "name": "stdout",
          "text": "{'epoch': 11, 'train_loss': 0.03770425138063729, 'eval_loss': 0.9257323431968689, 'train_ap_score': 0.9996029274029453, 'eval_ap_score': 0.8390284804443994, 'lr': 0.0001}\n",
          "output_type": "stream"
        },
        {
          "name": "stderr",
          "text": "100%|██████████| 200/200 [00:18<00:00, 11.02it/s]\n",
          "output_type": "stream"
        },
        {
          "name": "stdout",
          "text": "{'epoch': 12, 'train_loss': 0.021329595232382415, 'eval_loss': 0.9864211869239807, 'train_ap_score': 0.9999008289765928, 'eval_ap_score': 0.8388035716356173, 'lr': 0.0001}\n",
          "output_type": "stream"
        },
        {
          "name": "stderr",
          "text": "100%|██████████| 200/200 [00:18<00:00, 11.03it/s]\n",
          "output_type": "stream"
        },
        {
          "name": "stdout",
          "text": "{'epoch': 13, 'train_loss': 0.01228242678102106, 'eval_loss': 1.03534530878067, 'train_ap_score': 0.9999775543400384, 'eval_ap_score': 0.8386961394346629, 'lr': 0.0001}\n",
          "output_type": "stream"
        },
        {
          "name": "stderr",
          "text": "100%|██████████| 200/200 [00:18<00:00, 11.08it/s]\n",
          "output_type": "stream"
        },
        {
          "name": "stdout",
          "text": "{'epoch': 14, 'train_loss': 0.008304690169170499, 'eval_loss': 1.083636872768402, 'train_ap_score': 0.999985822749778, 'eval_ap_score': 0.8375591959677184, 'lr': 0.0001}\n",
          "output_type": "stream"
        },
        {
          "name": "stderr",
          "text": "100%|██████████| 200/200 [00:18<00:00, 11.06it/s]\n",
          "output_type": "stream"
        },
        {
          "name": "stdout",
          "text": "{'epoch': 15, 'train_loss': 0.005883734681410715, 'eval_loss': 1.0930301713943482, 'train_ap_score': 0.9999951969325256, 'eval_ap_score': 0.8376882922435265, 'lr': 1e-05}\n",
          "output_type": "stream"
        },
        {
          "name": "stderr",
          "text": "100%|██████████| 200/200 [00:18<00:00, 11.02it/s]\n",
          "output_type": "stream"
        },
        {
          "name": "stdout",
          "text": "{'epoch': 16, 'train_loss': 0.0056559539900626985, 'eval_loss': 1.0906455719470978, 'train_ap_score': 0.9999935463877782, 'eval_ap_score': 0.8377374807691516, 'lr': 1e-05}\n",
          "output_type": "stream"
        },
        {
          "name": "stderr",
          "text": "100%|██████████| 200/200 [00:18<00:00, 11.09it/s]\n",
          "output_type": "stream"
        },
        {
          "name": "stdout",
          "text": "{'epoch': 17, 'train_loss': 0.0054015173262450845, 'eval_loss': 1.1005809962749482, 'train_ap_score': 0.9999964167502968, 'eval_ap_score': 0.8376815300821228, 'lr': 1e-05}\n",
          "output_type": "stream"
        },
        {
          "name": "stderr",
          "text": "100%|██████████| 200/200 [00:18<00:00, 11.02it/s]\n",
          "output_type": "stream"
        },
        {
          "name": "stdout",
          "text": "{'epoch': 18, 'train_loss': 0.005105446518864482, 'eval_loss': 1.1051580941677093, 'train_ap_score': 0.9999986484043525, 'eval_ap_score': 0.8377399238339034, 'lr': 1e-05}\n",
          "output_type": "stream"
        },
        {
          "name": "stderr",
          "text": "100%|██████████| 200/200 [00:18<00:00, 11.02it/s]\n",
          "output_type": "stream"
        },
        {
          "name": "stdout",
          "text": "{'epoch': 19, 'train_loss': 0.0046998863853514195, 'eval_loss': 1.1050305151939392, 'train_ap_score': 0.9999970364250883, 'eval_ap_score': 0.8376283780188458, 'lr': 1.0000000000000002e-06}\n",
          "output_type": "stream"
        },
        {
          "name": "stderr",
          "text": "100%|██████████| 200/200 [00:18<00:00, 11.09it/s]\n",
          "output_type": "stream"
        },
        {
          "name": "stdout",
          "text": "{'epoch': 20, 'train_loss': 0.0047001465782523155, 'eval_loss': 1.106365351676941, 'train_ap_score': 0.9999984899186479, 'eval_ap_score': 0.8377512110261922, 'lr': 1.0000000000000002e-06}\n",
          "output_type": "stream"
        },
        {
          "name": "stderr",
          "text": "100%|██████████| 200/200 [00:18<00:00, 10.99it/s]\n",
          "output_type": "stream"
        },
        {
          "name": "stdout",
          "text": "{'epoch': 21, 'train_loss': 0.004630376449786127, 'eval_loss': 1.1059319770336151, 'train_ap_score': 0.999998656998447, 'eval_ap_score': 0.8375876481310464, 'lr': 1.0000000000000002e-06}\n",
          "output_type": "stream"
        },
        {
          "name": "stderr",
          "text": "100%|██████████| 200/200 [00:18<00:00, 10.94it/s]\n",
          "output_type": "stream"
        },
        {
          "name": "stdout",
          "text": "{'epoch': 22, 'train_loss': 0.004592329227598384, 'eval_loss': 1.1068062210083007, 'train_ap_score': 0.9999991675805907, 'eval_ap_score': 0.8377552685674333, 'lr': 1.0000000000000002e-06}\n",
          "output_type": "stream"
        },
        {
          "name": "stderr",
          "text": "100%|██████████| 200/200 [00:18<00:00, 11.08it/s]\n",
          "output_type": "stream"
        },
        {
          "name": "stdout",
          "text": "{'epoch': 23, 'train_loss': 0.004611385758034885, 'eval_loss': 1.1129391658306123, 'train_ap_score': 0.9999992615655928, 'eval_ap_score': 0.8374904937353811, 'lr': 1.0000000000000002e-07}\n",
          "output_type": "stream"
        },
        {
          "name": "stderr",
          "text": "100%|██████████| 200/200 [00:18<00:00, 11.03it/s]\n",
          "output_type": "stream"
        },
        {
          "name": "stdout",
          "text": "{'epoch': 24, 'train_loss': 0.004708732494036667, 'eval_loss': 1.1099084913730621, 'train_ap_score': 0.9999984042248652, 'eval_ap_score': 0.8375061122435014, 'lr': 1.0000000000000002e-07}\n",
          "output_type": "stream"
        },
        {
          "name": "stderr",
          "text": "100%|██████████| 200/200 [00:18<00:00, 11.02it/s]\n",
          "output_type": "stream"
        },
        {
          "name": "stdout",
          "text": "{'epoch': 25, 'train_loss': 0.004744859304046258, 'eval_loss': 1.1106240463256836, 'train_ap_score': 0.9999982920674961, 'eval_ap_score': 0.8375358935788407, 'lr': 1.0000000000000002e-07}\n",
          "output_type": "stream"
        },
        {
          "output_type": "display_data",
          "data": {
            "text/plain": "<IPython.core.display.HTML object>",
            "text/html": "Waiting for W&B process to finish... <strong style=\"color:green\">(success).</strong>"
          },
          "metadata": {}
        },
        {
          "output_type": "display_data",
          "data": {
            "text/plain": "VBox(children=(Label(value='0.001 MB of 0.001 MB uploaded (0.000 MB deduped)\\r'), FloatProgress(value=1.0, max…",
            "application/vnd.jupyter.widget-view+json": {
              "version_major": 2,
              "version_minor": 0,
              "model_id": "dd859347a9d14c4094c88943bf1da3d2"
            }
          },
          "metadata": {}
        },
        {
          "output_type": "display_data",
          "data": {
            "text/plain": "<IPython.core.display.HTML object>",
            "text/html": "<style>\n    table.wandb td:nth-child(1) { padding: 0 10px; text-align: left ; width: auto;} td:nth-child(2) {text-align: left ; width: 100%}\n    .wandb-row { display: flex; flex-direction: row; flex-wrap: wrap; justify-content: flex-start; width: 100% }\n    .wandb-col { display: flex; flex-direction: column; flex-basis: 100%; flex: 1; padding: 10px; }\n    </style>\n<div class=\"wandb-row\"><div class=\"wandb-col\"><h3>Run history:</h3><br/><table class=\"wandb\"><tr><td>epoch</td><td>▁▁▂▂▂▂▃▃▃▄▄▄▅▅▅▅▆▆▆▇▇▇▇██</td></tr><tr><td>eval_ap_score</td><td>▁▄▅▆▆▇▇▇▇████████████████</td></tr><tr><td>eval_loss</td><td>█▅▃▂▂▂▂▃▄▁▂▃▄▅▅▅▅▅▅▅▅▅▅▅▅</td></tr><tr><td>lr</td><td>█████████▂▂▂▂▂▁▁▁▁▁▁▁▁▁▁▁</td></tr><tr><td>train_ap_score</td><td>▁▄▅▆▆▇▇▇█████████████████</td></tr><tr><td>train_loss</td><td>█▆▅▄▄▃▃▃▂▁▁▁▁▁▁▁▁▁▁▁▁▁▁▁▁</td></tr></table><br/></div><div class=\"wandb-col\"><h3>Run summary:</h3><br/><table class=\"wandb\"><tr><td>epoch</td><td>25</td></tr><tr><td>eval_ap_score</td><td>0.83754</td></tr><tr><td>eval_loss</td><td>1.11062</td></tr><tr><td>lr</td><td>0.0</td></tr><tr><td>train_ap_score</td><td>1.0</td></tr><tr><td>train_loss</td><td>0.00474</td></tr></table><br/></div></div>"
          },
          "metadata": {}
        },
        {
          "output_type": "display_data",
          "data": {
            "text/plain": "<IPython.core.display.HTML object>",
            "text/html": " View run <strong style=\"color:#cdcd00\">solar-sweep-7</strong> at: <a href='https://wandb.ai/vanshg/wandb_demo/runs/2770oe99' target=\"_blank\">https://wandb.ai/vanshg/wandb_demo/runs/2770oe99</a><br/>Synced 6 W&B file(s), 0 media file(s), 0 artifact file(s) and 0 other file(s)"
          },
          "metadata": {}
        },
        {
          "output_type": "display_data",
          "data": {
            "text/plain": "<IPython.core.display.HTML object>",
            "text/html": "Find logs at: <code>./wandb/run-20230527_094526-2770oe99/logs</code>"
          },
          "metadata": {}
        },
        {
          "name": "stderr",
          "text": "\u001b[34m\u001b[1mwandb\u001b[0m: Agent Starting Run: nwi4nktw with config:\n\u001b[34m\u001b[1mwandb\u001b[0m: \tcriterion: ce\n\u001b[34m\u001b[1mwandb\u001b[0m: \tgpu_id: 0\n\u001b[34m\u001b[1mwandb\u001b[0m: \tlr: 0.001\n\u001b[34m\u001b[1mwandb\u001b[0m: \tmodel_type: scratch\n\u001b[34m\u001b[1mwandb\u001b[0m: \tnum_epochs: 25\n\u001b[34m\u001b[1mwandb\u001b[0m: \toptimizer: SGD\n\u001b[34m\u001b[1mwandb\u001b[0m: \tscheduler_patience: 3\n\u001b[34m\u001b[1mwandb\u001b[0m: \tscheduler_thresh: 0.01\n",
          "output_type": "stream"
        },
        {
          "output_type": "display_data",
          "data": {
            "text/plain": "<IPython.core.display.HTML object>",
            "text/html": "Tracking run with wandb version 0.15.3"
          },
          "metadata": {}
        },
        {
          "output_type": "display_data",
          "data": {
            "text/plain": "<IPython.core.display.HTML object>",
            "text/html": "Run data is saved locally in <code>/kaggle/working/wandb/run-20230527_095508-nwi4nktw</code>"
          },
          "metadata": {}
        },
        {
          "output_type": "display_data",
          "data": {
            "text/plain": "<IPython.core.display.HTML object>",
            "text/html": "Syncing run <strong><a href='https://wandb.ai/vanshg/wandb_demo/runs/nwi4nktw' target=\"_blank\">vital-sweep-8</a></strong> to <a href='https://wandb.ai/vanshg/wandb_demo' target=\"_blank\">Weights & Biases</a> (<a href='https://wandb.me/run' target=\"_blank\">docs</a>)<br/>Sweep page: <a href='https://wandb.ai/vanshg/wandb_demo/sweeps/xmxmiut3' target=\"_blank\">https://wandb.ai/vanshg/wandb_demo/sweeps/xmxmiut3</a>"
          },
          "metadata": {}
        },
        {
          "output_type": "display_data",
          "data": {
            "text/plain": "<IPython.core.display.HTML object>",
            "text/html": " View project at <a href='https://wandb.ai/vanshg/wandb_demo' target=\"_blank\">https://wandb.ai/vanshg/wandb_demo</a>"
          },
          "metadata": {}
        },
        {
          "output_type": "display_data",
          "data": {
            "text/plain": "<IPython.core.display.HTML object>",
            "text/html": " View sweep at <a href='https://wandb.ai/vanshg/wandb_demo/sweeps/xmxmiut3' target=\"_blank\">https://wandb.ai/vanshg/wandb_demo/sweeps/xmxmiut3</a>"
          },
          "metadata": {}
        },
        {
          "output_type": "display_data",
          "data": {
            "text/plain": "<IPython.core.display.HTML object>",
            "text/html": " View run at <a href='https://wandb.ai/vanshg/wandb_demo/runs/nwi4nktw' target=\"_blank\">https://wandb.ai/vanshg/wandb_demo/runs/nwi4nktw</a>"
          },
          "metadata": {}
        },
        {
          "name": "stderr",
          "text": "100%|██████████| 200/200 [00:19<00:00, 10.15it/s]\n",
          "output_type": "stream"
        },
        {
          "name": "stdout",
          "text": "{'epoch': 1, 'train_loss': 2.1834996128082276, 'eval_loss': 1.9853014993667601, 'train_ap_score': 0.18367207784817424, 'eval_ap_score': 0.25646198085977984, 'lr': 0.001}\n",
          "output_type": "stream"
        },
        {
          "name": "stderr",
          "text": "100%|██████████| 200/200 [00:17<00:00, 11.16it/s]\n",
          "output_type": "stream"
        },
        {
          "name": "stdout",
          "text": "{'epoch': 2, 'train_loss': 1.874318528175354, 'eval_loss': 1.8080042028427123, 'train_ap_score': 0.3047036631077264, 'eval_ap_score': 0.3321926325756221, 'lr': 0.001}\n",
          "output_type": "stream"
        },
        {
          "name": "stderr",
          "text": "100%|██████████| 200/200 [00:17<00:00, 11.29it/s]\n",
          "output_type": "stream"
        },
        {
          "name": "stdout",
          "text": "{'epoch': 3, 'train_loss': 1.7217752730846405, 'eval_loss': 1.7006967544555665, 'train_ap_score': 0.37232112552189317, 'eval_ap_score': 0.37633863810785606, 'lr': 0.001}\n",
          "output_type": "stream"
        },
        {
          "name": "stderr",
          "text": "100%|██████████| 200/200 [00:17<00:00, 11.20it/s]\n",
          "output_type": "stream"
        },
        {
          "name": "stdout",
          "text": "{'epoch': 4, 'train_loss': 1.61454196870327, 'eval_loss': 1.6348853945732116, 'train_ap_score': 0.4221286778571483, 'eval_ap_score': 0.4065746871814511, 'lr': 0.001}\n",
          "output_type": "stream"
        },
        {
          "name": "stderr",
          "text": "100%|██████████| 200/200 [00:17<00:00, 11.21it/s]\n",
          "output_type": "stream"
        },
        {
          "name": "stdout",
          "text": "{'epoch': 5, 'train_loss': 1.5385738843679428, 'eval_loss': 1.5886817789077758, 'train_ap_score': 0.45846159079500354, 'eval_ap_score': 0.42769832253482665, 'lr': 0.001}\n",
          "output_type": "stream"
        },
        {
          "name": "stderr",
          "text": "100%|██████████| 200/200 [00:17<00:00, 11.28it/s]\n",
          "output_type": "stream"
        },
        {
          "name": "stdout",
          "text": "{'epoch': 6, 'train_loss': 1.4763760650157929, 'eval_loss': 1.5465105152130127, 'train_ap_score': 0.48923685269564554, 'eval_ap_score': 0.4455318174088183, 'lr': 0.001}\n",
          "output_type": "stream"
        },
        {
          "name": "stderr",
          "text": "100%|██████████| 200/200 [00:17<00:00, 11.17it/s]\n",
          "output_type": "stream"
        },
        {
          "name": "stdout",
          "text": "{'epoch': 7, 'train_loss': 1.4196407228708268, 'eval_loss': 1.5219259142875672, 'train_ap_score': 0.5186990385526937, 'eval_ap_score': 0.45937398609865265, 'lr': 0.001}\n",
          "output_type": "stream"
        },
        {
          "name": "stderr",
          "text": "100%|██████████| 200/200 [00:17<00:00, 11.26it/s]\n",
          "output_type": "stream"
        },
        {
          "name": "stdout",
          "text": "{'epoch': 8, 'train_loss': 1.3726281583309174, 'eval_loss': 1.4973776602745057, 'train_ap_score': 0.5411096158366406, 'eval_ap_score': 0.471276060626978, 'lr': 0.001}\n",
          "output_type": "stream"
        },
        {
          "name": "stderr",
          "text": "100%|██████████| 200/200 [00:17<00:00, 11.31it/s]\n",
          "output_type": "stream"
        },
        {
          "name": "stdout",
          "text": "{'epoch': 9, 'train_loss': 1.3268827348947525, 'eval_loss': 1.4752308344841003, 'train_ap_score': 0.5661163827340745, 'eval_ap_score': 0.48260488294268067, 'lr': 0.001}\n",
          "output_type": "stream"
        },
        {
          "name": "stderr",
          "text": "100%|██████████| 200/200 [00:17<00:00, 11.22it/s]\n",
          "output_type": "stream"
        },
        {
          "name": "stdout",
          "text": "{'epoch': 10, 'train_loss': 1.2876932793855667, 'eval_loss': 1.459636356830597, 'train_ap_score': 0.5852470531601585, 'eval_ap_score': 0.4901482026474202, 'lr': 0.001}\n",
          "output_type": "stream"
        },
        {
          "name": "stderr",
          "text": "100%|██████████| 200/200 [00:17<00:00, 11.25it/s]\n",
          "output_type": "stream"
        },
        {
          "name": "stdout",
          "text": "{'epoch': 11, 'train_loss': 1.249322670698166, 'eval_loss': 1.4434130311012268, 'train_ap_score': 0.6053657288790697, 'eval_ap_score': 0.5010975601064958, 'lr': 0.001}\n",
          "output_type": "stream"
        },
        {
          "name": "stderr",
          "text": "100%|██████████| 200/200 [00:17<00:00, 11.32it/s]\n",
          "output_type": "stream"
        },
        {
          "name": "stdout",
          "text": "{'epoch': 12, 'train_loss': 1.2123776137828828, 'eval_loss': 1.429347357749939, 'train_ap_score': 0.6239665318018772, 'eval_ap_score': 0.5088963316401621, 'lr': 0.001}\n",
          "output_type": "stream"
        },
        {
          "name": "stderr",
          "text": "100%|██████████| 200/200 [00:17<00:00, 11.23it/s]\n",
          "output_type": "stream"
        },
        {
          "name": "stdout",
          "text": "{'epoch': 13, 'train_loss': 1.1779223155975342, 'eval_loss': 1.4222553157806397, 'train_ap_score': 0.6401712895455884, 'eval_ap_score': 0.5142949949761391, 'lr': 0.001}\n",
          "output_type": "stream"
        },
        {
          "name": "stderr",
          "text": "100%|██████████| 200/200 [00:17<00:00, 11.21it/s]\n",
          "output_type": "stream"
        },
        {
          "name": "stdout",
          "text": "{'epoch': 14, 'train_loss': 1.1428059893846512, 'eval_loss': 1.4172490739822388, 'train_ap_score': 0.6587002539737219, 'eval_ap_score': 0.5144813594352394, 'lr': 0.001}\n",
          "output_type": "stream"
        },
        {
          "name": "stderr",
          "text": "100%|██████████| 200/200 [00:17<00:00, 11.28it/s]\n",
          "output_type": "stream"
        },
        {
          "name": "stdout",
          "text": "{'epoch': 15, 'train_loss': 1.111705472767353, 'eval_loss': 1.4095425534248351, 'train_ap_score': 0.6731500578096756, 'eval_ap_score': 0.5217330345402317, 'lr': 0.001}\n",
          "output_type": "stream"
        },
        {
          "name": "stderr",
          "text": "100%|██████████| 200/200 [00:18<00:00, 11.08it/s]\n",
          "output_type": "stream"
        },
        {
          "name": "stdout",
          "text": "{'epoch': 16, 'train_loss': 1.0767297732830048, 'eval_loss': 1.4045419764518738, 'train_ap_score': 0.6897509656847391, 'eval_ap_score': 0.5254664647162077, 'lr': 0.001}\n",
          "output_type": "stream"
        },
        {
          "name": "stderr",
          "text": "100%|██████████| 200/200 [00:17<00:00, 11.22it/s]\n",
          "output_type": "stream"
        },
        {
          "name": "stdout",
          "text": "{'epoch': 17, 'train_loss': 1.0462988814711571, 'eval_loss': 1.4029752349853515, 'train_ap_score': 0.7049573150898357, 'eval_ap_score': 0.5275826038453391, 'lr': 0.001}\n",
          "output_type": "stream"
        },
        {
          "name": "stderr",
          "text": "100%|██████████| 200/200 [00:17<00:00, 11.28it/s]\n",
          "output_type": "stream"
        },
        {
          "name": "stdout",
          "text": "{'epoch': 18, 'train_loss': 1.0142773899435997, 'eval_loss': 1.4011443448066712, 'train_ap_score': 0.720027255505507, 'eval_ap_score': 0.5298314893191766, 'lr': 0.001}\n",
          "output_type": "stream"
        },
        {
          "name": "stderr",
          "text": "100%|██████████| 200/200 [00:17<00:00, 11.24it/s]\n",
          "output_type": "stream"
        },
        {
          "name": "stdout",
          "text": "{'epoch': 19, 'train_loss': 0.9820324185490609, 'eval_loss': 1.3966937851905823, 'train_ap_score': 0.734628140999255, 'eval_ap_score': 0.5346156580903784, 'lr': 0.001}\n",
          "output_type": "stream"
        },
        {
          "name": "stderr",
          "text": "100%|██████████| 200/200 [00:17<00:00, 11.25it/s]\n",
          "output_type": "stream"
        },
        {
          "name": "stdout",
          "text": "{'epoch': 20, 'train_loss': 0.9472950747609139, 'eval_loss': 1.3992739200592041, 'train_ap_score': 0.7513195472448596, 'eval_ap_score': 0.5361414256206525, 'lr': 0.001}\n",
          "output_type": "stream"
        },
        {
          "name": "stderr",
          "text": "100%|██████████| 200/200 [00:17<00:00, 11.31it/s]\n",
          "output_type": "stream"
        },
        {
          "name": "stdout",
          "text": "{'epoch': 21, 'train_loss': 0.9025763079524041, 'eval_loss': 1.3960725235939027, 'train_ap_score': 0.7741921692949152, 'eval_ap_score': 0.5373711740810769, 'lr': 0.0001}\n",
          "output_type": "stream"
        },
        {
          "name": "stderr",
          "text": "100%|██████████| 200/200 [00:17<00:00, 11.26it/s]\n",
          "output_type": "stream"
        },
        {
          "name": "stdout",
          "text": "{'epoch': 22, 'train_loss': 0.894383635520935, 'eval_loss': 1.3949621415138245, 'train_ap_score': 0.7783129681898462, 'eval_ap_score': 0.5383624830059575, 'lr': 0.0001}\n",
          "output_type": "stream"
        },
        {
          "name": "stderr",
          "text": "100%|██████████| 200/200 [00:17<00:00, 11.22it/s]\n",
          "output_type": "stream"
        },
        {
          "name": "stdout",
          "text": "{'epoch': 23, 'train_loss': 0.8884395357966423, 'eval_loss': 1.3965272736549377, 'train_ap_score': 0.781428840837944, 'eval_ap_score': 0.537908237529192, 'lr': 0.0001}\n",
          "output_type": "stream"
        },
        {
          "name": "stderr",
          "text": "100%|██████████| 200/200 [00:17<00:00, 11.32it/s]\n",
          "output_type": "stream"
        },
        {
          "name": "stdout",
          "text": "{'epoch': 24, 'train_loss': 0.8875832477211952, 'eval_loss': 1.3954502487182616, 'train_ap_score': 0.7812383804719014, 'eval_ap_score': 0.5380466310634191, 'lr': 0.0001}\n",
          "output_type": "stream"
        },
        {
          "name": "stderr",
          "text": "100%|██████████| 200/200 [00:17<00:00, 11.24it/s]\n",
          "output_type": "stream"
        },
        {
          "name": "stdout",
          "text": "{'epoch': 25, 'train_loss': 0.8782021778821946, 'eval_loss': 1.3943215990066529, 'train_ap_score': 0.7857815880107857, 'eval_ap_score': 0.5384711818850829, 'lr': 1e-05}\n",
          "output_type": "stream"
        },
        {
          "output_type": "display_data",
          "data": {
            "text/plain": "<IPython.core.display.HTML object>",
            "text/html": "Waiting for W&B process to finish... <strong style=\"color:green\">(success).</strong>"
          },
          "metadata": {}
        },
        {
          "output_type": "display_data",
          "data": {
            "text/plain": "VBox(children=(Label(value='0.001 MB of 0.001 MB uploaded (0.000 MB deduped)\\r'), FloatProgress(value=1.0, max…",
            "application/vnd.jupyter.widget-view+json": {
              "version_major": 2,
              "version_minor": 0,
              "model_id": "cb39a886e61f4b3f8e8472b8624bdf09"
            }
          },
          "metadata": {}
        },
        {
          "output_type": "display_data",
          "data": {
            "text/plain": "<IPython.core.display.HTML object>",
            "text/html": "<style>\n    table.wandb td:nth-child(1) { padding: 0 10px; text-align: left ; width: auto;} td:nth-child(2) {text-align: left ; width: 100%}\n    .wandb-row { display: flex; flex-direction: row; flex-wrap: wrap; justify-content: flex-start; width: 100% }\n    .wandb-col { display: flex; flex-direction: column; flex-basis: 100%; flex: 1; padding: 10px; }\n    </style>\n<div class=\"wandb-row\"><div class=\"wandb-col\"><h3>Run history:</h3><br/><table class=\"wandb\"><tr><td>epoch</td><td>▁▁▂▂▂▂▃▃▃▄▄▄▅▅▅▅▆▆▆▇▇▇▇██</td></tr><tr><td>eval_ap_score</td><td>▁▃▄▅▅▆▆▆▇▇▇▇▇▇███████████</td></tr><tr><td>eval_loss</td><td>█▆▅▄▃▃▃▂▂▂▂▁▁▁▁▁▁▁▁▁▁▁▁▁▁</td></tr><tr><td>lr</td><td>████████████████████▂▂▂▂▁</td></tr><tr><td>train_ap_score</td><td>▁▂▃▄▄▅▅▅▅▆▆▆▆▇▇▇▇▇▇██████</td></tr><tr><td>train_loss</td><td>█▆▆▅▅▄▄▄▃▃▃▃▃▂▂▂▂▂▂▁▁▁▁▁▁</td></tr></table><br/></div><div class=\"wandb-col\"><h3>Run summary:</h3><br/><table class=\"wandb\"><tr><td>epoch</td><td>25</td></tr><tr><td>eval_ap_score</td><td>0.53847</td></tr><tr><td>eval_loss</td><td>1.39432</td></tr><tr><td>lr</td><td>1e-05</td></tr><tr><td>train_ap_score</td><td>0.78578</td></tr><tr><td>train_loss</td><td>0.8782</td></tr></table><br/></div></div>"
          },
          "metadata": {}
        },
        {
          "output_type": "display_data",
          "data": {
            "text/plain": "<IPython.core.display.HTML object>",
            "text/html": " View run <strong style=\"color:#cdcd00\">vital-sweep-8</strong> at: <a href='https://wandb.ai/vanshg/wandb_demo/runs/nwi4nktw' target=\"_blank\">https://wandb.ai/vanshg/wandb_demo/runs/nwi4nktw</a><br/>Synced 6 W&B file(s), 0 media file(s), 0 artifact file(s) and 0 other file(s)"
          },
          "metadata": {}
        },
        {
          "output_type": "display_data",
          "data": {
            "text/plain": "<IPython.core.display.HTML object>",
            "text/html": "Find logs at: <code>./wandb/run-20230527_095508-nwi4nktw/logs</code>"
          },
          "metadata": {}
        },
        {
          "name": "stderr",
          "text": "\u001b[34m\u001b[1mwandb\u001b[0m: Agent Starting Run: 8eit0945 with config:\n\u001b[34m\u001b[1mwandb\u001b[0m: \tcriterion: ce\n\u001b[34m\u001b[1mwandb\u001b[0m: \tgpu_id: 0\n\u001b[34m\u001b[1mwandb\u001b[0m: \tlr: 0.001\n\u001b[34m\u001b[1mwandb\u001b[0m: \tmodel_type: scratch\n\u001b[34m\u001b[1mwandb\u001b[0m: \tnum_epochs: 25\n\u001b[34m\u001b[1mwandb\u001b[0m: \toptimizer: RMSprop\n\u001b[34m\u001b[1mwandb\u001b[0m: \tscheduler_patience: 3\n\u001b[34m\u001b[1mwandb\u001b[0m: \tscheduler_thresh: 0.01\n",
          "output_type": "stream"
        },
        {
          "output_type": "display_data",
          "data": {
            "text/plain": "<IPython.core.display.HTML object>",
            "text/html": "Tracking run with wandb version 0.15.3"
          },
          "metadata": {}
        },
        {
          "output_type": "display_data",
          "data": {
            "text/plain": "<IPython.core.display.HTML object>",
            "text/html": "Run data is saved locally in <code>/kaggle/working/wandb/run-20230527_100439-8eit0945</code>"
          },
          "metadata": {}
        },
        {
          "output_type": "display_data",
          "data": {
            "text/plain": "<IPython.core.display.HTML object>",
            "text/html": "Syncing run <strong><a href='https://wandb.ai/vanshg/wandb_demo/runs/8eit0945' target=\"_blank\">silvery-sweep-9</a></strong> to <a href='https://wandb.ai/vanshg/wandb_demo' target=\"_blank\">Weights & Biases</a> (<a href='https://wandb.me/run' target=\"_blank\">docs</a>)<br/>Sweep page: <a href='https://wandb.ai/vanshg/wandb_demo/sweeps/xmxmiut3' target=\"_blank\">https://wandb.ai/vanshg/wandb_demo/sweeps/xmxmiut3</a>"
          },
          "metadata": {}
        },
        {
          "output_type": "display_data",
          "data": {
            "text/plain": "<IPython.core.display.HTML object>",
            "text/html": " View project at <a href='https://wandb.ai/vanshg/wandb_demo' target=\"_blank\">https://wandb.ai/vanshg/wandb_demo</a>"
          },
          "metadata": {}
        },
        {
          "output_type": "display_data",
          "data": {
            "text/plain": "<IPython.core.display.HTML object>",
            "text/html": " View sweep at <a href='https://wandb.ai/vanshg/wandb_demo/sweeps/xmxmiut3' target=\"_blank\">https://wandb.ai/vanshg/wandb_demo/sweeps/xmxmiut3</a>"
          },
          "metadata": {}
        },
        {
          "output_type": "display_data",
          "data": {
            "text/plain": "<IPython.core.display.HTML object>",
            "text/html": " View run at <a href='https://wandb.ai/vanshg/wandb_demo/runs/8eit0945' target=\"_blank\">https://wandb.ai/vanshg/wandb_demo/runs/8eit0945</a>"
          },
          "metadata": {}
        },
        {
          "name": "stderr",
          "text": "100%|██████████| 200/200 [00:20<00:00,  9.83it/s]\n",
          "output_type": "stream"
        },
        {
          "name": "stdout",
          "text": "{'epoch': 1, 'train_loss': 1.625038628578186, 'eval_loss': 1.3211209988594055, 'train_ap_score': 0.42835366468712194, 'eval_ap_score': 0.5852877088612753, 'lr': 0.001}\n",
          "output_type": "stream"
        },
        {
          "name": "stderr",
          "text": "100%|██████████| 200/200 [00:18<00:00, 10.85it/s]\n",
          "output_type": "stream"
        },
        {
          "name": "stdout",
          "text": "{'epoch': 2, 'train_loss': 1.1177774089574815, 'eval_loss': 1.2227674674987794, 'train_ap_score': 0.652685983583962, 'eval_ap_score': 0.6747032335726763, 'lr': 0.001}\n",
          "output_type": "stream"
        },
        {
          "name": "stderr",
          "text": "100%|██████████| 200/200 [00:17<00:00, 11.14it/s]\n",
          "output_type": "stream"
        },
        {
          "name": "stdout",
          "text": "{'epoch': 3, 'train_loss': 0.9001631930470466, 'eval_loss': 1.051480085849762, 'train_ap_score': 0.7520641860623929, 'eval_ap_score': 0.7330064394718162, 'lr': 0.001}\n",
          "output_type": "stream"
        },
        {
          "name": "stderr",
          "text": "100%|██████████| 200/200 [00:18<00:00, 11.09it/s]\n",
          "output_type": "stream"
        },
        {
          "name": "stdout",
          "text": "{'epoch': 4, 'train_loss': 0.7460827144980431, 'eval_loss': 0.9105792498588562, 'train_ap_score': 0.8152101470379938, 'eval_ap_score': 0.7767651450796905, 'lr': 0.001}\n",
          "output_type": "stream"
        },
        {
          "name": "stderr",
          "text": "100%|██████████| 200/200 [00:18<00:00, 11.05it/s]\n",
          "output_type": "stream"
        },
        {
          "name": "stdout",
          "text": "{'epoch': 5, 'train_loss': 0.6015491168200969, 'eval_loss': 0.9390139925479889, 'train_ap_score': 0.867783096129972, 'eval_ap_score': 0.777535963599187, 'lr': 0.001}\n",
          "output_type": "stream"
        },
        {
          "name": "stderr",
          "text": "100%|██████████| 200/200 [00:17<00:00, 11.18it/s]\n",
          "output_type": "stream"
        },
        {
          "name": "stdout",
          "text": "{'epoch': 6, 'train_loss': 0.49167148664593696, 'eval_loss': 0.918078784942627, 'train_ap_score': 0.9044558485327443, 'eval_ap_score': 0.8030325549066237, 'lr': 0.001}\n",
          "output_type": "stream"
        },
        {
          "name": "stderr",
          "text": "100%|██████████| 200/200 [00:17<00:00, 11.12it/s]\n",
          "output_type": "stream"
        },
        {
          "name": "stdout",
          "text": "{'epoch': 7, 'train_loss': 0.3844680380821228, 'eval_loss': 1.003588354587555, 'train_ap_score': 0.9365891657149614, 'eval_ap_score': 0.7853676160722025, 'lr': 0.001}\n",
          "output_type": "stream"
        },
        {
          "name": "stderr",
          "text": "100%|██████████| 200/200 [00:18<00:00, 11.09it/s]\n",
          "output_type": "stream"
        },
        {
          "name": "stdout",
          "text": "{'epoch': 8, 'train_loss': 0.2988973422348499, 'eval_loss': 1.105011637210846, 'train_ap_score': 0.9581311000860134, 'eval_ap_score': 0.7764420046766584, 'lr': 0.001}\n",
          "output_type": "stream"
        },
        {
          "name": "stderr",
          "text": "100%|██████████| 200/200 [00:17<00:00, 11.18it/s]\n",
          "output_type": "stream"
        },
        {
          "name": "stdout",
          "text": "{'epoch': 9, 'train_loss': 0.10284862672910094, 'eval_loss': 0.9142468535900116, 'train_ap_score': 0.9946771298268609, 'eval_ap_score': 0.8380666780526237, 'lr': 0.0001}\n",
          "output_type": "stream"
        },
        {
          "name": "stderr",
          "text": "100%|██████████| 200/200 [00:17<00:00, 11.13it/s]\n",
          "output_type": "stream"
        },
        {
          "name": "stdout",
          "text": "{'epoch': 10, 'train_loss': 0.04594468886498362, 'eval_loss': 1.0205772376060487, 'train_ap_score': 0.9988680691589081, 'eval_ap_score': 0.836118871724076, 'lr': 0.0001}\n",
          "output_type": "stream"
        },
        {
          "name": "stderr",
          "text": "100%|██████████| 200/200 [00:17<00:00, 11.14it/s]\n",
          "output_type": "stream"
        },
        {
          "name": "stdout",
          "text": "{'epoch': 11, 'train_loss': 0.023413754124194382, 'eval_loss': 1.1721367645263672, 'train_ap_score': 0.9997039542171748, 'eval_ap_score': 0.8325705590078037, 'lr': 0.0001}\n",
          "output_type": "stream"
        },
        {
          "name": "stderr",
          "text": "100%|██████████| 200/200 [00:17<00:00, 11.19it/s]\n",
          "output_type": "stream"
        },
        {
          "name": "stdout",
          "text": "{'epoch': 12, 'train_loss': 0.011166142123984172, 'eval_loss': 1.2810847783088684, 'train_ap_score': 0.9999511233306434, 'eval_ap_score': 0.831789718379682, 'lr': 0.0001}\n",
          "output_type": "stream"
        },
        {
          "name": "stderr",
          "text": "100%|██████████| 200/200 [00:17<00:00, 11.16it/s]\n",
          "output_type": "stream"
        },
        {
          "name": "stdout",
          "text": "{'epoch': 13, 'train_loss': 0.005846456955769099, 'eval_loss': 1.2968518662452697, 'train_ap_score': 0.9999844723004415, 'eval_ap_score': 0.8326394069582325, 'lr': 1e-05}\n",
          "output_type": "stream"
        },
        {
          "name": "stderr",
          "text": "100%|██████████| 200/200 [00:17<00:00, 11.13it/s]\n",
          "output_type": "stream"
        },
        {
          "name": "stdout",
          "text": "{'epoch': 14, 'train_loss': 0.004578634417848662, 'eval_loss': 1.3168858814239501, 'train_ap_score': 0.9999962019986162, 'eval_ap_score': 0.8321741930811208, 'lr': 1e-05}\n",
          "output_type": "stream"
        },
        {
          "name": "stderr",
          "text": "100%|██████████| 200/200 [00:17<00:00, 11.15it/s]\n",
          "output_type": "stream"
        },
        {
          "name": "stdout",
          "text": "{'epoch': 15, 'train_loss': 0.003912291119922884, 'eval_loss': 1.3492589330673217, 'train_ap_score': 0.9999957852957145, 'eval_ap_score': 0.8315614882651255, 'lr': 1e-05}\n",
          "output_type": "stream"
        },
        {
          "name": "stderr",
          "text": "100%|██████████| 200/200 [00:18<00:00, 11.07it/s]\n",
          "output_type": "stream"
        },
        {
          "name": "stdout",
          "text": "{'epoch': 16, 'train_loss': 0.0033260742359561848, 'eval_loss': 1.3630457496643067, 'train_ap_score': 0.9999979156804407, 'eval_ap_score': 0.8315644884620312, 'lr': 1e-05}\n",
          "output_type": "stream"
        },
        {
          "name": "stderr",
          "text": "100%|██████████| 200/200 [00:18<00:00, 11.05it/s]\n",
          "output_type": "stream"
        },
        {
          "name": "stdout",
          "text": "{'epoch': 17, 'train_loss': 0.002960772618826013, 'eval_loss': 1.379142165184021, 'train_ap_score': 0.999999511065327, 'eval_ap_score': 0.8310922331120943, 'lr': 1.0000000000000002e-06}\n",
          "output_type": "stream"
        },
        {
          "name": "stderr",
          "text": "100%|██████████| 200/200 [00:17<00:00, 11.16it/s]\n",
          "output_type": "stream"
        },
        {
          "name": "stdout",
          "text": "{'epoch': 18, 'train_loss': 0.002737664555606898, 'eval_loss': 1.3617343735694885, 'train_ap_score': 0.9999992481001063, 'eval_ap_score': 0.8315443616547584, 'lr': 1.0000000000000002e-06}\n",
          "output_type": "stream"
        },
        {
          "name": "stderr",
          "text": "100%|██████████| 200/200 [00:18<00:00, 11.07it/s]\n",
          "output_type": "stream"
        },
        {
          "name": "stdout",
          "text": "{'epoch': 19, 'train_loss': 0.002418345974001568, 'eval_loss': 1.3594416773319244, 'train_ap_score': 0.9999997243493169, 'eval_ap_score': 0.831386162063658, 'lr': 1.0000000000000002e-06}\n",
          "output_type": "stream"
        },
        {
          "name": "stderr",
          "text": "100%|██████████| 200/200 [00:18<00:00, 11.10it/s]\n",
          "output_type": "stream"
        },
        {
          "name": "stdout",
          "text": "{'epoch': 20, 'train_loss': 0.0025227869546506554, 'eval_loss': 1.3733223700523376, 'train_ap_score': 0.9999996244215925, 'eval_ap_score': 0.8317023198555633, 'lr': 1.0000000000000002e-06}\n",
          "output_type": "stream"
        },
        {
          "name": "stderr",
          "text": "100%|██████████| 200/200 [00:17<00:00, 11.15it/s]\n",
          "output_type": "stream"
        },
        {
          "name": "stdout",
          "text": "{'epoch': 21, 'train_loss': 0.002516582511307206, 'eval_loss': 1.3812946772575379, 'train_ap_score': 0.9999992165406436, 'eval_ap_score': 0.8310578650986823, 'lr': 1.0000000000000002e-07}\n",
          "output_type": "stream"
        },
        {
          "name": "stderr",
          "text": "100%|██████████| 200/200 [00:18<00:00, 11.10it/s]\n",
          "output_type": "stream"
        },
        {
          "name": "stdout",
          "text": "{'epoch': 22, 'train_loss': 0.002403411283594323, 'eval_loss': 1.3801930356025696, 'train_ap_score': 0.9999994875835512, 'eval_ap_score': 0.8317134616345712, 'lr': 1.0000000000000002e-07}\n",
          "output_type": "stream"
        },
        {
          "name": "stderr",
          "text": "100%|██████████| 200/200 [00:18<00:00, 11.09it/s]\n",
          "output_type": "stream"
        },
        {
          "name": "stdout",
          "text": "{'epoch': 23, 'train_loss': 0.0023343584983376788, 'eval_loss': 1.368983588218689, 'train_ap_score': 0.999999818224361, 'eval_ap_score': 0.8316239438071611, 'lr': 1.0000000000000002e-07}\n",
          "output_type": "stream"
        },
        {
          "name": "stderr",
          "text": "100%|██████████| 200/200 [00:17<00:00, 11.17it/s]\n",
          "output_type": "stream"
        },
        {
          "name": "stdout",
          "text": "{'epoch': 24, 'train_loss': 0.002466320886160247, 'eval_loss': 1.3872043442726136, 'train_ap_score': 0.9999996872682818, 'eval_ap_score': 0.8315227109930884, 'lr': 1.0000000000000002e-07}\n",
          "output_type": "stream"
        },
        {
          "name": "stderr",
          "text": "100%|██████████| 200/200 [00:18<00:00, 11.07it/s]\n",
          "output_type": "stream"
        },
        {
          "name": "stdout",
          "text": "{'epoch': 25, 'train_loss': 0.0024292130619869567, 'eval_loss': 1.381235544681549, 'train_ap_score': 0.9999994562443797, 'eval_ap_score': 0.8312145387032462, 'lr': 1.0000000000000004e-08}\n",
          "output_type": "stream"
        },
        {
          "output_type": "display_data",
          "data": {
            "text/plain": "<IPython.core.display.HTML object>",
            "text/html": "Waiting for W&B process to finish... <strong style=\"color:green\">(success).</strong>"
          },
          "metadata": {}
        },
        {
          "output_type": "display_data",
          "data": {
            "text/plain": "<IPython.core.display.HTML object>",
            "text/html": "<style>\n    table.wandb td:nth-child(1) { padding: 0 10px; text-align: left ; width: auto;} td:nth-child(2) {text-align: left ; width: 100%}\n    .wandb-row { display: flex; flex-direction: row; flex-wrap: wrap; justify-content: flex-start; width: 100% }\n    .wandb-col { display: flex; flex-direction: column; flex-basis: 100%; flex: 1; padding: 10px; }\n    </style>\n<div class=\"wandb-row\"><div class=\"wandb-col\"><h3>Run history:</h3><br/><table class=\"wandb\"><tr><td>epoch</td><td>▁▁▂▂▂▂▃▃▃▄▄▄▅▅▅▅▆▆▆▇▇▇▇██</td></tr><tr><td>eval_ap_score</td><td>▁▃▅▆▆▇▇▆█████████████████</td></tr><tr><td>eval_loss</td><td>▇▆▃▁▁▁▂▄▁▃▅▆▇▇▇██████████</td></tr><tr><td>lr</td><td>████████▂▂▂▂▁▁▁▁▁▁▁▁▁▁▁▁▁</td></tr><tr><td>train_ap_score</td><td>▁▄▅▆▆▇▇▇█████████████████</td></tr><tr><td>train_loss</td><td>█▆▅▄▄▃▃▂▁▁▁▁▁▁▁▁▁▁▁▁▁▁▁▁▁</td></tr></table><br/></div><div class=\"wandb-col\"><h3>Run summary:</h3><br/><table class=\"wandb\"><tr><td>epoch</td><td>25</td></tr><tr><td>eval_ap_score</td><td>0.83121</td></tr><tr><td>eval_loss</td><td>1.38124</td></tr><tr><td>lr</td><td>0.0</td></tr><tr><td>train_ap_score</td><td>1.0</td></tr><tr><td>train_loss</td><td>0.00243</td></tr></table><br/></div></div>"
          },
          "metadata": {}
        },
        {
          "output_type": "display_data",
          "data": {
            "text/plain": "<IPython.core.display.HTML object>",
            "text/html": " View run <strong style=\"color:#cdcd00\">silvery-sweep-9</strong> at: <a href='https://wandb.ai/vanshg/wandb_demo/runs/8eit0945' target=\"_blank\">https://wandb.ai/vanshg/wandb_demo/runs/8eit0945</a><br/>Synced 6 W&B file(s), 0 media file(s), 0 artifact file(s) and 0 other file(s)"
          },
          "metadata": {}
        },
        {
          "output_type": "display_data",
          "data": {
            "text/plain": "<IPython.core.display.HTML object>",
            "text/html": "Find logs at: <code>./wandb/run-20230527_100439-8eit0945/logs</code>"
          },
          "metadata": {}
        },
        {
          "name": "stderr",
          "text": "\u001b[34m\u001b[1mwandb\u001b[0m: Sweep Agent: Waiting for job.\n\u001b[34m\u001b[1mwandb\u001b[0m: Job received.\n\u001b[34m\u001b[1mwandb\u001b[0m: Agent Starting Run: ooqkpxx3 with config:\n\u001b[34m\u001b[1mwandb\u001b[0m: \tcriterion: ce\n\u001b[34m\u001b[1mwandb\u001b[0m: \tgpu_id: 0\n\u001b[34m\u001b[1mwandb\u001b[0m: \tlr: 0.001\n\u001b[34m\u001b[1mwandb\u001b[0m: \tmodel_type: pretrained\n\u001b[34m\u001b[1mwandb\u001b[0m: \tnum_epochs: 25\n\u001b[34m\u001b[1mwandb\u001b[0m: \toptimizer: adam\n\u001b[34m\u001b[1mwandb\u001b[0m: \tscheduler_patience: 3\n\u001b[34m\u001b[1mwandb\u001b[0m: \tscheduler_thresh: 0.01\n",
          "output_type": "stream"
        },
        {
          "output_type": "display_data",
          "data": {
            "text/plain": "<IPython.core.display.HTML object>",
            "text/html": "Tracking run with wandb version 0.15.3"
          },
          "metadata": {}
        },
        {
          "output_type": "display_data",
          "data": {
            "text/plain": "<IPython.core.display.HTML object>",
            "text/html": "Run data is saved locally in <code>/kaggle/working/wandb/run-20230527_101426-ooqkpxx3</code>"
          },
          "metadata": {}
        },
        {
          "output_type": "display_data",
          "data": {
            "text/plain": "<IPython.core.display.HTML object>",
            "text/html": "Syncing run <strong><a href='https://wandb.ai/vanshg/wandb_demo/runs/ooqkpxx3' target=\"_blank\">young-sweep-10</a></strong> to <a href='https://wandb.ai/vanshg/wandb_demo' target=\"_blank\">Weights & Biases</a> (<a href='https://wandb.me/run' target=\"_blank\">docs</a>)<br/>Sweep page: <a href='https://wandb.ai/vanshg/wandb_demo/sweeps/xmxmiut3' target=\"_blank\">https://wandb.ai/vanshg/wandb_demo/sweeps/xmxmiut3</a>"
          },
          "metadata": {}
        },
        {
          "output_type": "display_data",
          "data": {
            "text/plain": "<IPython.core.display.HTML object>",
            "text/html": " View project at <a href='https://wandb.ai/vanshg/wandb_demo' target=\"_blank\">https://wandb.ai/vanshg/wandb_demo</a>"
          },
          "metadata": {}
        },
        {
          "output_type": "display_data",
          "data": {
            "text/plain": "<IPython.core.display.HTML object>",
            "text/html": " View sweep at <a href='https://wandb.ai/vanshg/wandb_demo/sweeps/xmxmiut3' target=\"_blank\">https://wandb.ai/vanshg/wandb_demo/sweeps/xmxmiut3</a>"
          },
          "metadata": {}
        },
        {
          "output_type": "display_data",
          "data": {
            "text/plain": "<IPython.core.display.HTML object>",
            "text/html": " View run at <a href='https://wandb.ai/vanshg/wandb_demo/runs/ooqkpxx3' target=\"_blank\">https://wandb.ai/vanshg/wandb_demo/runs/ooqkpxx3</a>"
          },
          "metadata": {}
        },
        {
          "name": "stderr",
          "text": "/opt/conda/lib/python3.10/site-packages/torchvision/models/_utils.py:208: UserWarning: The parameter 'pretrained' is deprecated since 0.13 and may be removed in the future, please use 'weights' instead.\n  warnings.warn(\n/opt/conda/lib/python3.10/site-packages/torchvision/models/_utils.py:223: UserWarning: Arguments other than a weight enum or `None` for 'weights' are deprecated since 0.13 and may be removed in the future. The current behavior is equivalent to passing `weights=ResNet18_Weights.IMAGENET1K_V1`. You can also use `weights=ResNet18_Weights.DEFAULT` to get the most up-to-date weights.\n  warnings.warn(msg)\n100%|██████████| 200/200 [00:19<00:00, 10.36it/s]\n",
          "output_type": "stream"
        },
        {
          "name": "stdout",
          "text": "{'epoch': 1, 'train_loss': 0.8985607028007507, 'eval_loss': 0.6777799654006958, 'train_ap_score': 0.7678125149502433, 'eval_ap_score': 0.8498222061225243, 'lr': 0.001}\n",
          "output_type": "stream"
        },
        {
          "name": "stderr",
          "text": "100%|██████████| 200/200 [00:18<00:00, 11.04it/s]\n",
          "output_type": "stream"
        },
        {
          "name": "stdout",
          "text": "{'epoch': 2, 'train_loss': 0.5569278767704964, 'eval_loss': 0.6768890208005905, 'train_ap_score': 0.8867802854372183, 'eval_ap_score': 0.8665156687926711, 'lr': 0.001}\n",
          "output_type": "stream"
        },
        {
          "name": "stderr",
          "text": "100%|██████████| 200/200 [00:18<00:00, 11.02it/s]\n",
          "output_type": "stream"
        },
        {
          "name": "stdout",
          "text": "{'epoch': 3, 'train_loss': 0.42024497874081135, 'eval_loss': 0.663996422290802, 'train_ap_score': 0.9274872896297988, 'eval_ap_score': 0.8733015963308601, 'lr': 0.001}\n",
          "output_type": "stream"
        },
        {
          "name": "stderr",
          "text": "100%|██████████| 200/200 [00:18<00:00, 11.10it/s]\n",
          "output_type": "stream"
        },
        {
          "name": "stdout",
          "text": "{'epoch': 4, 'train_loss': 0.3128621506690979, 'eval_loss': 0.5979796534776688, 'train_ap_score': 0.955622825508007, 'eval_ap_score': 0.8908417110293844, 'lr': 0.001}\n",
          "output_type": "stream"
        },
        {
          "name": "stderr",
          "text": "100%|██████████| 200/200 [00:18<00:00, 11.11it/s]\n",
          "output_type": "stream"
        },
        {
          "name": "stdout",
          "text": "{'epoch': 5, 'train_loss': 0.24726899791508913, 'eval_loss': 0.7163134992122651, 'train_ap_score': 0.9704280137503103, 'eval_ap_score': 0.8829141680177169, 'lr': 0.001}\n",
          "output_type": "stream"
        },
        {
          "name": "stderr",
          "text": "100%|██████████| 200/200 [00:18<00:00, 10.97it/s]\n",
          "output_type": "stream"
        },
        {
          "name": "stdout",
          "text": "{'epoch': 6, 'train_loss': 0.1961452160961926, 'eval_loss': 0.6540201777219772, 'train_ap_score': 0.980209501439463, 'eval_ap_score': 0.8872403034082446, 'lr': 0.001}\n",
          "output_type": "stream"
        },
        {
          "name": "stderr",
          "text": "100%|██████████| 200/200 [00:18<00:00, 11.00it/s]\n",
          "output_type": "stream"
        },
        {
          "name": "stdout",
          "text": "{'epoch': 7, 'train_loss': 0.15522919081151484, 'eval_loss': 0.7067418950796127, 'train_ap_score': 0.9867371230088736, 'eval_ap_score': 0.8844187896954511, 'lr': 0.001}\n",
          "output_type": "stream"
        },
        {
          "name": "stderr",
          "text": "100%|██████████| 200/200 [00:18<00:00, 11.07it/s]\n",
          "output_type": "stream"
        },
        {
          "name": "stdout",
          "text": "{'epoch': 8, 'train_loss': 0.13179384019225837, 'eval_loss': 0.7681114041805267, 'train_ap_score': 0.9902516895202854, 'eval_ap_score': 0.8795437070229821, 'lr': 0.001}\n",
          "output_type": "stream"
        },
        {
          "name": "stderr",
          "text": "100%|██████████| 200/200 [00:18<00:00, 11.01it/s]\n",
          "output_type": "stream"
        },
        {
          "name": "stdout",
          "text": "{'epoch': 9, 'train_loss': 0.05328713722992688, 'eval_loss': 0.6958442103862762, 'train_ap_score': 0.9982670325615445, 'eval_ap_score': 0.9079176168551456, 'lr': 0.0001}\n",
          "output_type": "stream"
        },
        {
          "name": "stderr",
          "text": "100%|██████████| 200/200 [00:18<00:00, 11.02it/s]\n",
          "output_type": "stream"
        },
        {
          "name": "stdout",
          "text": "{'epoch': 10, 'train_loss': 0.01267793752020225, 'eval_loss': 0.8927916312217712, 'train_ap_score': 0.9998494679283848, 'eval_ap_score': 0.906772105547826, 'lr': 0.0001}\n",
          "output_type": "stream"
        },
        {
          "name": "stderr",
          "text": "100%|██████████| 200/200 [00:18<00:00, 11.06it/s]\n",
          "output_type": "stream"
        },
        {
          "name": "stdout",
          "text": "{'epoch': 11, 'train_loss': 0.006013992529333336, 'eval_loss': 0.9475591576099396, 'train_ap_score': 0.9999670729846194, 'eval_ap_score': 0.9068094972038905, 'lr': 0.0001}\n",
          "output_type": "stream"
        },
        {
          "name": "stderr",
          "text": "100%|██████████| 200/200 [00:18<00:00, 11.02it/s]\n",
          "output_type": "stream"
        },
        {
          "name": "stdout",
          "text": "{'epoch': 12, 'train_loss': 0.004388875496515538, 'eval_loss': 0.9707172930240631, 'train_ap_score': 0.9999851837741753, 'eval_ap_score': 0.9074587171825854, 'lr': 0.0001}\n",
          "output_type": "stream"
        },
        {
          "name": "stderr",
          "text": "100%|██████████| 200/200 [00:18<00:00, 10.97it/s]\n",
          "output_type": "stream"
        },
        {
          "name": "stdout",
          "text": "{'epoch': 13, 'train_loss': 0.0033662288004416042, 'eval_loss': 0.974931401014328, 'train_ap_score': 0.9999926203782141, 'eval_ap_score': 0.9075560761054003, 'lr': 1e-05}\n",
          "output_type": "stream"
        },
        {
          "name": "stderr",
          "text": "100%|██████████| 200/200 [00:18<00:00, 11.07it/s]\n",
          "output_type": "stream"
        },
        {
          "name": "stdout",
          "text": "{'epoch': 14, 'train_loss': 0.0027263253978890133, 'eval_loss': 0.9800678092241287, 'train_ap_score': 0.9999962450913579, 'eval_ap_score': 0.9073446729418893, 'lr': 1e-05}\n",
          "output_type": "stream"
        },
        {
          "name": "stderr",
          "text": "100%|██████████| 200/200 [00:18<00:00, 11.01it/s]\n",
          "output_type": "stream"
        },
        {
          "name": "stdout",
          "text": "{'epoch': 15, 'train_loss': 0.0028476617360138332, 'eval_loss': 0.978427209854126, 'train_ap_score': 0.9999940148094989, 'eval_ap_score': 0.9075210447550651, 'lr': 1e-05}\n",
          "output_type": "stream"
        },
        {
          "name": "stderr",
          "text": "100%|██████████| 200/200 [00:18<00:00, 10.99it/s]\n",
          "output_type": "stream"
        },
        {
          "name": "stdout",
          "text": "{'epoch': 16, 'train_loss': 0.002237161480734358, 'eval_loss': 0.9807942312955856, 'train_ap_score': 0.9999959315390852, 'eval_ap_score': 0.907890642766426, 'lr': 1e-05}\n",
          "output_type": "stream"
        },
        {
          "name": "stderr",
          "text": "100%|██████████| 200/200 [00:18<00:00, 11.08it/s]\n",
          "output_type": "stream"
        },
        {
          "name": "stdout",
          "text": "{'epoch': 17, 'train_loss': 0.002536178930095048, 'eval_loss': 0.9847867447137832, 'train_ap_score': 0.9999947072184854, 'eval_ap_score': 0.9075276400702178, 'lr': 1.0000000000000002e-06}\n",
          "output_type": "stream"
        },
        {
          "name": "stderr",
          "text": "100%|██████████| 200/200 [00:18<00:00, 11.01it/s]\n",
          "output_type": "stream"
        },
        {
          "name": "stdout",
          "text": "{'epoch': 18, 'train_loss': 0.002091471901003388, 'eval_loss': 0.9828180664777756, 'train_ap_score': 0.9999983982636538, 'eval_ap_score': 0.9074352119814911, 'lr': 1.0000000000000002e-06}\n",
          "output_type": "stream"
        },
        {
          "name": "stderr",
          "text": "100%|██████████| 200/200 [00:18<00:00, 11.04it/s]\n",
          "output_type": "stream"
        },
        {
          "name": "stdout",
          "text": "{'epoch': 19, 'train_loss': 0.002387088729519746, 'eval_loss': 0.9895510917901993, 'train_ap_score': 0.9999974552004763, 'eval_ap_score': 0.9073261210920063, 'lr': 1.0000000000000002e-06}\n",
          "output_type": "stream"
        },
        {
          "name": "stderr",
          "text": "100%|██████████| 200/200 [00:17<00:00, 11.12it/s]\n",
          "output_type": "stream"
        },
        {
          "name": "stdout",
          "text": "{'epoch': 20, 'train_loss': 0.0018714297228871147, 'eval_loss': 0.9819184130430222, 'train_ap_score': 0.999998930448668, 'eval_ap_score': 0.9076128466237415, 'lr': 1.0000000000000002e-06}\n",
          "output_type": "stream"
        },
        {
          "name": "stderr",
          "text": "100%|██████████| 200/200 [00:18<00:00, 11.07it/s]\n",
          "output_type": "stream"
        },
        {
          "name": "stdout",
          "text": "{'epoch': 21, 'train_loss': 0.0022653721261303873, 'eval_loss': 0.9739739698171616, 'train_ap_score': 0.9999977266104931, 'eval_ap_score': 0.9078185821676101, 'lr': 1.0000000000000002e-07}\n",
          "output_type": "stream"
        },
        {
          "name": "stderr",
          "text": "100%|██████████| 200/200 [00:18<00:00, 11.06it/s]\n",
          "output_type": "stream"
        },
        {
          "name": "stdout",
          "text": "{'epoch': 22, 'train_loss': 0.0020734754128352508, 'eval_loss': 0.983453688621521, 'train_ap_score': 0.9999979864637712, 'eval_ap_score': 0.9076633030515631, 'lr': 1.0000000000000002e-07}\n",
          "output_type": "stream"
        },
        {
          "name": "stderr",
          "text": "100%|██████████| 200/200 [00:17<00:00, 11.12it/s]\n",
          "output_type": "stream"
        },
        {
          "name": "stdout",
          "text": "{'epoch': 23, 'train_loss': 0.002020421328597877, 'eval_loss': 0.9904391676187515, 'train_ap_score': 0.99999738020582, 'eval_ap_score': 0.9074793240809642, 'lr': 1.0000000000000002e-07}\n",
          "output_type": "stream"
        },
        {
          "name": "stderr",
          "text": "100%|██████████| 200/200 [00:18<00:00, 11.05it/s]\n",
          "output_type": "stream"
        },
        {
          "name": "stdout",
          "text": "{'epoch': 24, 'train_loss': 0.001978448566660518, 'eval_loss': 0.9835556775331498, 'train_ap_score': 0.999998030843512, 'eval_ap_score': 0.9075236186024325, 'lr': 1.0000000000000002e-07}\n",
          "output_type": "stream"
        },
        {
          "name": "stderr",
          "text": "100%|██████████| 200/200 [00:18<00:00, 10.97it/s]\n",
          "output_type": "stream"
        },
        {
          "name": "stdout",
          "text": "{'epoch': 25, 'train_loss': 0.002110763027740177, 'eval_loss': 0.9870645189285279, 'train_ap_score': 0.9999956176654242, 'eval_ap_score': 0.9076100246852017, 'lr': 1.0000000000000004e-08}\n",
          "output_type": "stream"
        },
        {
          "output_type": "display_data",
          "data": {
            "text/plain": "<IPython.core.display.HTML object>",
            "text/html": "Waiting for W&B process to finish... <strong style=\"color:green\">(success).</strong>"
          },
          "metadata": {}
        },
        {
          "output_type": "display_data",
          "data": {
            "text/plain": "VBox(children=(Label(value='0.001 MB of 0.001 MB uploaded (0.000 MB deduped)\\r'), FloatProgress(value=1.0, max…",
            "application/vnd.jupyter.widget-view+json": {
              "version_major": 2,
              "version_minor": 0,
              "model_id": "e11835f73b23404184d9afaf19ba209d"
            }
          },
          "metadata": {}
        },
        {
          "output_type": "display_data",
          "data": {
            "text/plain": "<IPython.core.display.HTML object>",
            "text/html": "<style>\n    table.wandb td:nth-child(1) { padding: 0 10px; text-align: left ; width: auto;} td:nth-child(2) {text-align: left ; width: 100%}\n    .wandb-row { display: flex; flex-direction: row; flex-wrap: wrap; justify-content: flex-start; width: 100% }\n    .wandb-col { display: flex; flex-direction: column; flex-basis: 100%; flex: 1; padding: 10px; }\n    </style>\n<div class=\"wandb-row\"><div class=\"wandb-col\"><h3>Run history:</h3><br/><table class=\"wandb\"><tr><td>epoch</td><td>▁▁▂▂▂▂▃▃▃▄▄▄▅▅▅▅▆▆▆▇▇▇▇██</td></tr><tr><td>eval_ap_score</td><td>▁▃▄▆▅▆▅▅█████████████████</td></tr><tr><td>eval_loss</td><td>▂▂▂▁▃▂▃▄▃▆▇██████████████</td></tr><tr><td>lr</td><td>████████▂▂▂▂▁▁▁▁▁▁▁▁▁▁▁▁▁</td></tr><tr><td>train_ap_score</td><td>▁▅▆▇▇▇███████████████████</td></tr><tr><td>train_loss</td><td>█▅▄▃▃▃▂▂▁▁▁▁▁▁▁▁▁▁▁▁▁▁▁▁▁</td></tr></table><br/></div><div class=\"wandb-col\"><h3>Run summary:</h3><br/><table class=\"wandb\"><tr><td>epoch</td><td>25</td></tr><tr><td>eval_ap_score</td><td>0.90761</td></tr><tr><td>eval_loss</td><td>0.98706</td></tr><tr><td>lr</td><td>0.0</td></tr><tr><td>train_ap_score</td><td>1.0</td></tr><tr><td>train_loss</td><td>0.00211</td></tr></table><br/></div></div>"
          },
          "metadata": {}
        },
        {
          "output_type": "display_data",
          "data": {
            "text/plain": "<IPython.core.display.HTML object>",
            "text/html": " View run <strong style=\"color:#cdcd00\">young-sweep-10</strong> at: <a href='https://wandb.ai/vanshg/wandb_demo/runs/ooqkpxx3' target=\"_blank\">https://wandb.ai/vanshg/wandb_demo/runs/ooqkpxx3</a><br/>Synced 6 W&B file(s), 0 media file(s), 0 artifact file(s) and 0 other file(s)"
          },
          "metadata": {}
        },
        {
          "output_type": "display_data",
          "data": {
            "text/plain": "<IPython.core.display.HTML object>",
            "text/html": "Find logs at: <code>./wandb/run-20230527_101426-ooqkpxx3/logs</code>"
          },
          "metadata": {}
        },
        {
          "name": "stderr",
          "text": "\u001b[34m\u001b[1mwandb\u001b[0m: Agent Starting Run: e2i88iuo with config:\n\u001b[34m\u001b[1mwandb\u001b[0m: \tcriterion: ce\n\u001b[34m\u001b[1mwandb\u001b[0m: \tgpu_id: 0\n\u001b[34m\u001b[1mwandb\u001b[0m: \tlr: 0.001\n\u001b[34m\u001b[1mwandb\u001b[0m: \tmodel_type: pretrained\n\u001b[34m\u001b[1mwandb\u001b[0m: \tnum_epochs: 25\n\u001b[34m\u001b[1mwandb\u001b[0m: \toptimizer: SGD\n\u001b[34m\u001b[1mwandb\u001b[0m: \tscheduler_patience: 3\n\u001b[34m\u001b[1mwandb\u001b[0m: \tscheduler_thresh: 0.01\n",
          "output_type": "stream"
        },
        {
          "output_type": "display_data",
          "data": {
            "text/plain": "<IPython.core.display.HTML object>",
            "text/html": "Tracking run with wandb version 0.15.3"
          },
          "metadata": {}
        },
        {
          "output_type": "display_data",
          "data": {
            "text/plain": "<IPython.core.display.HTML object>",
            "text/html": "Run data is saved locally in <code>/kaggle/working/wandb/run-20230527_102407-e2i88iuo</code>"
          },
          "metadata": {}
        },
        {
          "output_type": "display_data",
          "data": {
            "text/plain": "<IPython.core.display.HTML object>",
            "text/html": "Syncing run <strong><a href='https://wandb.ai/vanshg/wandb_demo/runs/e2i88iuo' target=\"_blank\">hopeful-sweep-11</a></strong> to <a href='https://wandb.ai/vanshg/wandb_demo' target=\"_blank\">Weights & Biases</a> (<a href='https://wandb.me/run' target=\"_blank\">docs</a>)<br/>Sweep page: <a href='https://wandb.ai/vanshg/wandb_demo/sweeps/xmxmiut3' target=\"_blank\">https://wandb.ai/vanshg/wandb_demo/sweeps/xmxmiut3</a>"
          },
          "metadata": {}
        },
        {
          "output_type": "display_data",
          "data": {
            "text/plain": "<IPython.core.display.HTML object>",
            "text/html": " View project at <a href='https://wandb.ai/vanshg/wandb_demo' target=\"_blank\">https://wandb.ai/vanshg/wandb_demo</a>"
          },
          "metadata": {}
        },
        {
          "output_type": "display_data",
          "data": {
            "text/plain": "<IPython.core.display.HTML object>",
            "text/html": " View sweep at <a href='https://wandb.ai/vanshg/wandb_demo/sweeps/xmxmiut3' target=\"_blank\">https://wandb.ai/vanshg/wandb_demo/sweeps/xmxmiut3</a>"
          },
          "metadata": {}
        },
        {
          "output_type": "display_data",
          "data": {
            "text/plain": "<IPython.core.display.HTML object>",
            "text/html": " View run at <a href='https://wandb.ai/vanshg/wandb_demo/runs/e2i88iuo' target=\"_blank\">https://wandb.ai/vanshg/wandb_demo/runs/e2i88iuo</a>"
          },
          "metadata": {}
        },
        {
          "name": "stderr",
          "text": "/opt/conda/lib/python3.10/site-packages/torchvision/models/_utils.py:208: UserWarning: The parameter 'pretrained' is deprecated since 0.13 and may be removed in the future, please use 'weights' instead.\n  warnings.warn(\n/opt/conda/lib/python3.10/site-packages/torchvision/models/_utils.py:223: UserWarning: Arguments other than a weight enum or `None` for 'weights' are deprecated since 0.13 and may be removed in the future. The current behavior is equivalent to passing `weights=ResNet18_Weights.IMAGENET1K_V1`. You can also use `weights=ResNet18_Weights.DEFAULT` to get the most up-to-date weights.\n  warnings.warn(msg)\n100%|██████████| 200/200 [00:19<00:00, 10.26it/s]\n",
          "output_type": "stream"
        },
        {
          "name": "stdout",
          "text": "{'epoch': 1, 'train_loss': 2.0171574181318284, 'eval_loss': 1.7459359192848205, 'train_ap_score': 0.2713789336995114, 'eval_ap_score': 0.3893900248676571, 'lr': 0.001}\n",
          "output_type": "stream"
        },
        {
          "name": "stderr",
          "text": "100%|██████████| 200/200 [00:17<00:00, 11.23it/s]\n",
          "output_type": "stream"
        },
        {
          "name": "stdout",
          "text": "{'epoch': 2, 'train_loss': 1.5655504888296128, 'eval_loss': 1.4778826022148133, 'train_ap_score': 0.47086898184189047, 'eval_ap_score': 0.5028231549774335, 'lr': 0.001}\n",
          "output_type": "stream"
        },
        {
          "name": "stderr",
          "text": "100%|██████████| 200/200 [00:17<00:00, 11.29it/s]\n",
          "output_type": "stream"
        },
        {
          "name": "stdout",
          "text": "{'epoch': 3, 'train_loss': 1.3498104190826417, 'eval_loss': 1.333069474697113, 'train_ap_score': 0.5639813991423301, 'eval_ap_score': 0.5647191502550698, 'lr': 0.001}\n",
          "output_type": "stream"
        },
        {
          "name": "stderr",
          "text": "100%|██████████| 200/200 [00:17<00:00, 11.22it/s]\n",
          "output_type": "stream"
        },
        {
          "name": "stdout",
          "text": "{'epoch': 4, 'train_loss': 1.2150200080871583, 'eval_loss': 1.2381164813041687, 'train_ap_score': 0.6231688746972722, 'eval_ap_score': 0.6081857025101721, 'lr': 0.001}\n",
          "output_type": "stream"
        },
        {
          "name": "stderr",
          "text": "100%|██████████| 200/200 [00:17<00:00, 11.28it/s]\n",
          "output_type": "stream"
        },
        {
          "name": "stdout",
          "text": "{'epoch': 5, 'train_loss': 1.120548098385334, 'eval_loss': 1.1662299299240113, 'train_ap_score': 0.6645664121317238, 'eval_ap_score': 0.6417844896657771, 'lr': 0.001}\n",
          "output_type": "stream"
        },
        {
          "name": "stderr",
          "text": "100%|██████████| 200/200 [00:17<00:00, 11.28it/s]\n",
          "output_type": "stream"
        },
        {
          "name": "stdout",
          "text": "{'epoch': 6, 'train_loss': 1.050158599317074, 'eval_loss': 1.1126199734210969, 'train_ap_score': 0.696756991587109, 'eval_ap_score': 0.666658428387431, 'lr': 0.001}\n",
          "output_type": "stream"
        },
        {
          "name": "stderr",
          "text": "100%|██████████| 200/200 [00:17<00:00, 11.22it/s]\n",
          "output_type": "stream"
        },
        {
          "name": "stdout",
          "text": "{'epoch': 7, 'train_loss': 0.9871942788362503, 'eval_loss': 1.069914495944977, 'train_ap_score': 0.723757595437914, 'eval_ap_score': 0.6864117653206833, 'lr': 0.001}\n",
          "output_type": "stream"
        },
        {
          "name": "stderr",
          "text": "100%|██████████| 200/200 [00:17<00:00, 11.29it/s]\n",
          "output_type": "stream"
        },
        {
          "name": "stdout",
          "text": "{'epoch': 8, 'train_loss': 0.9355772912502289, 'eval_loss': 1.0367812383174897, 'train_ap_score': 0.7463598752700115, 'eval_ap_score': 0.7007243196674549, 'lr': 0.001}\n",
          "output_type": "stream"
        },
        {
          "name": "stderr",
          "text": "100%|██████████| 200/200 [00:17<00:00, 11.30it/s]\n",
          "output_type": "stream"
        },
        {
          "name": "stdout",
          "text": "{'epoch': 9, 'train_loss': 0.8907742449641227, 'eval_loss': 1.0083734095096588, 'train_ap_score': 0.7653762786721819, 'eval_ap_score': 0.7143181276727454, 'lr': 0.001}\n",
          "output_type": "stream"
        },
        {
          "name": "stderr",
          "text": "100%|██████████| 200/200 [00:17<00:00, 11.20it/s]\n",
          "output_type": "stream"
        },
        {
          "name": "stdout",
          "text": "{'epoch': 10, 'train_loss': 0.8497911760210991, 'eval_loss': 0.9841117060184479, 'train_ap_score': 0.781625447069332, 'eval_ap_score': 0.7251481161552562, 'lr': 0.001}\n",
          "output_type": "stream"
        },
        {
          "name": "stderr",
          "text": "100%|██████████| 200/200 [00:17<00:00, 11.33it/s]\n",
          "output_type": "stream"
        },
        {
          "name": "stdout",
          "text": "{'epoch': 11, 'train_loss': 0.8171918785572052, 'eval_loss': 0.9639190113544465, 'train_ap_score': 0.7943105970764182, 'eval_ap_score': 0.7338012372449889, 'lr': 0.001}\n",
          "output_type": "stream"
        },
        {
          "name": "stderr",
          "text": "100%|██████████| 200/200 [00:17<00:00, 11.30it/s]\n",
          "output_type": "stream"
        },
        {
          "name": "stdout",
          "text": "{'epoch': 12, 'train_loss': 0.7829822278022767, 'eval_loss': 0.9449684810638428, 'train_ap_score': 0.8087744467547211, 'eval_ap_score': 0.7421774211969179, 'lr': 0.001}\n",
          "output_type": "stream"
        },
        {
          "name": "stderr",
          "text": "100%|██████████| 200/200 [00:17<00:00, 11.27it/s]\n",
          "output_type": "stream"
        },
        {
          "name": "stdout",
          "text": "{'epoch': 13, 'train_loss': 0.7527889907360077, 'eval_loss': 0.9299885773658753, 'train_ap_score': 0.8202378162881423, 'eval_ap_score': 0.7488422779690034, 'lr': 0.001}\n",
          "output_type": "stream"
        },
        {
          "name": "stderr",
          "text": "100%|██████████| 200/200 [00:17<00:00, 11.25it/s]\n",
          "output_type": "stream"
        },
        {
          "name": "stdout",
          "text": "{'epoch': 14, 'train_loss': 0.7263585251569747, 'eval_loss': 0.916876140832901, 'train_ap_score': 0.8308581452278538, 'eval_ap_score': 0.75461489613163, 'lr': 0.001}\n",
          "output_type": "stream"
        },
        {
          "name": "stderr",
          "text": "100%|██████████| 200/200 [00:17<00:00, 11.25it/s]\n",
          "output_type": "stream"
        },
        {
          "name": "stdout",
          "text": "{'epoch': 15, 'train_loss': 0.7020133197307586, 'eval_loss': 0.9075518226623536, 'train_ap_score': 0.8401501550127317, 'eval_ap_score': 0.7592699282496237, 'lr': 0.001}\n",
          "output_type": "stream"
        },
        {
          "name": "stderr",
          "text": "100%|██████████| 200/200 [00:17<00:00, 11.24it/s]\n",
          "output_type": "stream"
        },
        {
          "name": "stdout",
          "text": "{'epoch': 16, 'train_loss': 0.6798807327449322, 'eval_loss': 0.8965288519859314, 'train_ap_score': 0.8484969735032442, 'eval_ap_score': 0.7644215369613756, 'lr': 0.001}\n",
          "output_type": "stream"
        },
        {
          "name": "stderr",
          "text": "100%|██████████| 200/200 [00:17<00:00, 11.26it/s]\n",
          "output_type": "stream"
        },
        {
          "name": "stdout",
          "text": "{'epoch': 17, 'train_loss': 0.6554090800881386, 'eval_loss': 0.8886532974243164, 'train_ap_score': 0.8572782195052602, 'eval_ap_score': 0.7680067052239813, 'lr': 0.001}\n",
          "output_type": "stream"
        },
        {
          "name": "stderr",
          "text": "100%|██████████| 200/200 [00:17<00:00, 11.28it/s]\n",
          "output_type": "stream"
        },
        {
          "name": "stdout",
          "text": "{'epoch': 18, 'train_loss': 0.6296219392120839, 'eval_loss': 0.8799684500694275, 'train_ap_score': 0.86615568475091, 'eval_ap_score': 0.7720687796571651, 'lr': 0.001}\n",
          "output_type": "stream"
        },
        {
          "name": "stderr",
          "text": "100%|██████████| 200/200 [00:17<00:00, 11.21it/s]\n",
          "output_type": "stream"
        },
        {
          "name": "stdout",
          "text": "{'epoch': 19, 'train_loss': 0.6099186033010483, 'eval_loss': 0.8757034325599671, 'train_ap_score': 0.8731356083133237, 'eval_ap_score': 0.775150722685409, 'lr': 0.001}\n",
          "output_type": "stream"
        },
        {
          "name": "stderr",
          "text": "100%|██████████| 200/200 [00:17<00:00, 11.25it/s]\n",
          "output_type": "stream"
        },
        {
          "name": "stdout",
          "text": "{'epoch': 20, 'train_loss': 0.5941305948793888, 'eval_loss': 0.8688247907161712, 'train_ap_score': 0.8785607045617182, 'eval_ap_score': 0.777929003136111, 'lr': 0.001}\n",
          "output_type": "stream"
        },
        {
          "name": "stderr",
          "text": "100%|██████████| 200/200 [00:17<00:00, 11.26it/s]\n",
          "output_type": "stream"
        },
        {
          "name": "stdout",
          "text": "{'epoch': 21, 'train_loss': 0.5718376690149307, 'eval_loss': 0.8655328357219696, 'train_ap_score': 0.8864053209309114, 'eval_ap_score': 0.7805650846553174, 'lr': 0.001}\n",
          "output_type": "stream"
        },
        {
          "name": "stderr",
          "text": "100%|██████████| 200/200 [00:17<00:00, 11.21it/s]\n",
          "output_type": "stream"
        },
        {
          "name": "stdout",
          "text": "{'epoch': 22, 'train_loss': 0.5539599032700062, 'eval_loss': 0.861277402639389, 'train_ap_score': 0.8922827820739135, 'eval_ap_score': 0.782748968048396, 'lr': 0.001}\n",
          "output_type": "stream"
        },
        {
          "name": "stderr",
          "text": "100%|██████████| 200/200 [00:17<00:00, 11.13it/s]\n",
          "output_type": "stream"
        },
        {
          "name": "stdout",
          "text": "{'epoch': 23, 'train_loss': 0.531681404709816, 'eval_loss': 0.8602645313739776, 'train_ap_score': 0.8999636871551127, 'eval_ap_score': 0.784249208304028, 'lr': 0.001}\n",
          "output_type": "stream"
        },
        {
          "name": "stderr",
          "text": "100%|██████████| 200/200 [00:17<00:00, 11.31it/s]\n",
          "output_type": "stream"
        },
        {
          "name": "stdout",
          "text": "{'epoch': 24, 'train_loss': 0.5139645451307296, 'eval_loss': 0.8544388675689697, 'train_ap_score': 0.905824141171775, 'eval_ap_score': 0.7867837257082436, 'lr': 0.001}\n",
          "output_type": "stream"
        },
        {
          "name": "stderr",
          "text": "100%|██████████| 200/200 [00:17<00:00, 11.27it/s]\n",
          "output_type": "stream"
        },
        {
          "name": "stdout",
          "text": "{'epoch': 25, 'train_loss': 0.4979251317679882, 'eval_loss': 0.8556257236003876, 'train_ap_score': 0.9109190947863499, 'eval_ap_score': 0.7875268928381463, 'lr': 0.001}\n",
          "output_type": "stream"
        },
        {
          "output_type": "display_data",
          "data": {
            "text/plain": "<IPython.core.display.HTML object>",
            "text/html": "Waiting for W&B process to finish... <strong style=\"color:green\">(success).</strong>"
          },
          "metadata": {}
        },
        {
          "output_type": "display_data",
          "data": {
            "text/plain": "VBox(children=(Label(value='0.001 MB of 0.001 MB uploaded (0.000 MB deduped)\\r'), FloatProgress(value=1.0, max…",
            "application/vnd.jupyter.widget-view+json": {
              "version_major": 2,
              "version_minor": 0,
              "model_id": "2d2cbbbef0fc4488a14a3fc6cd133ef7"
            }
          },
          "metadata": {}
        },
        {
          "output_type": "display_data",
          "data": {
            "text/plain": "<IPython.core.display.HTML object>",
            "text/html": "<style>\n    table.wandb td:nth-child(1) { padding: 0 10px; text-align: left ; width: auto;} td:nth-child(2) {text-align: left ; width: 100%}\n    .wandb-row { display: flex; flex-direction: row; flex-wrap: wrap; justify-content: flex-start; width: 100% }\n    .wandb-col { display: flex; flex-direction: column; flex-basis: 100%; flex: 1; padding: 10px; }\n    </style>\n<div class=\"wandb-row\"><div class=\"wandb-col\"><h3>Run history:</h3><br/><table class=\"wandb\"><tr><td>epoch</td><td>▁▁▂▂▂▂▃▃▃▄▄▄▅▅▅▅▆▆▆▇▇▇▇██</td></tr><tr><td>eval_ap_score</td><td>▁▃▄▅▅▆▆▆▇▇▇▇▇▇███████████</td></tr><tr><td>eval_loss</td><td>█▆▅▄▃▃▃▂▂▂▂▂▂▁▁▁▁▁▁▁▁▁▁▁▁</td></tr><tr><td>lr</td><td>▁▁▁▁▁▁▁▁▁▁▁▁▁▁▁▁▁▁▁▁▁▁▁▁▁</td></tr><tr><td>train_ap_score</td><td>▁▃▄▅▅▆▆▆▆▇▇▇▇▇▇▇▇████████</td></tr><tr><td>train_loss</td><td>█▆▅▄▄▄▃▃▃▃▂▂▂▂▂▂▂▂▂▁▁▁▁▁▁</td></tr></table><br/></div><div class=\"wandb-col\"><h3>Run summary:</h3><br/><table class=\"wandb\"><tr><td>epoch</td><td>25</td></tr><tr><td>eval_ap_score</td><td>0.78753</td></tr><tr><td>eval_loss</td><td>0.85563</td></tr><tr><td>lr</td><td>0.001</td></tr><tr><td>train_ap_score</td><td>0.91092</td></tr><tr><td>train_loss</td><td>0.49793</td></tr></table><br/></div></div>"
          },
          "metadata": {}
        },
        {
          "output_type": "display_data",
          "data": {
            "text/plain": "<IPython.core.display.HTML object>",
            "text/html": " View run <strong style=\"color:#cdcd00\">hopeful-sweep-11</strong> at: <a href='https://wandb.ai/vanshg/wandb_demo/runs/e2i88iuo' target=\"_blank\">https://wandb.ai/vanshg/wandb_demo/runs/e2i88iuo</a><br/>Synced 6 W&B file(s), 0 media file(s), 0 artifact file(s) and 0 other file(s)"
          },
          "metadata": {}
        },
        {
          "output_type": "display_data",
          "data": {
            "text/plain": "<IPython.core.display.HTML object>",
            "text/html": "Find logs at: <code>./wandb/run-20230527_102407-e2i88iuo/logs</code>"
          },
          "metadata": {}
        },
        {
          "name": "stderr",
          "text": "\u001b[34m\u001b[1mwandb\u001b[0m: Agent Starting Run: 8ae9xk6c with config:\n\u001b[34m\u001b[1mwandb\u001b[0m: \tcriterion: ce\n\u001b[34m\u001b[1mwandb\u001b[0m: \tgpu_id: 0\n\u001b[34m\u001b[1mwandb\u001b[0m: \tlr: 0.001\n\u001b[34m\u001b[1mwandb\u001b[0m: \tmodel_type: pretrained\n\u001b[34m\u001b[1mwandb\u001b[0m: \tnum_epochs: 25\n\u001b[34m\u001b[1mwandb\u001b[0m: \toptimizer: RMSprop\n\u001b[34m\u001b[1mwandb\u001b[0m: \tscheduler_patience: 3\n\u001b[34m\u001b[1mwandb\u001b[0m: \tscheduler_thresh: 0.01\n",
          "output_type": "stream"
        },
        {
          "output_type": "display_data",
          "data": {
            "text/plain": "<IPython.core.display.HTML object>",
            "text/html": "Tracking run with wandb version 0.15.3"
          },
          "metadata": {}
        },
        {
          "output_type": "display_data",
          "data": {
            "text/plain": "<IPython.core.display.HTML object>",
            "text/html": "Run data is saved locally in <code>/kaggle/working/wandb/run-20230527_103344-8ae9xk6c</code>"
          },
          "metadata": {}
        },
        {
          "output_type": "display_data",
          "data": {
            "text/plain": "<IPython.core.display.HTML object>",
            "text/html": "Syncing run <strong><a href='https://wandb.ai/vanshg/wandb_demo/runs/8ae9xk6c' target=\"_blank\">crisp-sweep-12</a></strong> to <a href='https://wandb.ai/vanshg/wandb_demo' target=\"_blank\">Weights & Biases</a> (<a href='https://wandb.me/run' target=\"_blank\">docs</a>)<br/>Sweep page: <a href='https://wandb.ai/vanshg/wandb_demo/sweeps/xmxmiut3' target=\"_blank\">https://wandb.ai/vanshg/wandb_demo/sweeps/xmxmiut3</a>"
          },
          "metadata": {}
        },
        {
          "output_type": "display_data",
          "data": {
            "text/plain": "<IPython.core.display.HTML object>",
            "text/html": " View project at <a href='https://wandb.ai/vanshg/wandb_demo' target=\"_blank\">https://wandb.ai/vanshg/wandb_demo</a>"
          },
          "metadata": {}
        },
        {
          "output_type": "display_data",
          "data": {
            "text/plain": "<IPython.core.display.HTML object>",
            "text/html": " View sweep at <a href='https://wandb.ai/vanshg/wandb_demo/sweeps/xmxmiut3' target=\"_blank\">https://wandb.ai/vanshg/wandb_demo/sweeps/xmxmiut3</a>"
          },
          "metadata": {}
        },
        {
          "output_type": "display_data",
          "data": {
            "text/plain": "<IPython.core.display.HTML object>",
            "text/html": " View run at <a href='https://wandb.ai/vanshg/wandb_demo/runs/8ae9xk6c' target=\"_blank\">https://wandb.ai/vanshg/wandb_demo/runs/8ae9xk6c</a>"
          },
          "metadata": {}
        },
        {
          "name": "stderr",
          "text": "/opt/conda/lib/python3.10/site-packages/torchvision/models/_utils.py:208: UserWarning: The parameter 'pretrained' is deprecated since 0.13 and may be removed in the future, please use 'weights' instead.\n  warnings.warn(\n/opt/conda/lib/python3.10/site-packages/torchvision/models/_utils.py:223: UserWarning: Arguments other than a weight enum or `None` for 'weights' are deprecated since 0.13 and may be removed in the future. The current behavior is equivalent to passing `weights=ResNet18_Weights.IMAGENET1K_V1`. You can also use `weights=ResNet18_Weights.DEFAULT` to get the most up-to-date weights.\n  warnings.warn(msg)\n100%|██████████| 200/200 [00:19<00:00, 10.23it/s]\n",
          "output_type": "stream"
        },
        {
          "name": "stdout",
          "text": "{'epoch': 1, 'train_loss': 1.5253447490930556, 'eval_loss': 0.9600108480453491, 'train_ap_score': 0.513161666997201, 'eval_ap_score': 0.7510793245838109, 'lr': 0.001}\n",
          "output_type": "stream"
        },
        {
          "name": "stderr",
          "text": "100%|██████████| 200/200 [00:18<00:00, 11.02it/s]\n",
          "output_type": "stream"
        },
        {
          "name": "stdout",
          "text": "{'epoch': 2, 'train_loss': 0.7762189570069313, 'eval_loss': 0.8645369911193848, 'train_ap_score': 0.8085931647287168, 'eval_ap_score': 0.8119347044044606, 'lr': 0.001}\n",
          "output_type": "stream"
        },
        {
          "name": "stderr",
          "text": "100%|██████████| 200/200 [00:17<00:00, 11.18it/s]\n",
          "output_type": "stream"
        },
        {
          "name": "stdout",
          "text": "{'epoch': 3, 'train_loss': 0.6405092135071755, 'eval_loss': 0.7232729578018189, 'train_ap_score': 0.8624564883165251, 'eval_ap_score': 0.8484830952284881, 'lr': 0.001}\n",
          "output_type": "stream"
        },
        {
          "name": "stderr",
          "text": "100%|██████████| 200/200 [00:17<00:00, 11.12it/s]\n",
          "output_type": "stream"
        },
        {
          "name": "stdout",
          "text": "{'epoch': 4, 'train_loss': 0.44891532734036443, 'eval_loss': 0.6368511122465134, 'train_ap_score': 0.9188402502065651, 'eval_ap_score': 0.875456563899578, 'lr': 0.001}\n",
          "output_type": "stream"
        },
        {
          "name": "stderr",
          "text": "100%|██████████| 200/200 [00:17<00:00, 11.11it/s]\n",
          "output_type": "stream"
        },
        {
          "name": "stdout",
          "text": "{'epoch': 5, 'train_loss': 0.3520865136384964, 'eval_loss': 0.7091747426986694, 'train_ap_score': 0.9461703605800095, 'eval_ap_score': 0.8678605951523661, 'lr': 0.001}\n",
          "output_type": "stream"
        },
        {
          "name": "stderr",
          "text": "100%|██████████| 200/200 [00:17<00:00, 11.19it/s]\n",
          "output_type": "stream"
        },
        {
          "name": "stdout",
          "text": "{'epoch': 6, 'train_loss': 0.25639464631676673, 'eval_loss': 0.6576308274269104, 'train_ap_score': 0.9677787648812073, 'eval_ap_score': 0.8837031028552678, 'lr': 0.001}\n",
          "output_type": "stream"
        },
        {
          "name": "stderr",
          "text": "100%|██████████| 200/200 [00:17<00:00, 11.16it/s]\n",
          "output_type": "stream"
        },
        {
          "name": "stdout",
          "text": "{'epoch': 7, 'train_loss': 0.19973922945559025, 'eval_loss': 0.7449502551555633, 'train_ap_score': 0.9789708025779695, 'eval_ap_score': 0.8731885412092464, 'lr': 0.001}\n",
          "output_type": "stream"
        },
        {
          "name": "stderr",
          "text": "100%|██████████| 200/200 [00:18<00:00, 11.09it/s]\n",
          "output_type": "stream"
        },
        {
          "name": "stdout",
          "text": "{'epoch': 8, 'train_loss': 0.14976179296150804, 'eval_loss': 0.7669651484489441, 'train_ap_score': 0.9874109448398407, 'eval_ap_score': 0.8752431000013722, 'lr': 0.001}\n",
          "output_type": "stream"
        },
        {
          "name": "stderr",
          "text": "100%|██████████| 200/200 [00:17<00:00, 11.15it/s]\n",
          "output_type": "stream"
        },
        {
          "name": "stdout",
          "text": "{'epoch': 9, 'train_loss': 0.05279349066782743, 'eval_loss': 0.8170440399646759, 'train_ap_score': 0.9981918726996579, 'eval_ap_score': 0.8969363607954997, 'lr': 0.0001}\n",
          "output_type": "stream"
        },
        {
          "name": "stderr",
          "text": "100%|██████████| 200/200 [00:17<00:00, 11.15it/s]\n",
          "output_type": "stream"
        },
        {
          "name": "stdout",
          "text": "{'epoch': 10, 'train_loss': 0.018624372686317656, 'eval_loss': 1.0135586738586426, 'train_ap_score': 0.9996556250135491, 'eval_ap_score': 0.8936858946544941, 'lr': 0.0001}\n",
          "output_type": "stream"
        },
        {
          "name": "stderr",
          "text": "100%|██████████| 200/200 [00:18<00:00, 11.09it/s]\n",
          "output_type": "stream"
        },
        {
          "name": "stdout",
          "text": "{'epoch': 11, 'train_loss': 0.009322105975297746, 'eval_loss': 1.1563803899288176, 'train_ap_score': 0.9999304934426526, 'eval_ap_score': 0.8928196811225566, 'lr': 0.0001}\n",
          "output_type": "stream"
        },
        {
          "name": "stderr",
          "text": " 76%|███████▌  | 152/200 [00:13<00:04, 10.58it/s]",
          "output_type": "stream"
        }
      ]
    },
    {
      "cell_type": "code",
      "source": [
        "### Step 3\n",
        "# Notice in above command we mentioned an argument named \"function\"\n",
        "# Wandb agents must trigger a function where they can initiate a socket to wandb and get a config.\n",
        "# So, we will use the following sweep_agent_manager function here-\n",
        "\n",
        "def sweep_agent_manager():\n",
        "    wandb.init()\n",
        "    config = dict(wandb.config)\n",
        "    run_name = f\"{config['model_type']}_{config['optimizer']}_{config['lr']}\"\n",
        "    wandb.run.name = run_name\n",
        "    trigger_training(config)\n"
      ],
      "metadata": {
        "id": "bqY9TPyJZTx1",
        "execution": {
          "iopub.status.busy": "2023-05-27T08:47:23.511980Z",
          "iopub.execute_input": "2023-05-27T08:47:23.512349Z",
          "iopub.status.idle": "2023-05-27T08:47:23.521849Z",
          "shell.execute_reply.started": "2023-05-27T08:47:23.512318Z",
          "shell.execute_reply": "2023-05-27T08:47:23.518997Z"
        },
        "trusted": true
      },
      "execution_count": null,
      "outputs": []
    },
    {
      "cell_type": "code",
      "source": [
        "### Done.\n",
        "# Now execute your training script on multiple machines.\n",
        "# Each run will request the config file from wandb and related experiments will be logged.\n",
        "# \n",
        "# NOTE!! wandb.log(data_to_log) must be present inside the code!! Else there is no meaning to sweep.\n"
      ],
      "metadata": {
        "id": "alHqJ4mQZTtM"
      },
      "execution_count": null,
      "outputs": []
    },
    {
      "cell_type": "markdown",
      "source": [
        "# ------------------------------ Ends ------------------------------"
      ],
      "metadata": {
        "id": "aNIxPqn_OGTU"
      }
    }
  ]
}